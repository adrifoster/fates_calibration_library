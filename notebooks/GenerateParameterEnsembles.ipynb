{
 "cells": [
  {
   "cell_type": "markdown",
   "id": "6d8b7d37-1a85-428d-9a08-76ff0a12fdc5",
   "metadata": {},
   "source": [
    "# Generate Parameter Ensembles\n",
    "This script can create FATES parameter ensembles for a min/max one-at-a-time (OAAT) or latin hypercube (LH) experiments.\n",
    "\n",
    "The main information required are a default FATES parameter file, an excel file with information about any parameters to be calibrated, and a list of parameters to include in the ensemble. \n",
    "\n"
   ]
  },
  {
   "cell_type": "code",
   "execution_count": 1,
   "id": "e91ae370-0f54-4d65-b730-d67b7b07f724",
   "metadata": {},
   "outputs": [],
   "source": [
    "import os\n",
    "import pandas as pd\n",
    "import xarray as xr\n",
    "import fates_calibration_library.parameter_generation as param\n",
    "\n",
    "from scipy.stats import qmc"
   ]
  },
  {
   "cell_type": "code",
   "execution_count": 2,
   "id": "d4bfa5cf-bcc0-4682-88b3-36a8841b3d5a",
   "metadata": {},
   "outputs": [],
   "source": [
    "# top directory\n",
    "param_dir = '/glade/work/afoster/FATES_calibration/parameter_files'\n",
    "\n",
    "# default parameter file\n",
    "fates_param_name = \"fates_params_default_sci.1.81.1_api.38.0.0_crops_vai.nc\"\n",
    "\n",
    "# excel file with information about parameters\n",
    "param_list_name = \"param_list_sci.1.81.1_api.38.0.0.xls\"\n",
    "\n",
    "# list of parameters to include in OAAT ensemble\n",
    "oaat_params_file = 'oaat_params.csv'\n",
    "\n",
    "# list of parameters to include in LH ensemble\n",
    "lh_params_file = 'lh_params.csv'\n",
    "\n",
    "# directory to place OAAT files\n",
    "oaat_dir = os.path.join(param_dir, 'fates_oaat')\n",
    "\n",
    "# directory to place LH files\n",
    "lh_dir = os.path.join(param_dir, 'fates_lh')"
   ]
  },
  {
   "cell_type": "code",
   "execution_count": 3,
   "id": "29ec738e-8b35-477c-bd07-9df692b4112d",
   "metadata": {},
   "outputs": [],
   "source": [
    "# get files\n",
    "param_list_file = os.path.join(param_dir, param_list_name)\n",
    "default_param_data = xr.open_dataset(os.path.join(param_dir, fates_param_name))\n",
    "param_dat = param.get_param_dictionary(param_list_file)"
   ]
  },
  {
   "cell_type": "code",
   "execution_count": 4,
   "id": "ed7a0933-5c5d-4cad-96c7-7a1096375c6e",
   "metadata": {},
   "outputs": [],
   "source": [
    "oaat = False\n",
    "lh = True"
   ]
  },
  {
   "cell_type": "code",
   "execution_count": 5,
   "id": "df8db742-1936-4ab1-952a-46803293222e",
   "metadata": {},
   "outputs": [],
   "source": [
    "if oaat:\n",
    "    # get list of parameters for OAAT experiment\n",
    "    oaat_params = pd.read_csv(os.path.join(param_dir, oaat_params_file))['fates_parameter_name'].values\n",
    "    \n",
    "    # oaat ensemble\n",
    "    param.create_oaat_param_ensemble(param_dat, oaat_params, default_param_data,\n",
    "                                     oaat_dir, 'FATES_OAAT')\n",
    "    oaat_key = pd.read_csv(os.path.join(oaat_dir, 'fates_oaat_key.csv'))"
   ]
  },
  {
   "cell_type": "code",
   "execution_count": 8,
   "id": "19838ea8-a3c6-4e4e-8756-7335b043a9e1",
   "metadata": {},
   "outputs": [],
   "source": [
    "if lh:\n",
    "    # get list of parameters for LH experiment\n",
    "    lh_params = pd.read_csv(os.path.join(param_dir, lh_params_file))['fates_parameter_name'].values\n",
    "\n",
    "    # lh ensemble\n",
    "    param.create_lh_param_ensemble(lh_params, 500, default_param_data,\n",
    "                                   param_dat, lh_dir, 'FATES_LH')\n",
    "    # check the key just in case\n",
    "    lh_key = pd.read_csv(os.path.join(lh_dir, 'fates_lh_key.csv'), index_col=0)"
   ]
  },
  {
   "cell_type": "code",
   "execution_count": null,
   "id": "44520293-aab5-4cc7-8340-db3ea848262b",
   "metadata": {},
   "outputs": [],
   "source": []
  }
 ],
 "metadata": {
  "kernelspec": {
   "display_name": "Python [conda env:fates_calibration]",
   "language": "python",
   "name": "conda-env-fates_calibration-py"
  },
  "language_info": {
   "codemirror_mode": {
    "name": "ipython",
    "version": 3
   },
   "file_extension": ".py",
   "mimetype": "text/x-python",
   "name": "python",
   "nbconvert_exporter": "python",
   "pygments_lexer": "ipython3",
   "version": "3.11.10"
  }
 },
 "nbformat": 4,
 "nbformat_minor": 5
}
