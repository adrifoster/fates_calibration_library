{
 "cells": [
  {
   "cell_type": "markdown",
   "id": "2d1cd44b-e0b8-48ba-8997-6443ad6c0888",
   "metadata": {},
   "source": [
    "# Test A Single PFT to Ensure Our Emulation and Calibration Works"
   ]
  },
  {
   "cell_type": "code",
   "execution_count": null,
   "id": "4925c538-10a2-4eb2-babc-09b691db69dd",
   "metadata": {},
   "outputs": [],
   "source": [
    "import os\n",
    "import pandas as pd\n",
    "import numpy as np\n",
    "import fates_calibration.train_emulators as tr\n",
    "import fates_calibration.emulation_functions as emf\n",
    "from fates_calibration.FATES_calibration_constants import FATES_PFT_IDS, FATES_INDEX, IMPLAUS_TOL\n",
    "\n",
    "import matplotlib.pyplot as plt"
   ]
  },
  {
   "cell_type": "markdown",
   "id": "54751c32-d46d-4159-b4ca-f2f481748d2f",
   "metadata": {},
   "source": [
    "## Set Up\n",
    "Just setting some values"
   ]
  },
  {
   "cell_type": "code",
   "execution_count": null,
   "id": "eaf3e931-7c0d-4470-b404-887fbbe1701b",
   "metadata": {},
   "outputs": [],
   "source": [
    "# mesh file and land mask files used in the simulation\n",
    "mesh_file_dir = '/glade/work/afoster/FATES_calibration/mesh_files'\n",
    "land_mask_file = os.path.join(mesh_file_dir, 'dominant_pft_grid_update.nc')\n",
    "mesh_file = os.path.join(mesh_file_dir, 'dominant_pft_grid_update_mesh.nc')\n",
    "\n",
    "# post-processed ensemble\n",
    "ensemble_dir = '/glade/work/afoster/FATES_calibration/history_files'\n",
    "ensemble_file = os.path.join(ensemble_dir, 'fates_lh_dominant_gs1.nc')\n",
    "\n",
    "# latin hypercube key\n",
    "lhc_key = '/glade/work/afoster/FATES_calibration/parameter_files/fates_param_lh/fates_lh_key.csv'\n",
    "\n",
    "# emulator directory\n",
    "emulator_dir = '/glade/u/home/afoster/FATES_Calibration/pft_output_gs1/emulators'\n",
    "\n",
    "# where to get grid_1dlat and grid_1dlon\n",
    "ds0_file = '/glade/work/afoster/FATES_calibration/history_files/fates_lh_dominant_gso_vcmax/ctsm60SP_fates_dominant_pft_gs0_vcmax_FATES_LH_000.nc'\n",
    "\n",
    "# variables to emulate and test/train split\n",
    "vars = ['GPP', 'EFLX_LH_TOT', 'FSH', 'EF']\n",
    "n_test = 50\n",
    "\n",
    "# observations\n",
    "obs_file = '/glade/work/afoster/FATES_calibration/mesh_files/dominant_pft_grid_update.csv'\n",
    "obs_df_all = pd.read_csv(obs_file)\n",
    "pfts = np.unique(obs_df_all.pft)"
   ]
  },
  {
   "cell_type": "markdown",
   "id": "0dee3996-f0fe-444b-80f6-d956d3d95988",
   "metadata": {},
   "source": [
    "## PFT\n",
    "Which pft to check"
   ]
  },
  {
   "cell_type": "code",
   "execution_count": null,
   "id": "c6de276b-40d5-4f42-bf5f-14497d1bff7e",
   "metadata": {},
   "outputs": [],
   "source": [
    "pft = 'broadleaf_evergreen_tropical_tree'\n",
    "pft_id = FATES_PFT_IDS[pft]"
   ]
  },
  {
   "cell_type": "code",
   "execution_count": null,
   "id": "f4fe2890-8a0e-4ac9-b8c9-bc17db801d87",
   "metadata": {},
   "outputs": [],
   "source": [
    "fig_dir = f'/glade/u/home/afoster/FATES_Calibration/pft_output_gs1/{pft_id}_outputs'\n",
    "if not os.path.isdir(fig_dir):\n",
    "    os.mkdir(fig_dir)"
   ]
  },
  {
   "cell_type": "code",
   "execution_count": null,
   "id": "ae3ff83f-7e26-492a-9be3-342800ae9e85",
   "metadata": {},
   "outputs": [],
   "source": [
    "obs_df = obs_df_all[obs_df_all.pft == pft]\n",
    "lhkey_df = pd.read_csv(lhc_key)\n",
    "lhkey_df = lhkey_df.drop(columns=['ensemble'])\n",
    "param_names = lhkey_df.columns"
   ]
  },
  {
   "cell_type": "markdown",
   "id": "639b0972-b0bf-44c9-a548-72305c67043b",
   "metadata": {},
   "source": [
    "## Train and Test Emulators"
   ]
  },
  {
   "cell_type": "markdown",
   "id": "b341b003-c77e-474c-b55d-7f5deaef7c1f",
   "metadata": {},
   "source": [
    "### First Train"
   ]
  },
  {
   "cell_type": "code",
   "execution_count": null,
   "id": "ae6baf47-aee2-4d3b-99a6-2d3684b08fd6",
   "metadata": {},
   "outputs": [],
   "source": [
    "tr.train(pft, land_mask_file, mesh_file, ensemble_file, vars, lhc_key, n_test, emulator_dir, fig_dir, ds0_file)"
   ]
  },
  {
   "cell_type": "markdown",
   "id": "c013be4f-a727-4078-9d9f-43c21901154d",
   "metadata": {},
   "source": [
    "### Now Load Back in and Test"
   ]
  },
  {
   "cell_type": "code",
   "execution_count": null,
   "id": "5077ff93-4079-4e69-92db-f022742b237e",
   "metadata": {},
   "outputs": [],
   "source": [
    "emulators = emf.load_all_emulators(pft_id, emulator_dir, vars)"
   ]
  },
  {
   "cell_type": "code",
   "execution_count": null,
   "id": "2743666e-f7ea-494f-9ba5-c2314a4fb699",
   "metadata": {},
   "outputs": [],
   "source": [
    "## Sensitivity Analyses\n",
    "sens_df, oaat_df = emf.sensitivity_analysis(emulators, param_names, pft_id, fig_dir, plot_figs=True)"
   ]
  },
  {
   "cell_type": "code",
   "execution_count": null,
   "id": "d1ac2d84-9952-4d39-94d8-af447df7b517",
   "metadata": {},
   "outputs": [],
   "source": [
    "# Sample Emulator\n",
    "sample_df = emf.sample_emulators(emulators, param_names, 10000, obs_df, fig_dir, pft_id, plot_figs=True)"
   ]
  },
  {
   "cell_type": "code",
   "execution_count": null,
   "id": "8777acbd-2dee-4075-b169-ab57f8caeb93",
   "metadata": {},
   "outputs": [],
   "source": [
    "# Check variables that should be calibrated\n",
    "pft_vars = []\n",
    "for var in [f\"{var}_implausibility\" for var in vars]:\n",
    "    sample_sub = sample_df.where(sample_df[var] < 1.0)\n",
    "    sample_sub = sample_sub.dropna()\n",
    "    \n",
    "    prop_in = len(sample_sub)/len(sample_df)*100.0\n",
    "    print(f\"{prop_in}% of emulated sample falls within observational tolerance for {var}.\")\n",
    "    if prop_in < 90.0:\n",
    "        if prop_in > 0.0:\n",
    "            pft_vars.append(var)"
   ]
  },
  {
   "cell_type": "code",
   "execution_count": null,
   "id": "c22068d7-a3ec-4cdd-90af-a359ea85e1fa",
   "metadata": {},
   "outputs": [],
   "source": [
    "pft_vars"
   ]
  },
  {
   "cell_type": "markdown",
   "id": "e14e3d66-f662-4900-a9d8-fff3c09ddebe",
   "metadata": {},
   "source": [
    "## Calibrate"
   ]
  },
  {
   "cell_type": "code",
   "execution_count": null,
   "id": "7cd8be5b-9dd1-44ba-add9-88392687f57c",
   "metadata": {},
   "outputs": [],
   "source": [
    "def choose_params(sample_df, sens_df, vars, implausibility_tol, sens_tol):\n",
    "\n",
    "    # subset out anything over implausibility tolerance\n",
    "    implaus_vars = [f\"{var}_implausibility\" for var in vars]\n",
    "    sample_df['implaus_sum'] = emf.calculate_implaus_sum(sample_df, implaus_vars)\n",
    "\n",
    "    implaus_diff = np.max(sample_df.implaus_sum) - np.min(sample_df.implaus_sum)\n",
    "    if implaus_diff <= 0.5:\n",
    "       return None\n",
    "    \n",
    "    sample_sub = emf.subset_sample(sample_df, implaus_vars, implausibility_tol)\n",
    "    if sample_sub.isnull().values.any():\n",
    "        print(\"ERROR ERROR ERROR\")\n",
    "        pd.write_csv(sample_df, 'sample_df.csv')\n",
    "        pd.write_csv(sens_df, 'sens_df.csv')\n",
    "        \n",
    "    \n",
    "    # grab only the sensitive parameters\n",
    "    sensitive_pars = emf.find_sensitive_parameters(sens_df, vars, sens_tol)\n",
    "\n",
    "    if sample_sub.shape[0] > 0 and len(sensitive_pars) > 0:\n",
    "        best_sample = emf.find_best_parameter_sets(sample_sub)\n",
    "        sample_out = best_sample.loc[:, sensitive_pars]\n",
    "    \n",
    "        return sample_out.reset_index(drop=True)\n",
    "    else:\n",
    "        return None\n",
    "    \n",
    "def calibration_wave(emulators, param_names, n_samp, obs_df, pft_id, out_dir, wave,\n",
    "                     implausibility_tol, sens_tol, update_vars=None, default_pars=None,\n",
    "                     plot_figs=False):\n",
    "    \n",
    "    sens_df, oaat_df = emf.sensitivity_analysis(emulators, param_names, pft_id, out_dir, wave,\n",
    "                                   update_vars=update_vars, default_pars=default_pars,\n",
    "                                   plot_figs=plot_figs)\n",
    "    \n",
    "    sample_df = emf.sample_emulators(emulators, param_names, n_samp, obs_df, out_dir, pft_id,\n",
    "                     update_vars=update_vars, default_pars=default_pars,\n",
    "                     plot_figs=plot_figs)\n",
    "    \n",
    "    best_sample = choose_params(sample_df, sens_df, list(emulators.keys()),\n",
    "                                implausibility_tol, sens_tol)\n",
    "\n",
    "    return best_sample\n",
    "\n",
    "\n",
    "def find_best_parameters(num_waves, emulators, param_names, n_samp, obs_df, pft_id, out_dir,\n",
    "        implausibility_tol, sens_tol, default_pars=None):\n",
    "\n",
    "    update_vars = None\n",
    "    for wave in range(num_waves):\n",
    "        if wave == 0:\n",
    "            best_sample = calibration_wave(emulators, param_names, n_samp,\n",
    "                                           obs_df, pft_id, out_dir, wave,\n",
    "                                           implausibility_tol, sens_tol,\n",
    "                                           update_vars=None, default_pars=default_pars)\n",
    "        else:\n",
    "            if best_sample is not None:\n",
    "                if update_vars is None:\n",
    "                    update_vars = best_sample\n",
    "                else:\n",
    "                    update_vars = pd.concat([update_vars, best_sample], axis=1)\n",
    "                best_sample = calibration_wave(emulators, param_names, n_samp,\n",
    "                                               obs_df, pft_id, out_dir, wave,\n",
    "                                               implausibility_tol, sens_tol,\n",
    "                                               update_vars=update_vars, \n",
    "                                               default_pars=default_pars)\n",
    "            else:\n",
    "                return update_vars, wave\n",
    "    return update_vars, wave"
   ]
  },
  {
   "cell_type": "code",
   "execution_count": null,
   "id": "48691719-4543-4226-be88-882dcb4af1d1",
   "metadata": {},
   "outputs": [],
   "source": [
    "top_dir = \"/glade/u/home/afoster/FATES_Calibration/pft_output_gs1\"\n",
    "out_dir = os.path.join(top_dir, f\"{pft_id}_outputs\")\n",
    "sample_dir = os.path.join(out_dir, 'samples')"
   ]
  },
  {
   "cell_type": "code",
   "execution_count": null,
   "id": "3cbc0484-5816-47e3-955e-b8a2c137d89f",
   "metadata": {},
   "outputs": [],
   "source": [
    "pft_var_file = '/glade/u/home/afoster/FATES_Calibration/pft_vars_dompft_gs1.csv'\n",
    "var_dat = pd.read_csv(pft_var_file)\n",
    "vars_pft = var_dat[var_dat.pft == pft].vars.values.tolist()\n",
    "vars = [var.replace('_implausibility', '') for var in vars_pft]"
   ]
  },
  {
   "cell_type": "code",
   "execution_count": null,
   "id": "f261db6d-eefd-44a1-b790-7060b4103853",
   "metadata": {},
   "outputs": [],
   "source": [
    "emulators = emf.load_all_emulators(pft_id, emulator_dir, vars)"
   ]
  },
  {
   "cell_type": "code",
   "execution_count": null,
   "id": "4f7e7256-8a48-4418-b348-2538de91f2b5",
   "metadata": {},
   "outputs": [],
   "source": [
    "best_param_set, wave = find_best_parameters(10, emulators, param_names, 100000,\n",
    "                                              obs_df, pft_id, out_dir, IMPLAUS_TOL[pft],\n",
    "                                              0.1, default_pars=None)"
   ]
  },
  {
   "cell_type": "code",
   "execution_count": null,
   "id": "7601e357-b31c-4da1-b333-b71e65ffd61d",
   "metadata": {},
   "outputs": [],
   "source": [
    "best_param_set"
   ]
  },
  {
   "cell_type": "code",
   "execution_count": null,
   "id": "fff3d0f3-a335-481e-9b57-6e64ea450747",
   "metadata": {},
   "outputs": [],
   "source": [
    "wave"
   ]
  },
  {
   "cell_type": "code",
   "execution_count": null,
   "id": "f4b445d2-6da5-4d24-8d5f-e4390d9d338a",
   "metadata": {},
   "outputs": [],
   "source": []
  }
 ],
 "metadata": {
  "kernelspec": {
   "display_name": "Python [conda env:fates_calibration]",
   "language": "python",
   "name": "conda-env-fates_calibration-py"
  },
  "language_info": {
   "codemirror_mode": {
    "name": "ipython",
    "version": 3
   },
   "file_extension": ".py",
   "mimetype": "text/x-python",
   "name": "python",
   "nbconvert_exporter": "python",
   "pygments_lexer": "ipython3",
   "version": "3.11.10"
  }
 },
 "nbformat": 4,
 "nbformat_minor": 5
}
