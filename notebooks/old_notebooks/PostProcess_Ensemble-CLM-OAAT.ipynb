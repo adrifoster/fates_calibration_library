{
 "cells": [
  {
   "cell_type": "code",
   "execution_count": 34,
   "id": "ea9a8327-0eea-4d6f-9fc5-077d2439906d",
   "metadata": {},
   "outputs": [],
   "source": [
    "def calculate_vars(da, biome, domain, land_area, cf_area, cf_time, units):\n",
    "    \n",
    "    mean_val = annual_mean(area_mean(da, biome, domain, cf_area, land_area), cf_time)\n",
    "\n",
    "    average_vals = mean_val.mean(dim='year') \n",
    "    interannual_mean = mean_val.std(dim='year')\n",
    "\n",
    "    data_var = da.name\n",
    "\n",
    "    # save the reduced data\n",
    "    out = xr.Dataset()\n",
    "    out[f'{data_var}_mean'] = average_vals\n",
    "    out[f'{data_var}_mean'].attrs= {'units': units,\n",
    "                                 'long_name': da.attrs['long_name']}\n",
    "    out[f'{data_var}_iav']  = interannual_mean\n",
    "    out[f'{data_var}_iav'].attrs= {'units': units,\n",
    "                                'long_name': da.attrs['long_name']}\n",
    "\n",
    "\n",
    "    return out"
   ]
  },
  {
   "cell_type": "code",
   "execution_count": 36,
   "id": "1eaa68c2-e7ab-4050-b02d-19b752fc258e",
   "metadata": {},
   "outputs": [],
   "source": [
    "def combine_history_vars(postp_dir, whit, vars):\n",
    "    \n",
    "    files = sorted([os.path.join(postp_dir, f) for f in os.listdir(postp_dir)])\n",
    "    ds = get_ensemble(files, whit)\n",
    "    ds = ds.chunk({'gridcell': 20, 'ens': 20, 'time': 20})\n",
    "    \n",
    "    data_vars = []\n",
    "    for var in vars:\n",
    "        var_ds = calculate_vars(ds[var], ds.biome, 'global', land_area,\n",
    "                                cfs_area[var], cfs_time[var], var_units[var])\n",
    "        var_ds['parameter'] = ds.parameter\n",
    "        var_ds['minmax'] = ds.minmax\n",
    "        data_vars.append(var_ds)\n",
    "    ensemble_ds = xr.merge(data_vars)\n",
    "\n",
    "    return ensemble_ds"
   ]
  },
  {
   "cell_type": "code",
   "execution_count": 42,
   "id": "5d09106b-21f3-4281-af24-2960d8c39cc1",
   "metadata": {},
   "outputs": [],
   "source": [
    "clm_param_key_file = '/glade/work/afoster/FATES_calibration/parameter_files/clm6sp_oaat.csv' \n",
    "clm_param_key = pd.read_csv(clm_param_key_file, header=None)\n",
    "clm_param_key.columns = ['key', 'param', 'minmax']\n",
    "\n",
    "fates_param_key_file = '/glade/work/afoster/FATES_calibration/parameter_files/fates_param_oaat/fates_oaat_key.csv'\n",
    "fates_param_key = pd.read_csv(fates_param_key_file, index_col=0)\n",
    "fates_param_key.columns = ['key', 'minmax', 'param']"
   ]
  },
  {
   "cell_type": "code",
   "execution_count": 43,
   "id": "edac6cbe-dad1-4bd5-a902-9ea6df6a1ad1",
   "metadata": {},
   "outputs": [],
   "source": [
    "file_dict = {'clm_hydro': \n",
    "                {'top_dir': '/glade/derecho/scratch/afoster/FATES_calibration/ctsm_sp_oaat/archive',\n",
    "                'postp_dir': '/glade/work/afoster/FATES_calibration/history_files/ctsm_sp_oaat',\n",
    "                'out_file': '/glade/work/afoster/FATES_calibration/history_files/ctsm_sp_oaat.nc',\n",
    "                'default_case': 'ctsm60SP_bigleaf_sparsegrid',\n",
    "                'default_file': '/glade/work/afoster/FATES_calibration/history_files/ctsm_sp_default.nc',\n",
    "                'fates_params': False,\n",
    "                'fates': False},\n",
    "            'clm_btran':\n",
    "                {'top_dir': '/glade/derecho/scratch/afoster/FATES_calibration/ctsm_sp_oaat_btran/archive',\n",
    "                'postp_dir': '/glade/work/afoster/FATES_calibration/history_files/ctsm_sp_oaat_btran',\n",
    "                'out_file': '/glade/work/afoster/FATES_calibration/history_files/ctsm_sp_oaat_btran.nc',\n",
    "                'default_case': 'ctsm60SP_bigleaf_sparsegrid_btran',\n",
    "                'default_file': '/glade/work/afoster/FATES_calibration/history_files/ctsm_sp_default_btran.nc',\n",
    "                'fates_params': False,\n",
    "                'fates': False},\n",
    "            'fates_oaat':\n",
    "                {'top_dir': '/glade/derecho/scratch/afoster/FATES_calibration/fates_sp_oaat/archive',\n",
    "                'postp_dir': '/glade/work/afoster/FATES_calibration/history_files/fates_sp_oaat',\n",
    "                'out_file': '/glade/work/afoster/FATES_calibration/history_files/fates_sp_oaat.nc',\n",
    "                'default_case': 'ctsm60SP_fates_sparsegrid',\n",
    "                'default_file': '/glade/work/afoster/FATES_calibration/history_files/fates_sp_oaat_default.nc',\n",
    "                'fates_params': True,\n",
    "                'fates': True},\n",
    "            'fates_clmpars_oaat':\n",
    "                {'top_dir': '/glade/derecho/scratch/afoster/FATES_calibration/fates_clmpars_sp_oaat/archive',\n",
    "                'postp_dir': '/glade/work/afoster/FATES_calibration/history_files/fates_clmpars_sp_oaat',\n",
    "                'out_file': '/glade/work/afoster/FATES_calibration/history_files/fates_clmpars_sp_oaat.nc',\n",
    "                'default_case': None,\n",
    "                'default_file': None,\n",
    "                'fates_params': False,\n",
    "                'fates': True},\n",
    "            }"
   ]
  },
  {
   "cell_type": "code",
   "execution_count": 49,
   "id": "588b26ee-403c-4fee-aef7-b1ed76384076",
   "metadata": {},
   "outputs": [],
   "source": [
    "simulation = 'fates_clmpars_oaat'"
   ]
  },
  {
   "cell_type": "code",
   "execution_count": 53,
   "id": "2271869f-99e4-4990-b541-285d0cc82522",
   "metadata": {},
   "outputs": [],
   "source": [
    "if file_dict[simulation]['fates']:\n",
    "    data_vars = fates_data_vars\n",
    "else:\n",
    "    data_vars = clm_data_vars\n",
    "if file_dict[simulation]['fates_params']:\n",
    "    key = fates_param_key\n",
    "else:\n",
    "    key = clm_param_key"
   ]
  },
  {
   "cell_type": "code",
   "execution_count": 51,
   "id": "a8b9996c-5bab-495c-b908-b130a7cdee6f",
   "metadata": {},
   "outputs": [],
   "source": [
    "if file_dict[simulation]['default_case'] is not None:\n",
    "    default_ds = get_default('/glade/derecho/scratch/afoster/archive',\n",
    "                             file_dict[simulation]['default_case'],\n",
    "                             data_vars, key, whit, out_vars,\n",
    "                             fates=file_dict[simulation]['fates'])\n",
    "    default_ds.to_netcdf(file_dict[simulation]['default_file'])"
   ]
  },
  {
   "cell_type": "code",
   "execution_count": null,
   "id": "ca525d0a-32c4-436f-a2bf-8520048c8494",
   "metadata": {},
   "outputs": [],
   "source": [
    "not_finished = write_history_files(file_dict[simulation]['top_dir'], data_vars,\n",
    "                                   key, file_dict[simulation]['postp_dir'],\n",
    "                                   fates=file_dict[simulation]['fates'],\n",
    "                                   fates_params=file_dict[simulation]['fates_params'])"
   ]
  },
  {
   "cell_type": "code",
   "execution_count": 47,
   "id": "9e87c887-b9f3-40a7-a485-48ab1c0a7b5b",
   "metadata": {},
   "outputs": [],
   "source": [
    "ensemble_ds = combine_history_vars(file_dict[simulation]['postp_dir'], whit, out_vars)"
   ]
  },
  {
   "cell_type": "code",
   "execution_count": 48,
   "id": "342de6fe-4846-47b6-8e86-408c4c83a830",
   "metadata": {},
   "outputs": [
    {
     "name": "stderr",
     "output_type": "stream",
     "text": [
      "/glade/work/afoster/conda-envs/fates_calibration/lib/python3.11/site-packages/distributed/client.py:3162: UserWarning: Sending large graph of size 180.01 MiB.\n",
      "This may cause some slowdown.\n",
      "Consider scattering data ahead of time and using futures.\n",
      "  warnings.warn(\n"
     ]
    }
   ],
   "source": [
    "ensemble_ds.to_netcdf(file_dict[simulation]['out_file'])"
   ]
  },
  {
   "cell_type": "code",
   "execution_count": null,
   "id": "c685a6b7-0dd2-4fe3-9b2d-4248646b5a81",
   "metadata": {},
   "outputs": [],
   "source": [
    "client.shutdown()"
   ]
  }
 ],
 "metadata": {
  "kernelspec": {
   "display_name": "Python [conda env:fates_calibration]",
   "language": "python",
   "name": "conda-env-fates_calibration-py"
  },
  "language_info": {
   "codemirror_mode": {
    "name": "ipython",
    "version": 3
   },
   "file_extension": ".py",
   "mimetype": "text/x-python",
   "name": "python",
   "nbconvert_exporter": "python",
   "pygments_lexer": "ipython3",
   "version": "3.11.10"
  }
 },
 "nbformat": 4,
 "nbformat_minor": 5
}
