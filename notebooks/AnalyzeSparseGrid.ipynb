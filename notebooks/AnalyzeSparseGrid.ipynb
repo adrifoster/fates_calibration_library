{
 "cells": [
  {
   "cell_type": "markdown",
   "id": "20588726-47b5-4ecd-b932-cf47dc46d4ee",
   "metadata": {},
   "source": [
    "# Analyze a Sparse Grid Run"
   ]
  },
  {
   "cell_type": "code",
   "execution_count": 1,
   "id": "bd1b6f38-673f-4fe2-a5a8-989b6e80c16c",
   "metadata": {},
   "outputs": [],
   "source": [
    "import os\n",
    "import numpy as np\n",
    "import xarray as xr\n",
    "import cftime\n",
    "import pandas as pd\n",
    "import glob\n",
    "import matplotlib.pyplot as plt\n",
    "import dask\n",
    "from dask_jobqueue import PBSCluster\n",
    "from dask.distributed import Client\n",
    "\n",
    "import fates_calibration_library.analysis_functions as analysis\n",
    "import fates_calibration_library.ilamb_functions as ilamb\n",
    "import fates_calibration_library.plotting_functions as plotting\n",
    "import fates_calibration_library.utils as utils"
   ]
  },
  {
   "cell_type": "code",
   "execution_count": 19,
   "id": "f5845dc7-ec1f-4964-8868-83a35470a531",
   "metadata": {},
   "outputs": [
    {
     "data": {
      "text/plain": [
       "<module 'fates_calibration_library.analysis_functions' from '/glade/work/afoster/FATES_calibration/scripts/fates_calibration_library/analysis_functions.py'>"
      ]
     },
     "execution_count": 19,
     "metadata": {},
     "output_type": "execute_result"
    }
   ],
   "source": [
    "import importlib\n",
    "import fates_calibration_library.analysis_functions\n",
    "importlib.reload(fates_calibration_library.analysis_functions)"
   ]
  },
  {
   "cell_type": "code",
   "execution_count": 2,
   "id": "441fd89f-1af9-4ac7-8bdd-1ba5707dddcd",
   "metadata": {},
   "outputs": [
    {
     "name": "stderr",
     "output_type": "stream",
     "text": [
      "/glade/work/afoster/conda-envs/fates_calibration/lib/python3.11/site-packages/distributed/node.py:182: UserWarning: Port 8787 is already in use.\n",
      "Perhaps you already have a cluster running?\n",
      "Hosting the HTTP server on port 44639 instead\n",
      "  warnings.warn(\n"
     ]
    }
   ],
   "source": [
    "# Setup PBSCluster\n",
    "cluster = PBSCluster(\n",
    "    cores=1,                                                   # The number of cores you want\n",
    "    memory='25GB',                                             # Amount of memory\n",
    "    processes=1,                                               # How many processes\n",
    "    queue='casper',                                            # The type of queue to utilize\n",
    "    local_directory='/glade/work/afoster',                     # Use your local directory\n",
    "    resource_spec='select=1:ncpus=1:mem=25GB',                 # Specify resources\n",
    "    log_directory='/glade/derecho/scratch/afoster/dask_logs',  # log directory\n",
    "    account='P08010000',                                       # Input your project ID here\n",
    "    walltime='02:00:00',                                       # Amount of wall time\n",
    "    interface='ext')"
   ]
  },
  {
   "cell_type": "code",
   "execution_count": 3,
   "id": "050b8991-d1f8-4a63-9bd6-508d34b4e168",
   "metadata": {},
   "outputs": [
    {
     "data": {
      "text/html": [
       "<div>\n",
       "    <div style=\"width: 24px; height: 24px; background-color: #e1e1e1; border: 3px solid #9D9D9D; border-radius: 5px; position: absolute;\"> </div>\n",
       "    <div style=\"margin-left: 48px;\">\n",
       "        <h3 style=\"margin-bottom: 0px;\">Client</h3>\n",
       "        <p style=\"color: #9D9D9D; margin-bottom: 0px;\">Client-8837c22b-0f0c-11f0-97c0-10ffe07f3d3e</p>\n",
       "        <table style=\"width: 100%; text-align: left;\">\n",
       "\n",
       "        <tr>\n",
       "        \n",
       "            <td style=\"text-align: left;\"><strong>Connection method:</strong> Cluster object</td>\n",
       "            <td style=\"text-align: left;\"><strong>Cluster type:</strong> dask_jobqueue.PBSCluster</td>\n",
       "        \n",
       "        </tr>\n",
       "\n",
       "        \n",
       "            <tr>\n",
       "                <td style=\"text-align: left;\">\n",
       "                    <strong>Dashboard: </strong> <a href=\"https://jupyterhub.hpc.ucar.edu/stable/user/afoster/proxy/44639/status\" target=\"_blank\">https://jupyterhub.hpc.ucar.edu/stable/user/afoster/proxy/44639/status</a>\n",
       "                </td>\n",
       "                <td style=\"text-align: left;\"></td>\n",
       "            </tr>\n",
       "        \n",
       "\n",
       "        </table>\n",
       "\n",
       "        \n",
       "\n",
       "        \n",
       "            <details>\n",
       "            <summary style=\"margin-bottom: 20px;\"><h3 style=\"display: inline;\">Cluster Info</h3></summary>\n",
       "            <div class=\"jp-RenderedHTMLCommon jp-RenderedHTML jp-mod-trusted jp-OutputArea-output\">\n",
       "    <div style=\"width: 24px; height: 24px; background-color: #e1e1e1; border: 3px solid #9D9D9D; border-radius: 5px; position: absolute;\">\n",
       "    </div>\n",
       "    <div style=\"margin-left: 48px;\">\n",
       "        <h3 style=\"margin-bottom: 0px; margin-top: 0px;\">PBSCluster</h3>\n",
       "        <p style=\"color: #9D9D9D; margin-bottom: 0px;\">86c88e3c</p>\n",
       "        <table style=\"width: 100%; text-align: left;\">\n",
       "            <tr>\n",
       "                <td style=\"text-align: left;\">\n",
       "                    <strong>Dashboard:</strong> <a href=\"https://jupyterhub.hpc.ucar.edu/stable/user/afoster/proxy/44639/status\" target=\"_blank\">https://jupyterhub.hpc.ucar.edu/stable/user/afoster/proxy/44639/status</a>\n",
       "                </td>\n",
       "                <td style=\"text-align: left;\">\n",
       "                    <strong>Workers:</strong> 0\n",
       "                </td>\n",
       "            </tr>\n",
       "            <tr>\n",
       "                <td style=\"text-align: left;\">\n",
       "                    <strong>Total threads:</strong> 0\n",
       "                </td>\n",
       "                <td style=\"text-align: left;\">\n",
       "                    <strong>Total memory:</strong> 0 B\n",
       "                </td>\n",
       "            </tr>\n",
       "            \n",
       "        </table>\n",
       "\n",
       "        <details>\n",
       "            <summary style=\"margin-bottom: 20px;\">\n",
       "                <h3 style=\"display: inline;\">Scheduler Info</h3>\n",
       "            </summary>\n",
       "\n",
       "            <div style=\"\">\n",
       "    <div>\n",
       "        <div style=\"width: 24px; height: 24px; background-color: #FFF7E5; border: 3px solid #FF6132; border-radius: 5px; position: absolute;\"> </div>\n",
       "        <div style=\"margin-left: 48px;\">\n",
       "            <h3 style=\"margin-bottom: 0px;\">Scheduler</h3>\n",
       "            <p style=\"color: #9D9D9D; margin-bottom: 0px;\">Scheduler-a544c79e-9440-4b18-8f85-f35e24de7864</p>\n",
       "            <table style=\"width: 100%; text-align: left;\">\n",
       "                <tr>\n",
       "                    <td style=\"text-align: left;\">\n",
       "                        <strong>Comm:</strong> tcp://128.117.208.173:40441\n",
       "                    </td>\n",
       "                    <td style=\"text-align: left;\">\n",
       "                        <strong>Workers:</strong> 0\n",
       "                    </td>\n",
       "                </tr>\n",
       "                <tr>\n",
       "                    <td style=\"text-align: left;\">\n",
       "                        <strong>Dashboard:</strong> <a href=\"https://jupyterhub.hpc.ucar.edu/stable/user/afoster/proxy/44639/status\" target=\"_blank\">https://jupyterhub.hpc.ucar.edu/stable/user/afoster/proxy/44639/status</a>\n",
       "                    </td>\n",
       "                    <td style=\"text-align: left;\">\n",
       "                        <strong>Total threads:</strong> 0\n",
       "                    </td>\n",
       "                </tr>\n",
       "                <tr>\n",
       "                    <td style=\"text-align: left;\">\n",
       "                        <strong>Started:</strong> Just now\n",
       "                    </td>\n",
       "                    <td style=\"text-align: left;\">\n",
       "                        <strong>Total memory:</strong> 0 B\n",
       "                    </td>\n",
       "                </tr>\n",
       "            </table>\n",
       "        </div>\n",
       "    </div>\n",
       "\n",
       "    <details style=\"margin-left: 48px;\">\n",
       "        <summary style=\"margin-bottom: 20px;\">\n",
       "            <h3 style=\"display: inline;\">Workers</h3>\n",
       "        </summary>\n",
       "\n",
       "        \n",
       "\n",
       "    </details>\n",
       "</div>\n",
       "\n",
       "        </details>\n",
       "    </div>\n",
       "</div>\n",
       "            </details>\n",
       "        \n",
       "\n",
       "    </div>\n",
       "</div>"
      ],
      "text/plain": [
       "<Client: 'tcp://128.117.208.173:40441' processes=0 threads=0, memory=0 B>"
      ]
     },
     "execution_count": 3,
     "metadata": {},
     "output_type": "execute_result"
    }
   ],
   "source": [
    "cluster.scale(30)\n",
    "dask.config.set({\n",
    "    'distributed.dashboard.link': 'https://jupyterhub.hpc.ucar.edu/stable/user/{USER}/proxy/{port}/status'\n",
    "})\n",
    "client = Client(cluster)\n",
    "client"
   ]
  },
  {
   "cell_type": "markdown",
   "id": "c3a67beb-3b97-4f29-a47c-63d06ac3ca76",
   "metadata": {},
   "source": [
    "## Set Up\n",
    "\n",
    "First specify history variables and variables to investigate"
   ]
  },
  {
   "cell_type": "code",
   "execution_count": 4,
   "id": "fb202d4f-48ba-43e2-911c-52e516f388bc",
   "metadata": {},
   "outputs": [],
   "source": [
    "fates_vars = ['FATES_FRACTION', 'FATES_GPP', 'FATES_LAI', 'QVEGE',\n",
    "              'QVEGT', 'EFLX_LH_TOT', 'FSH', 'FSR', 'FSDS', 'FSA',\n",
    "              'FIRE', 'FLDS', 'FCTR', 'FCEV', 'FGEV', 'BTRANMN',\n",
    "              'FGR', 'SOILWATER_10CM', 'TWS', 'QRUNOFF', 'SNOWDP',\n",
    "              'TV', 'TG', 'TSA', 'TBOT']\n",
    "\n",
    "clm_vars = ['FPSN', 'TLAI', 'QVEGE', 'QVEGT', 'EFLX_LH_TOT', 'FSH',\n",
    "            'FSR', 'FSDS', 'FSA', 'FIRE', 'FLDS', 'FCTR', 'FCEV',\n",
    "            'FGEV', 'BTRANMN', 'FGR', 'SOILWATER_10CM', 'TWS',\n",
    "            'QRUNOFF', 'SNOWDP', 'TV', 'TG', 'TSA', 'TBOT']\n",
    "\n",
    "out_vars = ['GPP', 'LAI', 'EFLX_LH_TOT', 'FSH', 'EF', 'SOILWATER_10CM', 'ASA',\n",
    "            'FSR', 'FSA', 'FIRE', 'RLNS', 'RN', 'BTRANMN', 'TV']"
   ]
  },
  {
   "cell_type": "markdown",
   "id": "3bca8bb6-c244-41ac-9512-aa68f889afcd",
   "metadata": {},
   "source": [
    "### Files Needed"
   ]
  },
  {
   "cell_type": "code",
   "execution_count": 24,
   "id": "0778eb82-94af-4bb5-b16a-2441f8f48392",
   "metadata": {},
   "outputs": [
    {
     "ename": "ValueError",
     "evalue": "could not convert string to float: 'None'",
     "output_type": "error",
     "traceback": [
      "\u001b[0;31m---------------------------------------------------------------------------\u001b[0m",
      "\u001b[0;31mValueError\u001b[0m                                Traceback (most recent call last)",
      "Cell \u001b[0;32mIn[24], line 21\u001b[0m\n\u001b[1;32m     19\u001b[0m \u001b[38;5;66;03m# config file with conversion information in it\u001b[39;00m\n\u001b[1;32m     20\u001b[0m var_config \u001b[38;5;241m=\u001b[39m \u001b[38;5;124m'\u001b[39m\u001b[38;5;124m/glade/work/afoster/FATES_calibration/observations/model_conversion.cfg\u001b[39m\u001b[38;5;124m'\u001b[39m\n\u001b[0;32m---> 21\u001b[0m var_dict \u001b[38;5;241m=\u001b[39m \u001b[43manalysis\u001b[49m\u001b[38;5;241;43m.\u001b[39;49m\u001b[43mget_conversion_dict\u001b[49m\u001b[43m(\u001b[49m\u001b[43mvar_config\u001b[49m\u001b[43m)\u001b[49m\n\u001b[1;32m     23\u001b[0m \u001b[38;5;66;03m# ilamb observations\u001b[39;00m\n\u001b[1;32m     24\u001b[0m ilamb_config \u001b[38;5;241m=\u001b[39m \u001b[38;5;124m'\u001b[39m\u001b[38;5;124m/glade/work/afoster/FATES_calibration/observations/ilamb_conversion.cfg\u001b[39m\u001b[38;5;124m'\u001b[39m\n",
      "File \u001b[0;32m/glade/work/afoster/FATES_calibration/scripts/fates_calibration_library/analysis_functions.py:31\u001b[0m, in \u001b[0;36mget_conversion_dict\u001b[0;34m(config_file)\u001b[0m\n\u001b[1;32m     29\u001b[0m     attributes[\u001b[38;5;124m'\u001b[39m\u001b[38;5;124mdiverging_cmap\u001b[39m\u001b[38;5;124m'\u001b[39m] \u001b[38;5;241m=\u001b[39m str_to_bool(attributes[\u001b[38;5;124m'\u001b[39m\u001b[38;5;124mdiverging_cmap\u001b[39m\u001b[38;5;124m'\u001b[39m])\n\u001b[1;32m     30\u001b[0m     attributes[\u001b[38;5;124m'\u001b[39m\u001b[38;5;124mcf_time\u001b[39m\u001b[38;5;124m'\u001b[39m] \u001b[38;5;241m=\u001b[39m get_conversion_factor(attributes[\u001b[38;5;124m'\u001b[39m\u001b[38;5;124mcf_time\u001b[39m\u001b[38;5;124m'\u001b[39m])\n\u001b[0;32m---> 31\u001b[0m     attributes[\u001b[38;5;124m'\u001b[39m\u001b[38;5;124mcf_area\u001b[39m\u001b[38;5;124m'\u001b[39m] \u001b[38;5;241m=\u001b[39m \u001b[43mget_conversion_factor\u001b[49m\u001b[43m(\u001b[49m\u001b[43mattributes\u001b[49m\u001b[43m[\u001b[49m\u001b[38;5;124;43m'\u001b[39;49m\u001b[38;5;124;43mcf_area\u001b[39;49m\u001b[38;5;124;43m'\u001b[39;49m\u001b[43m]\u001b[49m\u001b[43m,\u001b[49m\n\u001b[1;32m     32\u001b[0m \u001b[43m                                                  \u001b[49m\u001b[43mconvert_intrinsic\u001b[49m\u001b[38;5;241;43m=\u001b[39;49m\u001b[38;5;28;43;01mFalse\u001b[39;49;00m\u001b[43m)\u001b[49m\n\u001b[1;32m     34\u001b[0m \u001b[38;5;28;01mreturn\u001b[39;00m conversion_dict\n",
      "File \u001b[0;32m/glade/work/afoster/FATES_calibration/scripts/fates_calibration_library/analysis_functions.py:53\u001b[0m, in \u001b[0;36mget_conversion_factor\u001b[0;34m(input_string, convert_intrinsic)\u001b[0m\n\u001b[1;32m     51\u001b[0m \u001b[38;5;28;01mif\u001b[39;00m input_string \u001b[38;5;241m==\u001b[39m \u001b[38;5;124m\"\u001b[39m\u001b[38;5;124mmrro\u001b[39m\u001b[38;5;124m\"\u001b[39m:\n\u001b[1;32m     52\u001b[0m     \u001b[38;5;28;01mreturn\u001b[39;00m \u001b[38;5;241m24\u001b[39m \u001b[38;5;241m*\u001b[39m \u001b[38;5;241m60\u001b[39m \u001b[38;5;241m*\u001b[39m \u001b[38;5;241m60\u001b[39m \u001b[38;5;241m/\u001b[39m \u001b[38;5;241m365.0\u001b[39m\n\u001b[0;32m---> 53\u001b[0m \u001b[38;5;28;01mreturn\u001b[39;00m \u001b[38;5;28;43mfloat\u001b[39;49m\u001b[43m(\u001b[49m\u001b[43minput_string\u001b[49m\u001b[43m)\u001b[49m\n",
      "\u001b[0;31mValueError\u001b[0m: could not convert string to float: 'None'"
     ]
    }
   ],
   "source": [
    "# sparse grid clustering file\n",
    "grid_dir = '/glade/work/afoster/FATES_calibration/surfdata'\n",
    "grid_file = 'clusters.clm51_PPEn02ctsm51d021_2deg_GSWP3V1_leafbiomassesai_PPE3_hist.annual+sd.400.nc'\n",
    "sparse_grid = xr.open_dataset(os.path.join(grid_dir, grid_file))\n",
    "\n",
    "# sparse grid whittaker biomes\n",
    "whittaker_ds = xr.open_dataset('/glade/work/afoster/FATES_calibration/observations/whittaker/whitkey.nc')\n",
    "\n",
    "# fetch the sparsegrid landarea - needed for unit conversion\n",
    "land_area_file = '/glade/work/afoster/FATES_calibration/CLM5PPE/postp/sparsegrid_landarea.nc'\n",
    "land_area = xr.open_dataset(land_area_file).landarea\n",
    "\n",
    "# create a global land frac and area grid\n",
    "land_frac_ds = os.path.join(\"/glade/derecho/scratch/afoster/archive\",\n",
    "                            \"ctsm60SP_bigleaf_fullgrid/lnd/hist\",\n",
    "                            \"ctsm60SP_bigleaf_fullgrid.clm2.h0.0001-02-01-00000.nc\")\n",
    "target_grid = analysis.create_target_grid(land_frac_ds, 'FSR')\n",
    "\n",
    "# config file with conversion information in it\n",
    "var_config = '/glade/work/afoster/FATES_calibration/observations/model_conversion.cfg'\n",
    "var_dict = analysis.get_conversion_dict(var_config)\n",
    "\n",
    "# ilamb observations\n",
    "ilamb_config = '/glade/work/afoster/FATES_calibration/observations/ilamb_conversion.cfg'\n",
    "ilamb_dict = ilamb.get_conf_dict(ilamb_config)\n",
    "ilamb_obs = xr.open_dataset('/glade/work/afoster/FATES_calibration/observations/all_ILAMB_obs.nc')"
   ]
  },
  {
   "cell_type": "markdown",
   "id": "9ab3d3ed-a93d-4778-b841-24ae93807866",
   "metadata": {},
   "source": [
    "## Read in Datasets"
   ]
  },
  {
   "cell_type": "code",
   "execution_count": 6,
   "id": "3be139e9-7d02-4ce5-8e5e-733d9e68c606",
   "metadata": {},
   "outputs": [],
   "source": [
    "# default sparse grid run\n",
    "sparse_dir = '/glade/derecho/scratch/afoster/archive/ctsm60SP_fates_sparse_vai/lnd/hist'\n",
    "sparse_ds = analysis.post_process_ds(sparse_dir, fates_vars, whittaker_ds,\n",
    "                                     2000, 2015, 20)"
   ]
  },
  {
   "cell_type": "code",
   "execution_count": 9,
   "id": "9de41f8b-2517-468d-a610-cf613e1c82d8",
   "metadata": {},
   "outputs": [],
   "source": [
    "# global sparse grid run\n",
    "global_dir = '/glade/derecho/scratch/afoster/archive/ctsm60SP_fates_full/lnd/hist'\n",
    "global_ds = analysis.post_process_ds(global_dir, fates_vars, whittaker_ds,\n",
    "                                      2000, 2015, 20, sparse=False)"
   ]
  },
  {
   "cell_type": "markdown",
   "id": "a5375997-e26a-4250-a544-dbd13ab16da0",
   "metadata": {},
   "source": [
    "## Post-Process Datasets\n",
    "\n",
    "\n",
    "### Temporal Averaging\n",
    "First calculate annual and monthly means"
   ]
  },
  {
   "cell_type": "code",
   "execution_count": 10,
   "id": "13760c2b-fa2a-45fa-b9e8-c5ba38f5c55d",
   "metadata": {},
   "outputs": [],
   "source": [
    "# annual means\n",
    "ann_means_sparse = analysis.get_annual_means(sparse_ds, out_vars, var_dict,\n",
    "                                             sparse=True).mean(dim='year')\n",
    "\n",
    "ann_means_glob = analysis.get_annual_means(global_ds, out_vars, var_dict,\n",
    "                                           sparse=False).mean(dim='year')"
   ]
  },
  {
   "cell_type": "code",
   "execution_count": 11,
   "id": "5c2f49f0-c522-4de1-b6bd-9d2e0bd01de1",
   "metadata": {},
   "outputs": [],
   "source": [
    "# monthly means\n",
    "month_means_sparse = analysis.get_monthly_means(sparse_ds, out_vars,\n",
    "                                           var_dict, sparse=True)\n",
    "\n",
    "month_means_glob = analysis.get_monthly_means(global_ds, out_vars,\n",
    "                                           var_dict, sparse=False)"
   ]
  },
  {
   "cell_type": "markdown",
   "id": "6e4d83d7-0c33-4b62-a26c-9beeb4ad564f",
   "metadata": {},
   "source": [
    "### Calculate Month of Max\n",
    "Calculate the month of the maximum variable"
   ]
  },
  {
   "cell_type": "code",
   "execution_count": 12,
   "id": "6384b04d-1d62-4dff-9a80-104bd80bc06d",
   "metadata": {},
   "outputs": [],
   "source": [
    "# month of max \n",
    "max_month_sparse = analysis.get_month_of_maxes(month_means_sparse, out_vars,\n",
    "                                               sparse=True)\n",
    "\n",
    "max_month_glob = analysis.get_month_of_maxes(month_means_glob, out_vars,\n",
    "                                               sparse=False)"
   ]
  },
  {
   "cell_type": "markdown",
   "id": "37a1a030-6465-468b-bab9-af7e0017a6df",
   "metadata": {},
   "source": [
    "### Remap Sparse Grid\n",
    "\n",
    "Remap the annual and monthly sparse means to a global grid"
   ]
  },
  {
   "cell_type": "code",
   "execution_count": 13,
   "id": "fa070865-01c2-4314-8c15-0dd5740b75c3",
   "metadata": {},
   "outputs": [],
   "source": [
    "# maps from the annual means\n",
    "sparse_glob = analysis.get_sparse_maps(ann_means_sparse, sparse_grid,\n",
    "                                     out_vars)\n",
    "\n",
    "# maps from the monthly maxes\n",
    "sparse_glob_month_max = analysis.get_sparse_maps(max_month_sparse, sparse_grid,\n",
    "                                     out_vars)"
   ]
  },
  {
   "cell_type": "markdown",
   "id": "da96e0cb-ce16-4530-9e52-1454c2cf47c1",
   "metadata": {},
   "source": [
    "### Zonal Means\n",
    "Calculate zonal means (by latitude)"
   ]
  },
  {
   "cell_type": "code",
   "execution_count": 20,
   "id": "a8d2a187-6bf5-4ff0-bc00-c759b9e5a649",
   "metadata": {},
   "outputs": [],
   "source": [
    "# sparse\n",
    "zonal_sparse = analysis.get_zonal_means(sparse_glob, out_vars, var_dict,\n",
    "                                        target_grid.land_area)\n",
    "\n",
    "# global\n",
    "zonal_global = analysis.get_zonal_means(ann_means_glob, out_vars,\n",
    "                                        var_dict, target_grid.land_area)"
   ]
  },
  {
   "cell_type": "code",
   "execution_count": 23,
   "id": "c832f140-558a-4daa-9d9a-2aabb9f1cad4",
   "metadata": {},
   "outputs": [
    {
     "data": {
      "text/plain": [
       "[<matplotlib.lines.Line2D at 0x145a2f780210>]"
      ]
     },
     "execution_count": 23,
     "metadata": {},
     "output_type": "execute_result"
    },
    {
     "data": {
      "image/png": "[encoded data removed]",
      "text/plain": [
       "<Figure size 640x480 with 1 Axes>"
      ]
     },
     "metadata": {},
     "output_type": "display_data"
    }
   ],
   "source": [
    "zonal_sparse.EF.plot()"
   ]
  },
  {
   "cell_type": "code",
   "execution_count": 17,
   "id": "9015027c-c82c-48ef-9a57-76125c7c8b3f",
   "metadata": {},
   "outputs": [
    {
     "data": {
      "text/plain": [
       "[<matplotlib.lines.Line2D at 0x145a319d6c50>]"
      ]
     },
     "execution_count": 17,
     "metadata": {},
     "output_type": "execute_result"
    },
    {
     "data": {
      "image/png": "[encoded data removed]",
      "text/plain": [
       "<Figure size 640x480 with 1 Axes>"
      ]
     },
     "metadata": {},
     "output_type": "display_data"
    }
   ],
   "source": [
    "zonal_sparse.EF.plot()"
   ]
  },
  {
   "cell_type": "markdown",
   "id": "16777188-4d86-493e-8a17-9e9ce123dfd6",
   "metadata": {},
   "source": [
    "### Climatology\n",
    "Calculate climatology"
   ]
  },
  {
   "cell_type": "code",
   "execution_count": null,
   "id": "ea9c7388-bd5a-4d05-85f8-11e76bfec8ce",
   "metadata": {},
   "outputs": [],
   "source": [
    "# area means from monthly\n",
    "sparse_glob_monthly = analysis.get_sparse_area_means(month_means_sparse, 'global',\n",
    "                                                out_vars, var_dict, land_area,\n",
    "                                                sparse_ds.biome)\n",
    "\n",
    "glob_monthly = analysis.get_area_means(month_means_glob, out_vars, var_dict,\n",
    "                                       target_grid.land_area)"
   ]
  },
  {
   "cell_type": "markdown",
   "id": "43f4a3ae-0d3c-4161-a392-2861baa7378f",
   "metadata": {},
   "source": [
    "### Calculate Global Annual Values\n",
    "\n",
    "Area-weighted averages"
   ]
  },
  {
   "cell_type": "code",
   "execution_count": null,
   "id": "07ff44ca-8b6b-4758-b570-9d5fa44af2f3",
   "metadata": {},
   "outputs": [],
   "source": [
    "# sparse area means\n",
    "area_means_sparse = analysis.get_sparse_area_means(ann_means_sparse,\n",
    "                                            'global', out_vars,\n",
    "                                            var_dict, land_area, sparse_ds.biome)\n",
    "\n",
    "# global area means \n",
    "area_means_glob = analysis.get_area_means(ann_means_glob, out_vars, var_dict,\n",
    "                                          target_grid.land_area)"
   ]
  },
  {
   "cell_type": "markdown",
   "id": "3ca246f9-97c9-4d54-8303-c37356e585f6",
   "metadata": {},
   "source": [
    "## How Well the Does the Sparse Grid Match Global Simulations\n",
    "### Annual Maps"
   ]
  },
  {
   "cell_type": "code",
   "execution_count": null,
   "id": "57efaddf-157a-4eaa-ae6c-ed6c811967d8",
   "metadata": {},
   "outputs": [],
   "source": [
    "var = 'GPP'\n",
    "plotting.plot_two_model_diff(sparse_glob[var], ann_means_glob[var], 'Sparse',\n",
    "                             'Global', var, var_dict[var]['annual_units'],\n",
    "                             var_dict[var]['cmap'])"
   ]
  },
  {
   "cell_type": "code",
   "execution_count": null,
   "id": "3bf1ecc8-5e50-4f7c-a191-55e00d2f7971",
   "metadata": {},
   "outputs": [],
   "source": [
    "var = 'LAI'\n",
    "plotting.plot_two_model_diff(sparse_glob[var], ann_means_glob[var], 'Sparse',\n",
    "                             'Global', var, var_dict[var]['annual_units'],\n",
    "                             var_dict[var]['cmap'])"
   ]
  },
  {
   "cell_type": "code",
   "execution_count": null,
   "id": "ce09100f-773c-4502-823e-f720f0b26fba",
   "metadata": {},
   "outputs": [],
   "source": [
    "var = 'EFLX_LH_TOT'\n",
    "plotting.plot_two_model_diff(sparse_glob[var], ann_means_glob[var], 'Sparse',\n",
    "                             'Global', var, var_dict[var]['annual_units'],\n",
    "                             var_dict[var]['cmap'])"
   ]
  },
  {
   "cell_type": "code",
   "execution_count": null,
   "id": "d374c00d-ed00-4c37-aaec-6e06c174143b",
   "metadata": {},
   "outputs": [],
   "source": [
    "var = 'FSH'\n",
    "plotting.plot_two_model_diff(sparse_glob[var], ann_means_glob[var], 'Sparse',\n",
    "                             'Global', var, var_dict[var]['annual_units'],\n",
    "                             var_dict[var]['cmap'])"
   ]
  },
  {
   "cell_type": "code",
   "execution_count": null,
   "id": "30d79de4-6a52-4533-a9cf-b027dc7da1cb",
   "metadata": {},
   "outputs": [],
   "source": [
    "var = 'EF'\n",
    "plotting.plot_two_model_diff(sparse_glob[var], ann_means_glob[var], 'Sparse',\n",
    "                             'Global', var, var_dict[var]['annual_units'],\n",
    "                             var_dict[var]['cmap'])"
   ]
  },
  {
   "cell_type": "code",
   "execution_count": null,
   "id": "1a109398-98d6-4779-acfd-b0ebaa2c1926",
   "metadata": {},
   "outputs": [],
   "source": [
    "var = 'ASA'\n",
    "plotting.plot_two_model_diff(sparse_glob[var], ann_means_glob[var], 'Sparse',\n",
    "                             'Global', var, var_dict[var]['annual_units'],\n",
    "                             var_dict[var]['cmap'])"
   ]
  },
  {
   "cell_type": "markdown",
   "id": "fde1c987-4059-42a2-a9d3-35692856d015",
   "metadata": {},
   "source": [
    "### Zonal Means"
   ]
  },
  {
   "cell_type": "code",
   "execution_count": null,
   "id": "44502e52-d411-46d2-b6d9-2f48379c70a9",
   "metadata": {},
   "outputs": [],
   "source": []
  },
  {
   "cell_type": "markdown",
   "id": "f7e919eb-642a-4430-8065-b63b4b54743b",
   "metadata": {},
   "source": [
    "### Month of Max"
   ]
  },
  {
   "cell_type": "code",
   "execution_count": null,
   "id": "def283e2-3d09-4c43-a29d-7ac395c76425",
   "metadata": {},
   "outputs": [],
   "source": [
    "var = 'GPP'\n",
    "plotting.plot_month_of_max_diff(sparse_glob_month_max[var],\n",
    "                                max_month_glob[var], 'Sparse', 'Global', var)"
   ]
  },
  {
   "cell_type": "code",
   "execution_count": null,
   "id": "1bbd2dfd-ea0e-4515-b669-23f0beecafac",
   "metadata": {},
   "outputs": [],
   "source": [
    "var = 'LAI'\n",
    "plotting.plot_month_of_max_diff(sparse_glob_month_max[var], \n",
    "                                max_month_glob[var], 'Sparse', 'Global', var)"
   ]
  },
  {
   "cell_type": "code",
   "execution_count": null,
   "id": "fb3fca22-98f2-4449-80e1-ce5ffdadbf6d",
   "metadata": {},
   "outputs": [],
   "source": [
    "var = 'EFLX_LH_TOT'\n",
    "plotting.plot_month_of_max_diff(sparse_glob_month_max[var],\n",
    "                                max_month_glob[var], 'Sparse', 'Global', var)"
   ]
  },
  {
   "cell_type": "code",
   "execution_count": null,
   "id": "4d4edc48-63dc-41b5-80e5-82c179dcffb4",
   "metadata": {},
   "outputs": [],
   "source": [
    "var = 'FSH'\n",
    "plotting.plot_month_of_max_diff(sparse_glob_month_max[var],\n",
    "                                max_month_glob[var], 'Sparse', 'Global', var)"
   ]
  },
  {
   "cell_type": "code",
   "execution_count": null,
   "id": "ce37173b-46c6-471b-aef7-f3b89d4d7119",
   "metadata": {},
   "outputs": [],
   "source": [
    "var = 'EF'\n",
    "plotting.plot_month_of_max_diff(sparse_glob_month_max[var],\n",
    "                                max_month_glob[var], 'Sparse', 'Global', var)"
   ]
  },
  {
   "cell_type": "code",
   "execution_count": null,
   "id": "a8a9a33e-4052-4c4d-bc85-e775db42d184",
   "metadata": {},
   "outputs": [],
   "source": [
    "var = 'ASA'\n",
    "plotting.plot_month_of_max_diff(sparse_glob_month_max[var],\n",
    "                                max_month_glob[var], 'Sparse', 'Global', var)"
   ]
  },
  {
   "cell_type": "markdown",
   "id": "96a4aa69-748a-4e9f-8f90-010058e2f8b2",
   "metadata": {},
   "source": [
    "### Climatology"
   ]
  },
  {
   "cell_type": "code",
   "execution_count": null,
   "id": "bb5e6ba2-152f-47c2-b1c1-de297b2a95dd",
   "metadata": {},
   "outputs": [],
   "source": [
    "var = 'GPP'\n",
    "plotting.plot_annual_cycle_diff(glob_monthly[var], sparse_glob_monthly[var],\n",
    "                                \"Global\", \"Sparse\", var, var, var_dict[var]['annual_units'])"
   ]
  },
  {
   "cell_type": "code",
   "execution_count": null,
   "id": "6ea2d9d2-64da-40c5-823e-92382918fc6f",
   "metadata": {},
   "outputs": [],
   "source": [
    "var = 'LAI'\n",
    "plotting.plot_annual_cycle_diff(glob_monthly[var], sparse_glob_monthly[var],\n",
    "                                \"Global\", \"Sparse\", var, var, var_dict[var]['annual_units'])"
   ]
  },
  {
   "cell_type": "code",
   "execution_count": null,
   "id": "839340fa-38a5-45eb-aa82-2ce56201fd9a",
   "metadata": {},
   "outputs": [],
   "source": [
    "var = 'EFLX_LH_TOT'\n",
    "plotting.plot_annual_cycle_diff(glob_monthly[var], sparse_glob_monthly[var],\n",
    "                                \"Global\", \"Sparse\", var, var, var_dict[var]['annual_units'])"
   ]
  },
  {
   "cell_type": "code",
   "execution_count": null,
   "id": "a93a1b07-3653-4a70-a91d-6c2e0b7ef474",
   "metadata": {},
   "outputs": [],
   "source": [
    "var = 'FSH'\n",
    "plotting.plot_annual_cycle_diff(glob_monthly[var], sparse_glob_monthly[var],\n",
    "                                \"Global\", \"Sparse\", var, var, var_dict[var]['annual_units'])"
   ]
  },
  {
   "cell_type": "code",
   "execution_count": null,
   "id": "d6f860c4-7621-455b-adc0-0034cc0b1d7d",
   "metadata": {},
   "outputs": [],
   "source": [
    "var = 'EF'\n",
    "plotting.plot_annual_cycle_diff(glob_monthly[var], sparse_glob_monthly[var],\n",
    "                                \"Global\", \"Sparse\", var, var, var_dict[var]['annual_units'])"
   ]
  },
  {
   "cell_type": "code",
   "execution_count": null,
   "id": "9c1141f1-40ce-4ece-8925-63ac841161fe",
   "metadata": {},
   "outputs": [],
   "source": [
    "var = 'ASA'\n",
    "plotting.plot_annual_cycle_diff(glob_monthly[var], sparse_glob_monthly[var],\n",
    "                                \"Global\", \"Sparse\", var, var, var_dict[var]['annual_units'])"
   ]
  },
  {
   "cell_type": "markdown",
   "id": "79d084b1-c04b-4755-82d1-8f6157b8e5eb",
   "metadata": {},
   "source": [
    "### Global Annual Values"
   ]
  },
  {
   "cell_type": "code",
   "execution_count": null,
   "id": "628c0a20-7c74-4e83-8ad9-25dc75c44d00",
   "metadata": {},
   "outputs": [],
   "source": [
    "summary_df = plotting.summarize_differences(area_means_glob, area_means_sparse,\n",
    "                                            'Global', 'Sparse', var_dict)"
   ]
  },
  {
   "cell_type": "code",
   "execution_count": null,
   "id": "cbcdcf1a-79a9-447f-a90f-7058f3b485ba",
   "metadata": {},
   "outputs": [],
   "source": [
    "plotting.plot_heatmap(summary_df)"
   ]
  },
  {
   "cell_type": "code",
   "execution_count": null,
   "id": "7b2ae76a-46d8-4042-b5b6-f863bf5bb4f1",
   "metadata": {},
   "outputs": [],
   "source": [
    "import importlib\n",
    "import fates_calibration_library.plotting_functions\n",
    "import fates_calibration_library.analysis_functions\n",
    "importlib.reload(fates_calibration_library.analysis_functions)\n",
    "importlib.reload(fates_calibration_library.plotting_functions)"
   ]
  },
  {
   "cell_type": "markdown",
   "id": "4e9227e1-db21-43b6-8c2f-dded7744f1fb",
   "metadata": {},
   "source": [
    "## Observational Comparisons\n",
    "### Annual Maps"
   ]
  },
  {
   "cell_type": "code",
   "execution_count": null,
   "id": "9dffc9cf-736b-44ab-b9a4-694663cce951",
   "metadata": {},
   "outputs": [],
   "source": []
  },
  {
   "cell_type": "code",
   "execution_count": null,
   "id": "2a70392a-3b3e-4ea8-9463-ea73b569be61",
   "metadata": {},
   "outputs": [],
   "source": [
    "var = 'GPP'\n",
    "ilamb_var = ilamb.get_model_da(ilamb_obs, ilamb_dict[var]['var'], ilamb_dict[var]['models'])\n",
    "plotting.plot_model_obs_diff(sparse_glob, ilamb_var, target_grid.landfrac, var,\n",
    "                             var_dict[var]['annual_units'], 'FATES')"
   ]
  },
  {
   "cell_type": "code",
   "execution_count": null,
   "id": "67638aca-0f46-48db-85cf-724332839334",
   "metadata": {},
   "outputs": [],
   "source": [
    "var = 'ASA'\n",
    "ilamb_var = ilamb.get_model_da(ilamb_obs, ilamb_dict[var]['var'], ilamb_dict[var]['models'])\n",
    "plotting.plot_model_obs_diff(sparse_glob, ilamb_var, target_grid.landfrac, var, var_dict[var]['annual_units'], 'FATES')"
   ]
  },
  {
   "cell_type": "code",
   "execution_count": null,
   "id": "c112610f-f953-43b2-aae1-b1e9c6c4008d",
   "metadata": {},
   "outputs": [],
   "source": [
    "var = 'EFLX_LH_TOT'\n",
    "ilamb_var = ilamb.get_model_da(ilamb_obs, ilamb_dict[var]['var'], ilamb_dict[var]['models'])\n",
    "plotting.plot_model_obs_diff(sparse_glob, ilamb_var, target_grid.landfrac, var, var_dict[var]['annual_units'], 'FATES')"
   ]
  },
  {
   "cell_type": "code",
   "execution_count": null,
   "id": "768d4acb-9fce-4d92-b463-526f8515565c",
   "metadata": {},
   "outputs": [],
   "source": [
    "var = 'FSH'\n",
    "ilamb_var = ilamb.get_model_da(ilamb_obs, ilamb_dict[var]['var'], ilamb_dict[var]['models'])\n",
    "plotting.plot_model_obs_diff(sparse_glob, ilamb_var, target_grid.landfrac, var, var_dict[var]['annual_units'], 'FATES')"
   ]
  },
  {
   "cell_type": "code",
   "execution_count": null,
   "id": "67b1cf45-2183-4635-bf2a-51467cf3df22",
   "metadata": {},
   "outputs": [],
   "source": [
    "var = 'EF'\n",
    "ilamb_var = ilamb.get_model_da(ilamb_obs, ilamb_dict[var]['var'], ilamb_dict[var]['models'])\n",
    "plotting.plot_model_obs_diff(sparse_glob, ilamb_var, target_grid.landfrac, var, var_dict[var]['annual_units'], 'FATES')"
   ]
  },
  {
   "cell_type": "code",
   "execution_count": null,
   "id": "0a7d774a-4cd4-4df7-a87c-5b4d4386d497",
   "metadata": {},
   "outputs": [],
   "source": []
  }
 ],
 "metadata": {
  "kernelspec": {
   "display_name": "Python [conda env:fates_calibration]",
   "language": "python",
   "name": "conda-env-fates_calibration-py"
  },
  "language_info": {
   "codemirror_mode": {
    "name": "ipython",
    "version": 3
   },
   "file_extension": ".py",
   "mimetype": "text/x-python",
   "name": "python",
   "nbconvert_exporter": "python",
   "pygments_lexer": "ipython3",
   "version": "3.11.10"
  }
 },
 "nbformat": 4,
 "nbformat_minor": 5
}
