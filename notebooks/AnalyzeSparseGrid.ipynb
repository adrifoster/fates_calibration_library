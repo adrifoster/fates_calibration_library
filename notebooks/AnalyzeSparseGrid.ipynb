{
 "cells": [
  {
   "cell_type": "code",
   "execution_count": 1,
   "id": "bd1b6f38-673f-4fe2-a5a8-989b6e80c16c",
   "metadata": {},
   "outputs": [],
   "source": [
    "import os\n",
    "import numpy as np\n",
    "import xarray as xr\n",
    "import cftime\n",
    "import pandas as pd\n",
    "import glob\n",
    "import matplotlib.pyplot as plt\n",
    "\n",
    "import xesmf as xe\n",
    "\n",
    "import dask\n",
    "from dask_jobqueue import PBSCluster\n",
    "from dask.distributed import Client\n",
    "import fates_calibration_library.analysis_functions as analysis\n",
    "import fates_calibration_library.ilamb_functions as ilamb"
   ]
  },
  {
   "cell_type": "code",
   "execution_count": 2,
   "id": "441fd89f-1af9-4ac7-8bdd-1ba5707dddcd",
   "metadata": {},
   "outputs": [],
   "source": [
    "# Setup PBSCluster\n",
    "cluster = PBSCluster(\n",
    "    cores=1,                                                   # The number of cores you want\n",
    "    memory='25GB',                                             # Amount of memory\n",
    "    processes=1,                                               # How many processes\n",
    "    queue='casper',                                            # The type of queue to utilize\n",
    "    local_directory='/glade/work/afoster',                     # Use your local directory\n",
    "    resource_spec='select=1:ncpus=1:mem=25GB',                 # Specify resources\n",
    "    log_directory='/glade/derecho/scratch/afoster/dask_logs',  # log directory\n",
    "    account='P08010000',                                       # Input your project ID here\n",
    "    walltime='02:00:00',                                       # Amount of wall time\n",
    "    interface='ext')"
   ]
  },
  {
   "cell_type": "code",
   "execution_count": 3,
   "id": "050b8991-d1f8-4a63-9bd6-508d34b4e168",
   "metadata": {},
   "outputs": [
    {
     "data": {
      "text/html": [
       "<div>\n",
       "    <div style=\"width: 24px; height: 24px; background-color: #e1e1e1; border: 3px solid #9D9D9D; border-radius: 5px; position: absolute;\"> </div>\n",
       "    <div style=\"margin-left: 48px;\">\n",
       "        <h3 style=\"margin-bottom: 0px;\">Client</h3>\n",
       "        <p style=\"color: #9D9D9D; margin-bottom: 0px;\">Client-fb93aa4c-010f-11f0-94f2-3cecef1b11de</p>\n",
       "        <table style=\"width: 100%; text-align: left;\">\n",
       "\n",
       "        <tr>\n",
       "        \n",
       "            <td style=\"text-align: left;\"><strong>Connection method:</strong> Cluster object</td>\n",
       "            <td style=\"text-align: left;\"><strong>Cluster type:</strong> dask_jobqueue.PBSCluster</td>\n",
       "        \n",
       "        </tr>\n",
       "\n",
       "        \n",
       "            <tr>\n",
       "                <td style=\"text-align: left;\">\n",
       "                    <strong>Dashboard: </strong> <a href=\"https://jupyterhub.hpc.ucar.edu/stable/user/afoster/proxy/8787/status\" target=\"_blank\">https://jupyterhub.hpc.ucar.edu/stable/user/afoster/proxy/8787/status</a>\n",
       "                </td>\n",
       "                <td style=\"text-align: left;\"></td>\n",
       "            </tr>\n",
       "        \n",
       "\n",
       "        </table>\n",
       "\n",
       "        \n",
       "\n",
       "        \n",
       "            <details>\n",
       "            <summary style=\"margin-bottom: 20px;\"><h3 style=\"display: inline;\">Cluster Info</h3></summary>\n",
       "            <div class=\"jp-RenderedHTMLCommon jp-RenderedHTML jp-mod-trusted jp-OutputArea-output\">\n",
       "    <div style=\"width: 24px; height: 24px; background-color: #e1e1e1; border: 3px solid #9D9D9D; border-radius: 5px; position: absolute;\">\n",
       "    </div>\n",
       "    <div style=\"margin-left: 48px;\">\n",
       "        <h3 style=\"margin-bottom: 0px; margin-top: 0px;\">PBSCluster</h3>\n",
       "        <p style=\"color: #9D9D9D; margin-bottom: 0px;\">09959fb9</p>\n",
       "        <table style=\"width: 100%; text-align: left;\">\n",
       "            <tr>\n",
       "                <td style=\"text-align: left;\">\n",
       "                    <strong>Dashboard:</strong> <a href=\"https://jupyterhub.hpc.ucar.edu/stable/user/afoster/proxy/8787/status\" target=\"_blank\">https://jupyterhub.hpc.ucar.edu/stable/user/afoster/proxy/8787/status</a>\n",
       "                </td>\n",
       "                <td style=\"text-align: left;\">\n",
       "                    <strong>Workers:</strong> 0\n",
       "                </td>\n",
       "            </tr>\n",
       "            <tr>\n",
       "                <td style=\"text-align: left;\">\n",
       "                    <strong>Total threads:</strong> 0\n",
       "                </td>\n",
       "                <td style=\"text-align: left;\">\n",
       "                    <strong>Total memory:</strong> 0 B\n",
       "                </td>\n",
       "            </tr>\n",
       "            \n",
       "        </table>\n",
       "\n",
       "        <details>\n",
       "            <summary style=\"margin-bottom: 20px;\">\n",
       "                <h3 style=\"display: inline;\">Scheduler Info</h3>\n",
       "            </summary>\n",
       "\n",
       "            <div style=\"\">\n",
       "    <div>\n",
       "        <div style=\"width: 24px; height: 24px; background-color: #FFF7E5; border: 3px solid #FF6132; border-radius: 5px; position: absolute;\"> </div>\n",
       "        <div style=\"margin-left: 48px;\">\n",
       "            <h3 style=\"margin-bottom: 0px;\">Scheduler</h3>\n",
       "            <p style=\"color: #9D9D9D; margin-bottom: 0px;\">Scheduler-024234a8-9e27-433e-9837-39519bb47e9e</p>\n",
       "            <table style=\"width: 100%; text-align: left;\">\n",
       "                <tr>\n",
       "                    <td style=\"text-align: left;\">\n",
       "                        <strong>Comm:</strong> tcp://128.117.208.100:35525\n",
       "                    </td>\n",
       "                    <td style=\"text-align: left;\">\n",
       "                        <strong>Workers:</strong> 0\n",
       "                    </td>\n",
       "                </tr>\n",
       "                <tr>\n",
       "                    <td style=\"text-align: left;\">\n",
       "                        <strong>Dashboard:</strong> <a href=\"https://jupyterhub.hpc.ucar.edu/stable/user/afoster/proxy/8787/status\" target=\"_blank\">https://jupyterhub.hpc.ucar.edu/stable/user/afoster/proxy/8787/status</a>\n",
       "                    </td>\n",
       "                    <td style=\"text-align: left;\">\n",
       "                        <strong>Total threads:</strong> 0\n",
       "                    </td>\n",
       "                </tr>\n",
       "                <tr>\n",
       "                    <td style=\"text-align: left;\">\n",
       "                        <strong>Started:</strong> Just now\n",
       "                    </td>\n",
       "                    <td style=\"text-align: left;\">\n",
       "                        <strong>Total memory:</strong> 0 B\n",
       "                    </td>\n",
       "                </tr>\n",
       "            </table>\n",
       "        </div>\n",
       "    </div>\n",
       "\n",
       "    <details style=\"margin-left: 48px;\">\n",
       "        <summary style=\"margin-bottom: 20px;\">\n",
       "            <h3 style=\"display: inline;\">Workers</h3>\n",
       "        </summary>\n",
       "\n",
       "        \n",
       "\n",
       "    </details>\n",
       "</div>\n",
       "\n",
       "        </details>\n",
       "    </div>\n",
       "</div>\n",
       "            </details>\n",
       "        \n",
       "\n",
       "    </div>\n",
       "</div>"
      ],
      "text/plain": [
       "<Client: 'tcp://128.117.208.100:35525' processes=0 threads=0, memory=0 B>"
      ]
     },
     "execution_count": 3,
     "metadata": {},
     "output_type": "execute_result"
    }
   ],
   "source": [
    "cluster.scale(30)\n",
    "dask.config.set({\n",
    "    'distributed.dashboard.link': 'https://jupyterhub.hpc.ucar.edu/stable/user/{USER}/proxy/{port}/status'\n",
    "})\n",
    "client = Client(cluster)\n",
    "client"
   ]
  },
  {
   "cell_type": "code",
   "execution_count": 59,
   "id": "fb202d4f-48ba-43e2-911c-52e516f388bc",
   "metadata": {},
   "outputs": [],
   "source": [
    "fates_vars = ['FATES_FRACTION', 'FATES_GPP', 'FATES_LAI', 'QVEGE',\n",
    "              'QVEGT', 'EFLX_LH_TOT', 'FSH', 'FSR', 'FSDS', 'FSA',\n",
    "              'FIRE', 'FLDS', 'FCTR', 'FCEV', 'FGEV', 'BTRANMN', \n",
    "              'FGR', 'SOILWATER_10CM', 'TWS', 'QRUNOFF', 'SNOWDP',\n",
    "              'TV', 'TG', 'TSA']\n",
    "\n",
    "clm_vars = ['FPSN', 'TLAI', 'QVEGE',\n",
    "              'QVEGT', 'EFLX_LH_TOT', 'FSH', 'FSR', 'FSDS', 'FSA',\n",
    "              'FIRE', 'FLDS', 'FCTR', 'FCEV', 'FGEV', 'BTRANMN', \n",
    "              'FGR', 'SOILWATER_10CM', 'TWS', 'QRUNOFF', 'SNOWDP',\n",
    "              'TV', 'TG', 'TSA']\n",
    "\n",
    "out_vars = ['GPP', 'LAI', 'EFLX_LH_TOT', 'FSH', 'EF', 'SOILWATER_10CM', 'ASA',\n",
    "        'FSR', 'FSA', 'FIRE', 'RLNS', 'RN', 'BTRANMN', 'TV']"
   ]
  },
  {
   "cell_type": "code",
   "execution_count": 60,
   "id": "0778eb82-94af-4bb5-b16a-2441f8f48392",
   "metadata": {},
   "outputs": [],
   "source": [
    "# sparse grid clustering file\n",
    "grid_dir = '/glade/work/afoster/FATES_calibration/surfdata'\n",
    "grid_file = 'clusters.clm51_PPEn02ctsm51d021_2deg_GSWP3V1_leafbiomassesai_PPE3_hist.annual+sd.400.nc'\n",
    "sparse_grid = xr.open_dataset(os.path.join(grid_dir, grid_file))\n",
    "\n",
    "# sparse grid whittaker biomes\n",
    "whittaker_ds = xr.open_dataset('/glade/work/afoster/FATES_calibration/observations/whittaker/whitkey.nc')\n",
    "\n",
    "# fetch the sparsegrid landarea - needed for unit conversion\n",
    "land_area_file = '/glade/work/afoster/FATES_calibration/CLM5PPE/postp/sparsegrid_landarea.nc'\n",
    "land_area = xr.open_dataset(land_area_file).landarea  #km2"
   ]
  },
  {
   "cell_type": "code",
   "execution_count": 61,
   "id": "cc8ab8a2-237a-4acb-8563-731b3efe036c",
   "metadata": {},
   "outputs": [],
   "source": [
    "hist_dir = '/glade/derecho/scratch/afoster/archive/ctsm60SP_bigleaf_sparsegrid/lnd/hist'\n",
    "files = sorted(glob.glob(f\"{hist_dir}/*clm2.h0*.nc\"))\n",
    "\n",
    "ds = analysis.get_clm_ds(files, clm_vars, 2000, fates=False)\n",
    "ds['biome'] = whittaker_ds.biome\n",
    "ds['biome_name'] = whittaker_ds.biome_name"
   ]
  },
  {
   "cell_type": "code",
   "execution_count": 62,
   "id": "16625845-f889-454a-aef4-5a8363b969de",
   "metadata": {},
   "outputs": [],
   "source": [
    "import functools\n",
    "\n",
    "ds = xr.open_mfdataset(\n",
    "    files,\n",
    "    combine=\"nested\",\n",
    "    concat_dim=\"time\",\n",
    "    preprocess=functools.partial(analysis.preprocess, data_vars=clm_vars),\n",
    "    parallel=True,\n",
    "    autoclose=True,\n",
    ")"
   ]
  },
  {
   "cell_type": "code",
   "execution_count": 40,
   "id": "18464aeb-34de-47c7-9c3e-303ebead2001",
   "metadata": {},
   "outputs": [],
   "source": [
    "file = xr.open_dataset('/glade/work/afoster/old_calib/hist_500/ctsm51FATES_SP_OAAT_SatPhen_derecho_2000_FATES_LH_500.nc')"
   ]
  },
  {
   "cell_type": "code",
   "execution_count": 53,
   "id": "72297a54-432c-4f3e-a150-1f5bb2181d86",
   "metadata": {},
   "outputs": [],
   "source": [
    "file2 = xr.open_dataset('/glade/derecho/scratch/afoster/archive/ctsm60SP_bigleaf_fullgrid/lnd/hist/ctsm60SP_bigleaf_fullgrid.clm2.h0.0076-02-01-00000.nc')"
   ]
  },
  {
   "cell_type": "code",
   "execution_count": 25,
   "id": "fa8e361c-aa91-4a68-b98d-5ae0ab854cf1",
   "metadata": {},
   "outputs": [],
   "source": [
    "#plt.scatter(ds.grid1d_lon, ds.grid1d_lat, c=ds.landfrac)"
   ]
  },
  {
   "cell_type": "code",
   "execution_count": null,
   "id": "d93513af-301d-4c49-844e-cf033c537704",
   "metadata": {},
   "outputs": [],
   "source": [
    "gpp_map = analysis.global_from_sparse(sparse_grid, ds['GPP'], ds)\n",
    "gpp_mean = analysis.calculate_annual_mean(gpp_map, 24*60*60).isel(year=19)\n",
    "\n",
    "lai_map = analysis.global_from_sparse(sparse_grid, ds['LAI'], ds)\n",
    "lai_mean = analysis.calculate_annual_mean(lai_map, 1/365).isel(year=19)"
   ]
  }
 ],
 "metadata": {
  "kernelspec": {
   "display_name": "Python [conda env:fates_calibration]",
   "language": "python",
   "name": "conda-env-fates_calibration-py"
  },
  "language_info": {
   "codemirror_mode": {
    "name": "ipython",
    "version": 3
   },
   "file_extension": ".py",
   "mimetype": "text/x-python",
   "name": "python",
   "nbconvert_exporter": "python",
   "pygments_lexer": "ipython3",
   "version": "3.11.10"
  }
 },
 "nbformat": 4,
 "nbformat_minor": 5
}
