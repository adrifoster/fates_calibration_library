{
 "cells": [
  {
   "cell_type": "markdown",
   "id": "20588726-47b5-4ecd-b932-cf47dc46d4ee",
   "metadata": {},
   "source": [
    "# Analyze Our Default Simulations"
   ]
  },
  {
   "cell_type": "code",
   "execution_count": 1,
   "id": "bd1b6f38-673f-4fe2-a5a8-989b6e80c16c",
   "metadata": {},
   "outputs": [],
   "source": [
    "import os\n",
    "import numpy as np\n",
    "import xarray as xr\n",
    "import pandas as pd\n",
    "import matplotlib.pyplot as plt\n",
    "import dask\n",
    "from dask_jobqueue import PBSCluster\n",
    "from dask.distributed import Client\n",
    "\n",
    "import fates_calibration_library.analysis_functions as analysis\n",
    "import fates_calibration_library.ilamb_functions as ilamb\n",
    "import fates_calibration_library.plotting_functions as plotting\n",
    "import fates_calibration_library.utils as utils"
   ]
  },
  {
   "cell_type": "code",
   "execution_count": 2,
   "id": "441fd89f-1af9-4ac7-8bdd-1ba5707dddcd",
   "metadata": {},
   "outputs": [],
   "source": [
    "# Setup PBSCluster\n",
    "cluster = PBSCluster(\n",
    "    cores=1,                                                   # The number of cores you want\n",
    "    memory='25GB',                                             # Amount of memory\n",
    "    processes=1,                                               # How many processes\n",
    "    queue='casper',                                            # The type of queue to utilize\n",
    "    local_directory='/glade/work/afoster',                     # Use your local directory\n",
    "    resource_spec='select=1:ncpus=1:mem=25GB',                 # Specify resources\n",
    "    log_directory='/glade/derecho/scratch/afoster/dask_logs',  # log directory\n",
    "    account='P08010000',                                       # Input your project ID here\n",
    "    walltime='04:00:00',                                       # Amount of wall time\n",
    "    interface='ext')"
   ]
  },
  {
   "cell_type": "code",
   "execution_count": 3,
   "id": "050b8991-d1f8-4a63-9bd6-508d34b4e168",
   "metadata": {},
   "outputs": [
    {
     "data": {
      "text/html": [
       "<div>\n",
       "    <div style=\"width: 24px; height: 24px; background-color: #e1e1e1; border: 3px solid #9D9D9D; border-radius: 5px; position: absolute;\"> </div>\n",
       "    <div style=\"margin-left: 48px;\">\n",
       "        <h3 style=\"margin-bottom: 0px;\">Client</h3>\n",
       "        <p style=\"color: #9D9D9D; margin-bottom: 0px;\">Client-eff9c60a-3109-11f0-8081-10ffe07c1a6c</p>\n",
       "        <table style=\"width: 100%; text-align: left;\">\n",
       "\n",
       "        <tr>\n",
       "        \n",
       "            <td style=\"text-align: left;\"><strong>Connection method:</strong> Cluster object</td>\n",
       "            <td style=\"text-align: left;\"><strong>Cluster type:</strong> dask_jobqueue.PBSCluster</td>\n",
       "        \n",
       "        </tr>\n",
       "\n",
       "        \n",
       "            <tr>\n",
       "                <td style=\"text-align: left;\">\n",
       "                    <strong>Dashboard: </strong> <a href=\"https://jupyterhub.hpc.ucar.edu/stable/user/afoster/proxy/8787/status\" target=\"_blank\">https://jupyterhub.hpc.ucar.edu/stable/user/afoster/proxy/8787/status</a>\n",
       "                </td>\n",
       "                <td style=\"text-align: left;\"></td>\n",
       "            </tr>\n",
       "        \n",
       "\n",
       "        </table>\n",
       "\n",
       "        \n",
       "\n",
       "        \n",
       "            <details>\n",
       "            <summary style=\"margin-bottom: 20px;\"><h3 style=\"display: inline;\">Cluster Info</h3></summary>\n",
       "            <div class=\"jp-RenderedHTMLCommon jp-RenderedHTML jp-mod-trusted jp-OutputArea-output\">\n",
       "    <div style=\"width: 24px; height: 24px; background-color: #e1e1e1; border: 3px solid #9D9D9D; border-radius: 5px; position: absolute;\">\n",
       "    </div>\n",
       "    <div style=\"margin-left: 48px;\">\n",
       "        <h3 style=\"margin-bottom: 0px; margin-top: 0px;\">PBSCluster</h3>\n",
       "        <p style=\"color: #9D9D9D; margin-bottom: 0px;\">c9580155</p>\n",
       "        <table style=\"width: 100%; text-align: left;\">\n",
       "            <tr>\n",
       "                <td style=\"text-align: left;\">\n",
       "                    <strong>Dashboard:</strong> <a href=\"https://jupyterhub.hpc.ucar.edu/stable/user/afoster/proxy/8787/status\" target=\"_blank\">https://jupyterhub.hpc.ucar.edu/stable/user/afoster/proxy/8787/status</a>\n",
       "                </td>\n",
       "                <td style=\"text-align: left;\">\n",
       "                    <strong>Workers:</strong> 0\n",
       "                </td>\n",
       "            </tr>\n",
       "            <tr>\n",
       "                <td style=\"text-align: left;\">\n",
       "                    <strong>Total threads:</strong> 0\n",
       "                </td>\n",
       "                <td style=\"text-align: left;\">\n",
       "                    <strong>Total memory:</strong> 0 B\n",
       "                </td>\n",
       "            </tr>\n",
       "            \n",
       "        </table>\n",
       "\n",
       "        <details>\n",
       "            <summary style=\"margin-bottom: 20px;\">\n",
       "                <h3 style=\"display: inline;\">Scheduler Info</h3>\n",
       "            </summary>\n",
       "\n",
       "            <div style=\"\">\n",
       "    <div>\n",
       "        <div style=\"width: 24px; height: 24px; background-color: #FFF7E5; border: 3px solid #FF6132; border-radius: 5px; position: absolute;\"> </div>\n",
       "        <div style=\"margin-left: 48px;\">\n",
       "            <h3 style=\"margin-bottom: 0px;\">Scheduler</h3>\n",
       "            <p style=\"color: #9D9D9D; margin-bottom: 0px;\">Scheduler-7f56238e-fc69-4a83-b19d-98d4e4a5dcbd</p>\n",
       "            <table style=\"width: 100%; text-align: left;\">\n",
       "                <tr>\n",
       "                    <td style=\"text-align: left;\">\n",
       "                        <strong>Comm:</strong> tcp://128.117.208.175:42223\n",
       "                    </td>\n",
       "                    <td style=\"text-align: left;\">\n",
       "                        <strong>Workers:</strong> 0\n",
       "                    </td>\n",
       "                </tr>\n",
       "                <tr>\n",
       "                    <td style=\"text-align: left;\">\n",
       "                        <strong>Dashboard:</strong> <a href=\"https://jupyterhub.hpc.ucar.edu/stable/user/afoster/proxy/8787/status\" target=\"_blank\">https://jupyterhub.hpc.ucar.edu/stable/user/afoster/proxy/8787/status</a>\n",
       "                    </td>\n",
       "                    <td style=\"text-align: left;\">\n",
       "                        <strong>Total threads:</strong> 0\n",
       "                    </td>\n",
       "                </tr>\n",
       "                <tr>\n",
       "                    <td style=\"text-align: left;\">\n",
       "                        <strong>Started:</strong> 1 minute ago\n",
       "                    </td>\n",
       "                    <td style=\"text-align: left;\">\n",
       "                        <strong>Total memory:</strong> 0 B\n",
       "                    </td>\n",
       "                </tr>\n",
       "            </table>\n",
       "        </div>\n",
       "    </div>\n",
       "\n",
       "    <details style=\"margin-left: 48px;\">\n",
       "        <summary style=\"margin-bottom: 20px;\">\n",
       "            <h3 style=\"display: inline;\">Workers</h3>\n",
       "        </summary>\n",
       "\n",
       "        \n",
       "\n",
       "    </details>\n",
       "</div>\n",
       "\n",
       "        </details>\n",
       "    </div>\n",
       "</div>\n",
       "            </details>\n",
       "        \n",
       "\n",
       "    </div>\n",
       "</div>"
      ],
      "text/plain": [
       "<Client: 'tcp://128.117.208.175:42223' processes=0 threads=0, memory=0 B>"
      ]
     },
     "execution_count": 3,
     "metadata": {},
     "output_type": "execute_result"
    }
   ],
   "source": [
    "cluster.scale(30)\n",
    "dask.config.set({\n",
    "    'distributed.dashboard.link': 'https://jupyterhub.hpc.ucar.edu/stable/user/{USER}/proxy/{port}/status'\n",
    "})\n",
    "client = Client(cluster)\n",
    "client"
   ]
  },
  {
   "cell_type": "markdown",
   "id": "c3a67beb-3b97-4f29-a47c-63d06ac3ca76",
   "metadata": {},
   "source": [
    "## Set Up\n",
    "\n",
    "First specify history variables and variables to investigate"
   ]
  },
  {
   "cell_type": "code",
   "execution_count": 4,
   "id": "fb202d4f-48ba-43e2-911c-52e516f388bc",
   "metadata": {},
   "outputs": [],
   "source": [
    "fates_vars = ['FATES_FRACTION', 'FATES_GPP', 'FATES_LAI', 'QVEGE',\n",
    "              'QVEGT', 'EFLX_LH_TOT', 'FSH', 'FSR', 'FSDS', 'FSA',\n",
    "              'FIRE', 'FLDS', 'FCTR', 'FCEV', 'FGEV', 'BTRANMN',\n",
    "              'FGR', 'SOILWATER_10CM', 'TWS', 'QRUNOFF', 'SNOWDP',\n",
    "              'TV', 'TG', 'TSA', 'TBOT']\n",
    "\n",
    "clm_vars = ['FPSN', 'TLAI', 'QVEGE', 'QVEGT', 'EFLX_LH_TOT', 'FSH',\n",
    "            'FSR', 'FSDS', 'FSA', 'FIRE', 'FLDS', 'FCTR', 'FCEV',\n",
    "            'FGEV', 'BTRANMN', 'FGR', 'SOILWATER_10CM', 'TWS',\n",
    "            'QRUNOFF', 'SNOWDP', 'TV', 'TG', 'TSA', 'TBOT']\n",
    "\n",
    "out_vars = ['GPP', 'LAI', 'EFLX_LH_TOT', 'FSH', 'EF', 'SOILWATER_10CM', 'ASA',\n",
    "            'FSR', 'FSA', 'FIRE', 'RLNS', 'RN', 'BTRANMN', 'TV']"
   ]
  },
  {
   "cell_type": "code",
   "execution_count": 7,
   "id": "76cea593-aa2b-42eb-aedd-8205cd140300",
   "metadata": {},
   "outputs": [],
   "source": [
    "client.shutdown()"
   ]
  },
  {
   "cell_type": "markdown",
   "id": "3bca8bb6-c244-41ac-9512-aa68f889afcd",
   "metadata": {},
   "source": [
    "### Files Needed"
   ]
  },
  {
   "cell_type": "code",
   "execution_count": 5,
   "id": "0778eb82-94af-4bb5-b16a-2441f8f48392",
   "metadata": {},
   "outputs": [],
   "source": [
    "# sparse grid clustering file\n",
    "grid_dir = '/glade/work/afoster/FATES_calibration/surfdata'\n",
    "grid_file = 'clusters.clm51_PPEn02ctsm51d021_2deg_GSWP3V1_leafbiomassesai_PPE3_hist.annual+sd.400.nc'\n",
    "sparse_grid = xr.open_dataset(os.path.join(grid_dir, grid_file))\n",
    "\n",
    "# sparse grid whittaker biomes\n",
    "whittaker_ds = xr.open_dataset('/glade/work/afoster/FATES_calibration/observations/whittaker/whitkey.nc')\n",
    "\n",
    "# fetch the sparsegrid landarea - needed for unit conversion\n",
    "land_area_file = '/glade/work/afoster/FATES_calibration/CLM5PPE/postp/sparsegrid_landarea.nc'\n",
    "land_area = xr.open_dataset(land_area_file).landarea\n",
    "\n",
    "# create a global land frac and area grid\n",
    "land_frac_ds = os.path.join(\"/glade/derecho/scratch/afoster/archive\",\n",
    "                            \"ctsm60SP_bigleaf_fullgrid/lnd/hist\",\n",
    "                            \"ctsm60SP_bigleaf_fullgrid.clm2.h0.0001-02-01-00000.nc\")\n",
    "target_grid = analysis.create_target_grid(land_frac_ds, 'FSR')\n",
    "\n",
    "\n",
    "# config file with conversion information in it\n",
    "var_config = '/glade/work/afoster/FATES_calibration/fates_calibration_library/configs/model_conversion.yaml'\n",
    "var_dict = utils.get_config_file(var_config)\n",
    "\n",
    "# ilamb observations\n",
    "ilamb_config_file = '/glade/work/afoster/FATES_calibration/fates_calibration_library/configs/ilamb_conversion.yaml'\n",
    "ilamb_config = utils.get_config_file(ilamb_config_file)\n",
    "ilamb_obs = xr.open_dataset('/glade/work/afoster/FATES_calibration/observations/all_ILAMB_obs.nc')"
   ]
  },
  {
   "cell_type": "markdown",
   "id": "9ab3d3ed-a93d-4778-b841-24ae93807866",
   "metadata": {},
   "source": [
    "## Read in Datasets"
   ]
  },
  {
   "cell_type": "code",
   "execution_count": 6,
   "id": "3be139e9-7d02-4ce5-8e5e-733d9e68c606",
   "metadata": {},
   "outputs": [
    {
     "ename": "AttributeError",
     "evalue": "'Dataset' object has no attribute 'SNOW'",
     "output_type": "error",
     "traceback": [
      "\u001b[0;31m---------------------------------------------------------------------------\u001b[0m",
      "\u001b[0;31mAttributeError\u001b[0m                            Traceback (most recent call last)",
      "Cell \u001b[0;32mIn[6], line 3\u001b[0m\n\u001b[1;32m      1\u001b[0m \u001b[38;5;66;03m# FATES sparse grid run\u001b[39;00m\n\u001b[1;32m      2\u001b[0m sparse_fates_dir \u001b[38;5;241m=\u001b[39m \u001b[38;5;124m'\u001b[39m\u001b[38;5;124m/glade/derecho/scratch/afoster/archive/ctsm60SP_fates_sparse_vai_default_latest/lnd/hist\u001b[39m\u001b[38;5;124m'\u001b[39m\n\u001b[0;32m----> 3\u001b[0m sparse_fates_ds \u001b[38;5;241m=\u001b[39m \u001b[43manalysis\u001b[49m\u001b[38;5;241;43m.\u001b[39;49m\u001b[43mpost_process_ds\u001b[49m\u001b[43m(\u001b[49m\u001b[43msparse_fates_dir\u001b[49m\u001b[43m,\u001b[49m\u001b[43m \u001b[49m\u001b[43mfates_vars\u001b[49m\u001b[43m,\u001b[49m\u001b[43m \u001b[49m\u001b[43mwhittaker_ds\u001b[49m\u001b[43m,\u001b[49m\n\u001b[1;32m      4\u001b[0m \u001b[43m                                     \u001b[49m\u001b[43myears\u001b[49m\u001b[38;5;241;43m=\u001b[39;49m\u001b[43m[\u001b[49m\u001b[38;5;241;43m2000\u001b[39;49m\u001b[43m,\u001b[49m\u001b[43m \u001b[49m\u001b[38;5;241;43m2015\u001b[39;49m\u001b[43m]\u001b[49m\u001b[43m,\u001b[49m\u001b[43m \u001b[49m\u001b[43mrun_dict\u001b[49m\u001b[38;5;241;43m=\u001b[39;49m\u001b[43m{\u001b[49m\u001b[38;5;124;43m'\u001b[39;49m\u001b[38;5;124;43mfilter_nyears\u001b[39;49m\u001b[38;5;124;43m'\u001b[39;49m\u001b[43m:\u001b[49m\u001b[43m \u001b[49m\u001b[38;5;241;43m20\u001b[39;49m\u001b[43m}\u001b[49m\u001b[43m)\u001b[49m\n",
      "File \u001b[0;32m/glade/work/afoster/FATES_calibration/fates_calibration_library/fates_calibration_library/analysis_functions.py:246\u001b[0m, in \u001b[0;36mpost_process_ds\u001b[0;34m(hist_dir, data_vars, whittaker_ds, years, run_dict)\u001b[0m\n\u001b[1;32m    243\u001b[0m filter_nyears \u001b[38;5;241m=\u001b[39m run_dict\u001b[38;5;241m.\u001b[39mget(\u001b[38;5;124m\"\u001b[39m\u001b[38;5;124mfilter_nyears\u001b[39m\u001b[38;5;124m\"\u001b[39m, \u001b[38;5;28;01mNone\u001b[39;00m)\n\u001b[1;32m    245\u001b[0m \u001b[38;5;66;03m# read in dataset and calculate/convert units on some variables\u001b[39;00m\n\u001b[0;32m--> 246\u001b[0m ds \u001b[38;5;241m=\u001b[39m \u001b[43mget_clm_ds\u001b[49m\u001b[43m(\u001b[49m\n\u001b[1;32m    247\u001b[0m \u001b[43m    \u001b[49m\u001b[43mget_files\u001b[49m\u001b[43m(\u001b[49m\u001b[43mhist_dir\u001b[49m\u001b[43m)\u001b[49m\u001b[43m,\u001b[49m\n\u001b[1;32m    248\u001b[0m \u001b[43m    \u001b[49m\u001b[43mdata_vars\u001b[49m\u001b[43m,\u001b[49m\n\u001b[1;32m    249\u001b[0m \u001b[43m    \u001b[49m\u001b[43myears\u001b[49m\u001b[43m[\u001b[49m\u001b[38;5;241;43m0\u001b[39;49m\u001b[43m]\u001b[49m\u001b[43m,\u001b[49m\n\u001b[1;32m    250\u001b[0m \u001b[43m    \u001b[49m\u001b[43mrun_dict\u001b[49m\u001b[43m,\u001b[49m\n\u001b[1;32m    251\u001b[0m \u001b[43m\u001b[49m\u001b[43m)\u001b[49m\n\u001b[1;32m    253\u001b[0m \u001b[38;5;66;03m# add Whittaker biomes if we are doing a sparse run\u001b[39;00m\n\u001b[1;32m    254\u001b[0m \u001b[38;5;28;01mif\u001b[39;00m sparse:\n",
      "File \u001b[0;32m/glade/work/afoster/FATES_calibration/fates_calibration_library/fates_calibration_library/analysis_functions.py:453\u001b[0m, in \u001b[0;36mget_clm_ds\u001b[0;34m(files, data_vars, start_year, run_dict)\u001b[0m\n\u001b[1;32m    450\u001b[0m ds[\u001b[38;5;124m\"\u001b[39m\u001b[38;5;124mTemp\u001b[39m\u001b[38;5;124m\"\u001b[39m]\u001b[38;5;241m.\u001b[39mattrs[\u001b[38;5;124m\"\u001b[39m\u001b[38;5;124munits\u001b[39m\u001b[38;5;124m\"\u001b[39m] \u001b[38;5;241m=\u001b[39m \u001b[38;5;124m\"\u001b[39m\u001b[38;5;124mdegrees C\u001b[39m\u001b[38;5;124m\"\u001b[39m\n\u001b[1;32m    451\u001b[0m ds[\u001b[38;5;124m\"\u001b[39m\u001b[38;5;124mTemp\u001b[39m\u001b[38;5;124m\"\u001b[39m]\u001b[38;5;241m.\u001b[39mattrs[\u001b[38;5;124m\"\u001b[39m\u001b[38;5;124mlong_name\u001b[39m\u001b[38;5;124m\"\u001b[39m] \u001b[38;5;241m=\u001b[39m ds[\u001b[38;5;124m\"\u001b[39m\u001b[38;5;124mTSA\u001b[39m\u001b[38;5;124m\"\u001b[39m]\u001b[38;5;241m.\u001b[39mattrs[\u001b[38;5;124m\"\u001b[39m\u001b[38;5;124mlong_name\u001b[39m\u001b[38;5;124m\"\u001b[39m]\n\u001b[0;32m--> 453\u001b[0m ds[\u001b[38;5;124m'\u001b[39m\u001b[38;5;124mPrecip\u001b[39m\u001b[38;5;124m'\u001b[39m] \u001b[38;5;241m=\u001b[39m \u001b[43mds\u001b[49m\u001b[38;5;241;43m.\u001b[39;49m\u001b[43mSNOW\u001b[49m \u001b[38;5;241m+\u001b[39m ds\u001b[38;5;241m.\u001b[39mRAIN\n\u001b[1;32m    454\u001b[0m ds[\u001b[38;5;124m\"\u001b[39m\u001b[38;5;124mPrecip\u001b[39m\u001b[38;5;124m\"\u001b[39m]\u001b[38;5;241m.\u001b[39mattrs[\u001b[38;5;124m\"\u001b[39m\u001b[38;5;124munits\u001b[39m\u001b[38;5;124m\"\u001b[39m] \u001b[38;5;241m=\u001b[39m \u001b[38;5;124m\"\u001b[39m\u001b[38;5;124mmm s-1\u001b[39m\u001b[38;5;124m\"\u001b[39m\n\u001b[1;32m    455\u001b[0m ds[\u001b[38;5;124m\"\u001b[39m\u001b[38;5;124mPrecip\u001b[39m\u001b[38;5;124m\"\u001b[39m]\u001b[38;5;241m.\u001b[39mattrs[\u001b[38;5;124m\"\u001b[39m\u001b[38;5;124mlong_name\u001b[39m\u001b[38;5;124m\"\u001b[39m] \u001b[38;5;241m=\u001b[39m \u001b[38;5;124m\"\u001b[39m\u001b[38;5;124mtotal precipitation\u001b[39m\u001b[38;5;124m\"\u001b[39m\n",
      "File \u001b[0;32m/glade/work/afoster/conda-envs/fates_calibration/lib/python3.11/site-packages/xarray/core/common.py:280\u001b[0m, in \u001b[0;36mAttrAccessMixin.__getattr__\u001b[0;34m(self, name)\u001b[0m\n\u001b[1;32m    278\u001b[0m         \u001b[38;5;28;01mwith\u001b[39;00m suppress(\u001b[38;5;167;01mKeyError\u001b[39;00m):\n\u001b[1;32m    279\u001b[0m             \u001b[38;5;28;01mreturn\u001b[39;00m source[name]\n\u001b[0;32m--> 280\u001b[0m \u001b[38;5;28;01mraise\u001b[39;00m \u001b[38;5;167;01mAttributeError\u001b[39;00m(\n\u001b[1;32m    281\u001b[0m     \u001b[38;5;124mf\u001b[39m\u001b[38;5;124m\"\u001b[39m\u001b[38;5;132;01m{\u001b[39;00m\u001b[38;5;28mtype\u001b[39m(\u001b[38;5;28mself\u001b[39m)\u001b[38;5;241m.\u001b[39m\u001b[38;5;18m__name__\u001b[39m\u001b[38;5;132;01m!r}\u001b[39;00m\u001b[38;5;124m object has no attribute \u001b[39m\u001b[38;5;132;01m{\u001b[39;00mname\u001b[38;5;132;01m!r}\u001b[39;00m\u001b[38;5;124m\"\u001b[39m\n\u001b[1;32m    282\u001b[0m )\n",
      "\u001b[0;31mAttributeError\u001b[0m: 'Dataset' object has no attribute 'SNOW'"
     ]
    }
   ],
   "source": [
    "# FATES sparse grid run\n",
    "sparse_fates_dir = '/glade/derecho/scratch/afoster/archive/ctsm60SP_fates_sparse_vai_default_latest/lnd/hist'\n",
    "sparse_fates_ds = analysis.post_process_ds(sparse_fates_dir, fates_vars, whittaker_ds,\n",
    "                                     years=[2000, 2015], run_dict={'filter_nyears': 20})"
   ]
  },
  {
   "cell_type": "code",
   "execution_count": null,
   "id": "6e0c03df-d04b-47bc-b2e0-ae5f6b78d4ad",
   "metadata": {},
   "outputs": [],
   "source": [
    "# FATES sparse grid run - latest tag\n",
    "sparse_fates_dir_latest = '/glade/derecho/scratch/afoster/archive/ctsm60SP_fates_sparse_crujra/lnd/hist'\n",
    "sparse_fates_ds_latest = analysis.post_process_ds(sparse_fates_dir_latest, fates_vars, whittaker_ds,\n",
    "                                     years=[2000, 2015], run_dict={'filter_nyears': 20})"
   ]
  },
  {
   "cell_type": "code",
   "execution_count": null,
   "id": "9de41f8b-2517-468d-a610-cf613e1c82d8",
   "metadata": {},
   "outputs": [],
   "source": [
    "# FATES global run\n",
    "global_fates_dir = '/glade/derecho/scratch/afoster/archive/ctsm60SP_fates_full/lnd/hist'\n",
    "global_fates_ds = analysis.post_process_ds(global_fates_dir, fates_vars, whittaker_ds,\n",
    "                                     [2000, 2015],\n",
    "                                     {'sparse': False, 'filter_nyears': 20})"
   ]
  },
  {
   "cell_type": "code",
   "execution_count": null,
   "id": "a94c6468-ee18-4410-a916-9e8561915c12",
   "metadata": {},
   "outputs": [],
   "source": [
    "# CLM sparse grid run\n",
    "sparse_clm_dir = '/glade/derecho/scratch/afoster/archive/ctsm60SP_bigleaf_sparse_hydrstress/lnd/hist'\n",
    "sparse_clm_ds = analysis.post_process_ds(sparse_clm_dir, clm_vars, whittaker_ds,\n",
    "                                     [2000, 2015],\n",
    "                                     {'sparse': True, 'fates': False, 'filter_nyears': 20})"
   ]
  },
  {
   "cell_type": "markdown",
   "id": "a5375997-e26a-4250-a544-dbd13ab16da0",
   "metadata": {},
   "source": [
    "## Post-Process Datasets\n",
    "\n",
    "\n",
    "### Temporal Averaging\n",
    "First calculate annual and monthly means"
   ]
  },
  {
   "cell_type": "code",
   "execution_count": null,
   "id": "13760c2b-fa2a-45fa-b9e8-c5ba38f5c55d",
   "metadata": {},
   "outputs": [],
   "source": [
    "# annual means\n",
    "fates_ann_means_sparse = analysis.apply_to_vars(sparse_fates_ds, out_vars, func=analysis.calculate_annual_mean, add_sparse=True,\n",
    "                                         conversion_factor={var: var_dict[var][\"time_conversion_factor\"] for var in out_vars},\n",
    "                                         new_units={var: var_dict[var][\"annual_units\"] for var in out_vars}).mean(dim='year')\n",
    "\n",
    "fates_ann_means_sparse_latest = analysis.apply_to_vars(sparse_fates_ds_latest, out_vars, func=analysis.calculate_annual_mean, add_sparse=True,\n",
    "                                         conversion_factor={var: var_dict[var][\"time_conversion_factor\"] for var in out_vars},\n",
    "                                         new_units={var: var_dict[var][\"annual_units\"] for var in out_vars}).mean(dim='year')\n",
    "\n",
    "fates_ann_means_glob = analysis.apply_to_vars(global_fates_ds, out_vars,\n",
    "                                         func=analysis.calculate_annual_mean,\n",
    "                                         add_sparse=False,\n",
    "                                         conversion_factor={var: var_dict[var][\"time_conversion_factor\"] for var in out_vars},\n",
    "                                         new_units={var: var_dict[var][\"annual_units\"] for var in out_vars}).mean(dim='year')\n",
    "\n",
    "clm_ann_means_sparse = analysis.apply_to_vars(sparse_clm_ds, out_vars, func=analysis.calculate_annual_mean, add_sparse=True,\n",
    "                                         conversion_factor={var: var_dict[var][\"time_conversion_factor\"] for var in out_vars},\n",
    "                                         new_units={var: var_dict[var][\"annual_units\"] for var in out_vars}).mean(dim='year')"
   ]
  },
  {
   "cell_type": "code",
   "execution_count": null,
   "id": "5c2f49f0-c522-4de1-b6bd-9d2e0bd01de1",
   "metadata": {},
   "outputs": [],
   "source": [
    "# monthly means\n",
    "fates_month_means_sparse = analysis.apply_to_vars(sparse_fates_ds, out_vars,\n",
    "                                         func=analysis.calculate_monthly_mean,\n",
    "                                         add_sparse=True,\n",
    "                                         conversion_factor={var: var_dict[var][\"time_conversion_factor\"] for var in out_vars})\n",
    "\n",
    "fates_month_means_sparse_latest = analysis.apply_to_vars(sparse_fates_ds_latest, out_vars,\n",
    "                                         func=analysis.calculate_monthly_mean,\n",
    "                                         add_sparse=True,\n",
    "                                         conversion_factor={var: var_dict[var][\"time_conversion_factor\"] for var in out_vars})\n",
    "\n",
    "fates_month_means_glob = analysis.apply_to_vars(global_fates_ds, out_vars,\n",
    "                                         func=analysis.calculate_monthly_mean,\n",
    "                                         add_sparse=False,\n",
    "                                         conversion_factor={var: var_dict[var][\"time_conversion_factor\"] for var in out_vars})\n",
    "\n",
    "clm_month_means_sparse = analysis.apply_to_vars(sparse_clm_ds, out_vars,\n",
    "                                         func=analysis.calculate_monthly_mean,\n",
    "                                         add_sparse=True,\n",
    "                                         conversion_factor={var: var_dict[var][\"time_conversion_factor\"] for var in out_vars})"
   ]
  },
  {
   "cell_type": "markdown",
   "id": "6e4d83d7-0c33-4b62-a26c-9beeb4ad564f",
   "metadata": {},
   "source": [
    "### Calculate Month of Max\n",
    "Calculate the month of the maximum variable"
   ]
  },
  {
   "cell_type": "code",
   "execution_count": null,
   "id": "6384b04d-1d62-4dff-9a80-104bd80bc06d",
   "metadata": {},
   "outputs": [],
   "source": [
    "# month of max\n",
    "fates_max_month_sparse = analysis.apply_to_vars(fates_month_means_sparse, out_vars,\n",
    "                                         func=lambda x: x.idxmax(dim=\"month\"),\n",
    "                                         add_sparse=True)\n",
    "\n",
    "fates_max_month_sparse_latest = analysis.apply_to_vars(fates_month_means_sparse_latest, out_vars,\n",
    "                                         func=lambda x: x.idxmax(dim=\"month\"),\n",
    "                                         add_sparse=True)\n",
    "\n",
    "fates_max_month_glob = analysis.apply_to_vars(fates_month_means_glob, out_vars,\n",
    "                                         func=lambda x: x.idxmax(dim=\"month\"),\n",
    "                                         add_sparse=False)\n",
    "\n",
    "clm_max_month_sparse = analysis.apply_to_vars(clm_month_means_sparse, out_vars,\n",
    "                                         func=lambda x: x.idxmax(dim=\"month\"),\n",
    "                                         add_sparse=True)"
   ]
  },
  {
   "cell_type": "markdown",
   "id": "37a1a030-6465-468b-bab9-af7e0017a6df",
   "metadata": {},
   "source": [
    "### Remap Sparse Grid\n",
    "\n",
    "Remap the annual and monthly sparse means to a global grid"
   ]
  },
  {
   "cell_type": "code",
   "execution_count": null,
   "id": "fa070865-01c2-4314-8c15-0dd5740b75c3",
   "metadata": {},
   "outputs": [],
   "source": [
    "# maps from the annual means\n",
    "fates_sparse_glob = analysis.get_sparse_maps(fates_ann_means_sparse, sparse_grid,\n",
    "                                     out_vars)\n",
    "\n",
    "fates_sparse_glob_latest = analysis.get_sparse_maps(fates_ann_means_sparse_latest, sparse_grid,\n",
    "                                     out_vars)\n",
    "\n",
    "clm_sparse_glob = analysis.get_sparse_maps(clm_ann_means_sparse, sparse_grid,\n",
    "                                     out_vars)\n",
    "\n",
    "\n",
    "# maps from the monthly maxes\n",
    "fates_sparse_glob_month_max = analysis.get_sparse_maps(fates_max_month_sparse, sparse_grid,\n",
    "                                     out_vars)\n",
    "\n",
    "fates_sparse_glob_month_max_latest = analysis.get_sparse_maps(fates_max_month_sparse_latest, sparse_grid,\n",
    "                                     out_vars)\n",
    "\n",
    "clm_sparse_glob_month_max = analysis.get_sparse_maps(clm_max_month_sparse, sparse_grid,\n",
    "                                     out_vars)"
   ]
  },
  {
   "cell_type": "markdown",
   "id": "da96e0cb-ce16-4530-9e52-1454c2cf47c1",
   "metadata": {},
   "source": [
    "### Zonal Means\n",
    "Calculate zonal means (by latitude)"
   ]
  },
  {
   "cell_type": "code",
   "execution_count": null,
   "id": "a8d2a187-6bf5-4ff0-bc00-c759b9e5a649",
   "metadata": {},
   "outputs": [],
   "source": [
    "# zonal means\n",
    "fates_zonal_sparse = analysis.apply_to_vars(fates_sparse_glob, out_vars,\n",
    "                                         func=analysis.calculate_zonal_mean,\n",
    "                                         add_sparse=False,\n",
    "                                         land_area=target_grid.land_area,\n",
    "                                         conversion_factor={var: var_dict[var][\"area_conversion_factor\"] for var in out_vars})\n",
    "\n",
    "fates_zonal_sparse_latest = analysis.apply_to_vars(fates_sparse_glob_latest, out_vars,\n",
    "                                         func=analysis.calculate_zonal_mean,\n",
    "                                         add_sparse=False,\n",
    "                                         land_area=target_grid.land_area,\n",
    "                                         conversion_factor={var: var_dict[var][\"area_conversion_factor\"] for var in out_vars})\n",
    "\n",
    "fates_zonal_global = analysis.apply_to_vars(fates_ann_means_glob, out_vars,\n",
    "                                         func=analysis.calculate_zonal_mean,\n",
    "                                         add_sparse=False,\n",
    "                                         land_area=target_grid.land_area,\n",
    "                                         conversion_factor={var: var_dict[var][\"area_conversion_factor\"] for var in out_vars})\n",
    "\n",
    "clm_zonal_sparse = analysis.apply_to_vars(clm_sparse_glob, out_vars,\n",
    "                                         func=analysis.calculate_zonal_mean,\n",
    "                                         add_sparse=False,\n",
    "                                         land_area=target_grid.land_area,\n",
    "                                         conversion_factor={var: var_dict[var][\"area_conversion_factor\"] for var in out_vars})"
   ]
  },
  {
   "cell_type": "markdown",
   "id": "16777188-4d86-493e-8a17-9e9ce123dfd6",
   "metadata": {},
   "source": [
    "### Climatology\n",
    "Calculate climatology"
   ]
  },
  {
   "cell_type": "code",
   "execution_count": null,
   "id": "ea9c7388-bd5a-4d05-85f8-11e76bfec8ce",
   "metadata": {},
   "outputs": [],
   "source": [
    "# area means from monthly\n",
    "fates_sparse_glob_monthly = analysis.get_sparse_area_means(fates_month_means_sparse, 'global',\n",
    "                                                out_vars, var_dict, land_area,\n",
    "                                                sparse_fates_ds.biome)\n",
    "\n",
    "fates_sparse_glob_monthly_latest = analysis.get_sparse_area_means(fates_month_means_sparse_latest, 'global',\n",
    "                                                out_vars, var_dict, land_area,\n",
    "                                                sparse_fates_ds.biome)\n",
    "\n",
    "fates_glob_monthly = analysis.apply_to_vars(fates_month_means_glob, out_vars,\n",
    "                                         func=analysis.area_mean,\n",
    "                                         add_sparse=False,\n",
    "                                         cf={var: var_dict[var][\"area_conversion_factor\"] for var in out_vars},\n",
    "                                         land_area=target_grid.land_area)\n",
    "\n",
    "clm_sparse_glob_monthly = analysis.get_sparse_area_means(clm_month_means_sparse, 'global',\n",
    "                                                out_vars, var_dict, land_area,\n",
    "                                                sparse_clm_ds.biome)"
   ]
  },
  {
   "cell_type": "markdown",
   "id": "43f4a3ae-0d3c-4161-a392-2861baa7378f",
   "metadata": {},
   "source": [
    "### Calculate Global Annual Values\n",
    "\n",
    "Area-weighted averages"
   ]
  },
  {
   "cell_type": "code",
   "execution_count": null,
   "id": "07ff44ca-8b6b-4758-b570-9d5fa44af2f3",
   "metadata": {},
   "outputs": [],
   "source": [
    "# sparse area means\n",
    "fates_area_means_sparse = analysis.get_sparse_area_means(fates_ann_means_sparse,\n",
    "                                            'global', out_vars,\n",
    "                                            var_dict, land_area, sparse_fates_ds.biome)\n",
    "\n",
    "fates_area_means_sparse_latest = analysis.get_sparse_area_means(fates_ann_means_sparse_latest,\n",
    "                                            'global', out_vars,\n",
    "                                            var_dict, land_area, sparse_fates_ds.biome)\n",
    "\n",
    "clm_area_means_sparse = analysis.get_sparse_area_means(clm_ann_means_sparse,\n",
    "                                            'global', out_vars,\n",
    "                                            var_dict, land_area, sparse_clm_ds.biome)"
   ]
  },
  {
   "cell_type": "markdown",
   "id": "3ca246f9-97c9-4d54-8303-c37356e585f6",
   "metadata": {},
   "source": [
    "## How Well the Does the Sparse Grid Match Global Simulations\n",
    "### Annual Maps"
   ]
  },
  {
   "cell_type": "code",
   "execution_count": null,
   "id": "57efaddf-157a-4eaa-ae6c-ed6c811967d8",
   "metadata": {},
   "outputs": [],
   "source": [
    "var = 'GPP'\n",
    "plotting.plot_two_model_diff(fates_sparse_glob[var], fates_sparse_glob_latest[var], 'old',\n",
    "                             'new', var, var_dict[var]['annual_units'],\n",
    "                             var_dict[var]['cmap'])"
   ]
  },
  {
   "cell_type": "code",
   "execution_count": null,
   "id": "3bf1ecc8-5e50-4f7c-a191-55e00d2f7971",
   "metadata": {},
   "outputs": [],
   "source": [
    "var = 'LAI'\n",
    "plotting.plot_two_model_diff(fates_sparse_glob[var], fates_sparse_glob_latest[var], 'Old',\n",
    "                             'New', var, var_dict[var]['annual_units'],\n",
    "                             var_dict[var]['cmap'])"
   ]
  },
  {
   "cell_type": "code",
   "execution_count": null,
   "id": "ce09100f-773c-4502-823e-f720f0b26fba",
   "metadata": {},
   "outputs": [],
   "source": [
    "var = 'EFLX_LH_TOT'\n",
    "plotting.plot_two_model_diff(fates_sparse_glob[var], fates_sparse_glob_latest[var], 'Old',\n",
    "                             'New', var, var_dict[var]['annual_units'],\n",
    "                             var_dict[var]['cmap'])"
   ]
  },
  {
   "cell_type": "code",
   "execution_count": null,
   "id": "d374c00d-ed00-4c37-aaec-6e06c174143b",
   "metadata": {},
   "outputs": [],
   "source": [
    "var = 'FSH'\n",
    "plotting.plot_two_model_diff(fates_sparse_glob[var], fates_sparse_glob_latest[var], 'Old',\n",
    "                             'New', var, var_dict[var]['annual_units'],\n",
    "                             var_dict[var]['cmap'])"
   ]
  },
  {
   "cell_type": "code",
   "execution_count": null,
   "id": "30d79de4-6a52-4533-a9cf-b027dc7da1cb",
   "metadata": {},
   "outputs": [],
   "source": [
    "var = 'EF'\n",
    "plotting.plot_two_model_diff(fates_sparse_glob[var], fates_sparse_glob_latest[var], 'Old',\n",
    "                             'New', var, var_dict[var]['annual_units'],\n",
    "                             var_dict[var]['cmap'])"
   ]
  },
  {
   "cell_type": "code",
   "execution_count": null,
   "id": "1a109398-98d6-4779-acfd-b0ebaa2c1926",
   "metadata": {},
   "outputs": [],
   "source": [
    "var = 'ASA'\n",
    "plotting.plot_two_model_diff(fates_sparse_glob[var], fates_sparse_glob_latest[var], 'Old',\n",
    "                             'New', var, var_dict[var]['annual_units'],\n",
    "                             var_dict[var]['cmap'])"
   ]
  },
  {
   "cell_type": "code",
   "execution_count": null,
   "id": "71ed1b45-5caf-4ad7-ba42-a1d1b0f98621",
   "metadata": {},
   "outputs": [],
   "source": [
    "var = 'SOILWATER_10CM'\n",
    "plotting.plot_two_model_diff(fates_sparse_glob[var], fates_sparse_glob_latest[var], 'Old',\n",
    "                             'New', var, var_dict[var]['annual_units'],\n",
    "                             var_dict[var]['cmap'])"
   ]
  },
  {
   "cell_type": "code",
   "execution_count": null,
   "id": "d8ab785c-f3fc-413a-9e78-0d9a724756d3",
   "metadata": {},
   "outputs": [],
   "source": [
    "var = 'BTRANMN'\n",
    "plotting.plot_two_model_diff(fates_sparse_glob[var], fates_sparse_glob_latest[var], 'Old',\n",
    "                             'New', var, var_dict[var]['annual_units'],\n",
    "                             var_dict[var]['cmap'])"
   ]
  },
  {
   "cell_type": "markdown",
   "id": "fde1c987-4059-42a2-a9d3-35692856d015",
   "metadata": {},
   "source": [
    "### Zonal Means"
   ]
  },
  {
   "cell_type": "code",
   "execution_count": null,
   "id": "2769dae4-1739-43d4-90fa-b03aa76890e4",
   "metadata": {},
   "outputs": [],
   "source": [
    "var_name = 'GPP'\n",
    "plotting.plot_zonal_mean_diff([fates_zonal_sparse[var_name], fates_zonal_sparse_latest[var_name]],\n",
    "                              ['Old', 'New'], var_name, var_dict[var_name]['long_name'],\n",
    "                              var_dict[var_name]['global_units'])"
   ]
  },
  {
   "cell_type": "code",
   "execution_count": null,
   "id": "2dbb4f80-d8ec-4a4c-8354-84048f6f1c53",
   "metadata": {},
   "outputs": [],
   "source": [
    "var_name = 'LAI'\n",
    "plotting.plot_zonal_mean_diff([fates_zonal_sparse[var_name], fates_zonal_sparse_latest[var_name]],\n",
    "                              ['Old', 'New'], var_name, var_dict[var_name]['long_name'],\n",
    "                              var_dict[var_name]['global_units'])"
   ]
  },
  {
   "cell_type": "code",
   "execution_count": null,
   "id": "4457b271-effe-4a69-b8c1-8616056a566f",
   "metadata": {},
   "outputs": [],
   "source": [
    "var_name = 'ASA'\n",
    "plotting.plot_zonal_mean_diff([fates_zonal_sparse[var_name], fates_zonal_sparse_latest[var_name]],\n",
    "                              ['Old', 'New'], var_name, var_dict[var_name]['long_name'],\n",
    "                              var_dict[var_name]['global_units'])"
   ]
  },
  {
   "cell_type": "code",
   "execution_count": null,
   "id": "5157aa57-c6d8-4145-801f-89c4215cc1f5",
   "metadata": {},
   "outputs": [],
   "source": [
    "var_name = 'EFLX_LH_TOT'\n",
    "plotting.plot_zonal_mean_diff([fates_zonal_sparse[var_name], fates_zonal_sparse_latest[var_name]],\n",
    "                              ['Old', 'New'], var_name, var_dict[var_name]['long_name'],\n",
    "                              var_dict[var_name]['global_units'])"
   ]
  },
  {
   "cell_type": "code",
   "execution_count": null,
   "id": "6e6c5ff4-e3c8-4f51-bc87-31d3588b2edd",
   "metadata": {},
   "outputs": [],
   "source": [
    "var_name = 'FSH'\n",
    "plotting.plot_zonal_mean_diff([fates_zonal_sparse[var_name], fates_zonal_sparse_latest[var_name]],\n",
    "                              ['Old', 'New'], var_name, var_dict[var_name]['long_name'],\n",
    "                              var_dict[var_name]['global_units'])"
   ]
  },
  {
   "cell_type": "code",
   "execution_count": null,
   "id": "d76ff068-f851-4148-969b-86fbe1f71fe4",
   "metadata": {},
   "outputs": [],
   "source": [
    "var_name = 'EF'\n",
    "plotting.plot_zonal_mean_diff([fates_zonal_sparse[var_name], fates_zonal_sparse_latest[var_name]],\n",
    "                              ['Old', 'New'], var_name, var_dict[var_name]['long_name'],\n",
    "                              var_dict[var_name]['global_units'])"
   ]
  },
  {
   "cell_type": "code",
   "execution_count": null,
   "id": "eb578c03-d129-412c-b9c0-bd75f202a006",
   "metadata": {},
   "outputs": [],
   "source": [
    "var_name = 'SOILWATER_10CM'\n",
    "plotting.plot_zonal_mean_diff([fates_zonal_sparse[var_name], fates_zonal_sparse_latest[var_name]],\n",
    "                              ['Old', 'New'], var_name, var_dict[var_name]['long_name'],\n",
    "                              var_dict[var_name]['global_units'])"
   ]
  },
  {
   "cell_type": "code",
   "execution_count": null,
   "id": "2d34a3b8-d752-4844-b978-8e4b4b1e78c0",
   "metadata": {},
   "outputs": [],
   "source": [
    "var_name = 'BTRANMN'\n",
    "plotting.plot_zonal_mean_diff([fates_zonal_sparse[var_name], fates_zonal_sparse_latest[var_name]],\n",
    "                              ['Old', 'New'], var_name, var_dict[var_name]['long_name'],\n",
    "                              var_dict[var_name]['global_units'])"
   ]
  },
  {
   "cell_type": "markdown",
   "id": "f7e919eb-642a-4430-8065-b63b4b54743b",
   "metadata": {},
   "source": [
    "### Month of Max"
   ]
  },
  {
   "cell_type": "code",
   "execution_count": null,
   "id": "def283e2-3d09-4c43-a29d-7ac395c76425",
   "metadata": {},
   "outputs": [],
   "source": [
    "var = 'GPP'\n",
    "plotting.plot_month_of_max_diff(fates_sparse_glob_month_max[var],\n",
    "                                fates_sparse_glob_month_max_latest[var], 'Old', 'New', var)"
   ]
  },
  {
   "cell_type": "code",
   "execution_count": null,
   "id": "fb3fca22-98f2-4449-80e1-ce5ffdadbf6d",
   "metadata": {},
   "outputs": [],
   "source": [
    "var = 'EFLX_LH_TOT'\n",
    "plotting.plot_month_of_max_diff(fates_sparse_glob_month_max[var],\n",
    "                                fates_sparse_glob_month_max_latest[var], 'Sparse', 'Global', var)"
   ]
  },
  {
   "cell_type": "code",
   "execution_count": null,
   "id": "4d4edc48-63dc-41b5-80e5-82c179dcffb4",
   "metadata": {},
   "outputs": [],
   "source": [
    "var = 'FSH'\n",
    "plotting.plot_month_of_max_diff(fates_sparse_glob_month_max[var],\n",
    "                                fates_sparse_glob_month_max_latest[var], 'Sparse', 'Global', var)"
   ]
  },
  {
   "cell_type": "code",
   "execution_count": null,
   "id": "ce37173b-46c6-471b-aef7-f3b89d4d7119",
   "metadata": {},
   "outputs": [],
   "source": [
    "var = 'EF'\n",
    "plotting.plot_month_of_max_diff(fates_sparse_glob_month_max[var],\n",
    "                                fates_sparse_glob_month_max_latest[var], 'Sparse', 'Global', var)"
   ]
  },
  {
   "cell_type": "code",
   "execution_count": null,
   "id": "a8a9a33e-4052-4c4d-bc85-e775db42d184",
   "metadata": {},
   "outputs": [],
   "source": [
    "var = 'ASA'\n",
    "plotting.plot_month_of_max_diff(fates_sparse_glob_month_max[var],\n",
    "                                fates_sparse_glob_month_max_latest[var], 'Sparse', 'Global', var)"
   ]
  },
  {
   "cell_type": "code",
   "execution_count": null,
   "id": "dd9aeac3-77b5-4da4-a13d-975e21d604f7",
   "metadata": {},
   "outputs": [],
   "source": [
    "var = 'SOILWATER_10CM'\n",
    "plotting.plot_month_of_max_diff(fates_sparse_glob_month_max[var],\n",
    "                                fates_sparse_glob_month_max_latest[var], 'Sparse', 'Global', var)"
   ]
  },
  {
   "cell_type": "markdown",
   "id": "96a4aa69-748a-4e9f-8f90-010058e2f8b2",
   "metadata": {},
   "source": [
    "### Climatology"
   ]
  },
  {
   "cell_type": "code",
   "execution_count": null,
   "id": "bb5e6ba2-152f-47c2-b1c1-de297b2a95dd",
   "metadata": {},
   "outputs": [],
   "source": [
    "var = 'GPP'\n",
    "plotting.plot_annual_cycle_diff(fates_sparse_glob_monthly_latest[var], fates_sparse_glob_monthly[var],\n",
    "                                \"CRU-JRA\", \"GSWP3\", var, var, var_dict[var]['global_units'])"
   ]
  },
  {
   "cell_type": "code",
   "execution_count": null,
   "id": "839340fa-38a5-45eb-aa82-2ce56201fd9a",
   "metadata": {},
   "outputs": [],
   "source": [
    "var = 'EFLX_LH_TOT'\n",
    "plotting.plot_annual_cycle_diff(fates_sparse_glob_monthly_latest[var], fates_sparse_glob_monthly[var],\n",
    "                                \"CRU-JRA\", \"GSWP3\", var, var, var_dict[var]['global_units'])"
   ]
  },
  {
   "cell_type": "code",
   "execution_count": null,
   "id": "a93a1b07-3653-4a70-a91d-6c2e0b7ef474",
   "metadata": {},
   "outputs": [],
   "source": [
    "var = 'FSH'\n",
    "plotting.plot_annual_cycle_diff(fates_sparse_glob_monthly_latest[var], fates_sparse_glob_monthly[var],\n",
    "                                \"CRU-JRA\", \"GSWP3\", var, var, var_dict[var]['global_units'])\n",
    "plt.savefig('cru_vs_gswp3_fsh.png')"
   ]
  },
  {
   "cell_type": "code",
   "execution_count": null,
   "id": "d6f860c4-7621-455b-adc0-0034cc0b1d7d",
   "metadata": {},
   "outputs": [],
   "source": [
    "var = 'EF'\n",
    "plotting.plot_annual_cycle_diff(fates_sparse_glob_monthly_latest[var], fates_sparse_glob_monthly[var],\n",
    "                                \"New\", \"Old\", var, var, var_dict[var]['global_units'])"
   ]
  },
  {
   "cell_type": "code",
   "execution_count": null,
   "id": "9c1141f1-40ce-4ece-8925-63ac841161fe",
   "metadata": {},
   "outputs": [],
   "source": [
    "var = 'ASA'\n",
    "plotting.plot_annual_cycle_diff(fates_sparse_glob_monthly_latest[var], fates_sparse_glob_monthly[var],\n",
    "                                \"New\", \"Old\", var, var, var_dict[var]['global_units'])"
   ]
  },
  {
   "cell_type": "code",
   "execution_count": null,
   "id": "f3fc0813-6b0a-49df-acc5-dafbd6c8069c",
   "metadata": {},
   "outputs": [],
   "source": [
    "var = 'SOILWATER_10CM'\n",
    "plotting.plot_annual_cycle_diff(fates_sparse_glob_monthly_latest[var], fates_sparse_glob_monthly[var],\n",
    "                                \"New\", \"Old\", var, var, var_dict[var]['global_units'])"
   ]
  },
  {
   "cell_type": "code",
   "execution_count": null,
   "id": "13f4f79e-286d-4183-96a8-373af8900e27",
   "metadata": {},
   "outputs": [],
   "source": [
    "var = 'BTRANMN'\n",
    "plotting.plot_annual_cycle_diff(fates_sparse_glob_monthly_latest[var], fates_sparse_glob_monthly[var],\n",
    "                                \"New\", \"Old\", var, var, var_dict[var]['global_units'])"
   ]
  },
  {
   "cell_type": "markdown",
   "id": "79d084b1-c04b-4755-82d1-8f6157b8e5eb",
   "metadata": {},
   "source": [
    "### Global Annual Values"
   ]
  },
  {
   "cell_type": "code",
   "execution_count": null,
   "id": "628c0a20-7c74-4e83-8ad9-25dc75c44d00",
   "metadata": {},
   "outputs": [],
   "source": [
    "summary_df = plotting.summarize_differences(fates_area_means_sparse, fates_area_means_sparse_latest,\n",
    "                                            'Old', 'New', var_dict)"
   ]
  },
  {
   "cell_type": "code",
   "execution_count": null,
   "id": "cbcdcf1a-79a9-447f-a90f-7058f3b485ba",
   "metadata": {},
   "outputs": [],
   "source": [
    "plotting.plot_heatmap(summary_df)"
   ]
  },
  {
   "cell_type": "markdown",
   "id": "4e9227e1-db21-43b6-8c2f-dded7744f1fb",
   "metadata": {},
   "source": [
    "## Observational Comparisons\n",
    "### Annual Maps"
   ]
  },
  {
   "cell_type": "code",
   "execution_count": null,
   "id": "2a70392a-3b3e-4ea8-9463-ea73b569be61",
   "metadata": {},
   "outputs": [],
   "source": [
    "var = 'GPP'\n",
    "ilamb_var = ilamb.get_model_da(ilamb_obs, ilamb_config[var]['var'], ilamb_config[var]['models'])\n",
    "plotting.plot_model_obs_diff(fates_sparse_glob_latest, ilamb_var, target_grid.landfrac, var,\n",
    "                             var_dict[var]['annual_units'], 'FATES')"
   ]
  },
  {
   "cell_type": "code",
   "execution_count": null,
   "id": "43343978-8f8a-4dbd-93f1-57578633fc76",
   "metadata": {},
   "outputs": [],
   "source": [
    "var = 'LAI'\n",
    "ilamb_var = ilamb.get_model_da(ilamb_obs, ilamb_config[var]['var'], ilamb_config[var]['models'])\n",
    "plotting.plot_model_obs_diff(fates_sparse_glob_latest, ilamb_var, target_grid.landfrac, var,\n",
    "                             var_dict[var]['annual_units'], 'FATES')"
   ]
  },
  {
   "cell_type": "code",
   "execution_count": null,
   "id": "67638aca-0f46-48db-85cf-724332839334",
   "metadata": {},
   "outputs": [],
   "source": [
    "var = 'ASA'\n",
    "ilamb_var = ilamb.get_model_da(ilamb_obs, ilamb_config[var]['var'], ilamb_config[var]['models'])\n",
    "plotting.plot_model_obs_diff(fates_sparse_glob_latest, ilamb_var, target_grid.landfrac, var, var_dict[var]['annual_units'], 'FATES')"
   ]
  },
  {
   "cell_type": "code",
   "execution_count": null,
   "id": "c112610f-f953-43b2-aae1-b1e9c6c4008d",
   "metadata": {},
   "outputs": [],
   "source": [
    "var = 'EFLX_LH_TOT'\n",
    "ilamb_var = ilamb.get_model_da(ilamb_obs, ilamb_config[var]['var'], ilamb_config[var]['models'])\n",
    "plotting.plot_model_obs_diff(fates_sparse_glob_latest, ilamb_var, target_grid.landfrac, var, var_dict[var]['annual_units'], 'FATES')"
   ]
  },
  {
   "cell_type": "code",
   "execution_count": null,
   "id": "768d4acb-9fce-4d92-b463-526f8515565c",
   "metadata": {},
   "outputs": [],
   "source": [
    "var = 'FSH'\n",
    "ilamb_var = ilamb.get_model_da(ilamb_obs, ilamb_config[var]['var'], ilamb_config[var]['models'])\n",
    "plotting.plot_model_obs_diff(fates_sparse_glob_latest, ilamb_var, target_grid.landfrac, var, var_dict[var]['annual_units'], 'FATES')"
   ]
  },
  {
   "cell_type": "code",
   "execution_count": null,
   "id": "67b1cf45-2183-4635-bf2a-51467cf3df22",
   "metadata": {},
   "outputs": [],
   "source": [
    "var = 'EF'\n",
    "ilamb_var = ilamb.get_model_da(ilamb_obs, ilamb_config[var]['var'], ilamb_config[var]['models'])\n",
    "plotting.plot_model_obs_diff(fates_sparse_glob_latest, ilamb_var, target_grid.landfrac, var, var_dict[var]['annual_units'], 'FATES')"
   ]
  },
  {
   "cell_type": "markdown",
   "id": "c49b5cf4-4cc0-41bb-8437-db31755a8dbd",
   "metadata": {},
   "source": [
    "### Zonal Means"
   ]
  },
  {
   "cell_type": "code",
   "execution_count": null,
   "id": "43f3a2d5-240d-4e41-93dc-eaf75e5e6f7b",
   "metadata": {},
   "outputs": [],
   "source": [
    "var_name = 'GPP'\n",
    "ilamb_var = ilamb.get_model_da(ilamb_obs, ilamb_config[var_name]['var'], ilamb_config[var_name]['models'])\n",
    "plotting.plot_model_obs_zonal_diff(ilamb_var, fates_zonal_sparse_latest[var_name], ilamb_obs.land_area,\n",
    "                          ilamb_config[var_name]['conversion_factor'],\n",
    "                          var_name, var_name, var_dict[var]['global_units'])"
   ]
  },
  {
   "cell_type": "code",
   "execution_count": null,
   "id": "c673922c-29ef-42fb-8a7c-a930fb9018d9",
   "metadata": {},
   "outputs": [],
   "source": [
    "var_name = 'LAI'\n",
    "ilamb_var = ilamb.get_model_da(ilamb_obs, ilamb_config[var_name]['var'], ilamb_config[var_name]['models'])\n",
    "plotting.plot_model_obs_zonal_diff(ilamb_var, fates_zonal_sparse_latest[var_name], ilamb_obs.land_area,\n",
    "                          ilamb_config[var_name]['conversion_factor'],\n",
    "                          var_name, var_name, var_dict[var]['global_units'])"
   ]
  },
  {
   "cell_type": "code",
   "execution_count": null,
   "id": "5ef7b324-1103-49b3-b9ce-d3449f53a45a",
   "metadata": {},
   "outputs": [],
   "source": [
    "var_name = 'ASA'\n",
    "ilamb_var = ilamb.get_model_da(ilamb_obs, ilamb_config[var_name]['var'], ilamb_config[var_name]['models'])\n",
    "plotting.plot_model_obs_zonal_diff(ilamb_var, fates_zonal_sparse_latest[var_name], ilamb_obs.land_area,\n",
    "                          ilamb_config[var_name]['conversion_factor'],\n",
    "                          var_name, var_name, var_dict[var]['global_units'])"
   ]
  },
  {
   "cell_type": "code",
   "execution_count": null,
   "id": "e3476400-0fc4-46a5-95ab-99fae6278bd8",
   "metadata": {},
   "outputs": [],
   "source": [
    "var_name = 'EFLX_LH_TOT'\n",
    "ilamb_var = ilamb.get_model_da(ilamb_obs, ilamb_config[var_name]['var'], ilamb_config[var_name]['models'])\n",
    "plotting.plot_model_obs_zonal_diff(ilamb_var, fates_zonal_sparse_latest[var_name], ilamb_obs.land_area,\n",
    "                          ilamb_config[var_name]['conversion_factor'],\n",
    "                          var_name, var_name, var_dict[var]['global_units'])"
   ]
  },
  {
   "cell_type": "code",
   "execution_count": null,
   "id": "0bcd3082-2561-42a5-bb2f-67977789cd72",
   "metadata": {},
   "outputs": [],
   "source": [
    "var_name = 'FSH'\n",
    "ilamb_var = ilamb.get_model_da(ilamb_obs, ilamb_config[var_name]['var'], ilamb_config[var_name]['models'])\n",
    "plotting.plot_model_obs_zonal_diff(ilamb_var, fates_zonal_sparse_latest[var_name], ilamb_obs.land_area,\n",
    "                          ilamb_config[var_name]['conversion_factor'],\n",
    "                          var_name, var_name, var_dict[var]['global_units'])"
   ]
  },
  {
   "cell_type": "code",
   "execution_count": null,
   "id": "1ec83033-73e6-4985-828f-17827013b4b3",
   "metadata": {},
   "outputs": [],
   "source": [
    "var_name = 'EF'\n",
    "ilamb_var = ilamb.get_model_da(ilamb_obs, ilamb_config[var_name]['var'], ilamb_config[var_name]['models'])\n",
    "plotting.plot_model_obs_zonal_diff(ilamb_var, fates_zonal_sparse_latest[var_name], ilamb_obs.land_area,\n",
    "                          ilamb_config[var_name]['conversion_factor'],\n",
    "                          var_name, var_name, var_dict[var]['global_units'])"
   ]
  },
  {
   "cell_type": "markdown",
   "id": "abd67b86-813a-4508-9d37-fa2031321f22",
   "metadata": {},
   "source": [
    "### Climatology"
   ]
  },
  {
   "cell_type": "code",
   "execution_count": null,
   "id": "546c45b8-b9a5-421b-8f44-e1404f4ffa8e",
   "metadata": {},
   "outputs": [],
   "source": [
    "var_name = 'GPP'\n",
    "ilamb_var = ilamb.get_model_da(ilamb_obs, f\"{ilamb_config[var_name]['var']}_cycle\", ilamb_config[var_name]['models'])\n",
    "plotting.plot_model_obs_climatology_diff(ilamb_var, fates_sparse_glob_monthly_latest[var_name], var_name, var_name, var_dict[var_name]['global_units'])"
   ]
  },
  {
   "cell_type": "code",
   "execution_count": null,
   "id": "96c5abae-86b6-451b-861d-f8f16ae0c748",
   "metadata": {},
   "outputs": [],
   "source": [
    "var_name = 'LAI'\n",
    "ilamb_var = ilamb.get_model_da(ilamb_obs, f\"{ilamb_config[var_name]['var']}_cycle\", ilamb_config[var_name]['models'])\n",
    "plotting.plot_model_obs_climatology_diff(ilamb_var, fates_sparse_glob_monthly_latest[var_name], var_name, var_name, var_dict[var_name]['global_units'])"
   ]
  },
  {
   "cell_type": "code",
   "execution_count": null,
   "id": "5fcc389e-60ba-4ed1-ae5d-d545db8d40d6",
   "metadata": {},
   "outputs": [],
   "source": [
    "var_name = 'ASA'\n",
    "ilamb_var = ilamb.get_model_da(ilamb_obs, f\"{ilamb_config[var_name]['var']}_cycle\", ilamb_config[var_name]['models'])\n",
    "plotting.plot_model_obs_climatology_diff(ilamb_var, fates_sparse_glob_monthly_latest[var_name], var_name, var_name, var_dict[var_name]['global_units'])"
   ]
  },
  {
   "cell_type": "code",
   "execution_count": null,
   "id": "30929162-bb9f-4ab9-baa8-629822b87b5b",
   "metadata": {},
   "outputs": [],
   "source": [
    "var_name = 'EFLX_LH_TOT'\n",
    "ilamb_var = ilamb.get_model_da(ilamb_obs, f\"{ilamb_config[var_name]['var']}_cycle\", ilamb_config[var_name]['models'])\n",
    "plotting.plot_model_obs_climatology_diff(ilamb_var, fates_sparse_glob_monthly_latest[var_name], var_name, var_name, var_dict[var_name]['global_units'])"
   ]
  },
  {
   "cell_type": "code",
   "execution_count": null,
   "id": "7abea144-b810-4d0d-ab64-bf61ebbacf19",
   "metadata": {},
   "outputs": [],
   "source": [
    "var_name = 'FSH'\n",
    "ilamb_var = ilamb.get_model_da(ilamb_obs, f\"{ilamb_config[var_name]['var']}_cycle\", ilamb_config[var_name]['models'])\n",
    "plotting.plot_model_obs_climatology_diff(ilamb_var, fates_sparse_glob_monthly_latest[var_name], var_name, var_name, var_dict[var_name]['global_units'])"
   ]
  },
  {
   "cell_type": "code",
   "execution_count": null,
   "id": "373a2225-6551-454e-8483-9db1c502092f",
   "metadata": {},
   "outputs": [],
   "source": [
    "var_name = 'EF'\n",
    "ilamb_var = ilamb.get_model_da(ilamb_obs, f\"{ilamb_config[var_name]['var']}_cycle\", ilamb_config[var_name]['models'])\n",
    "plotting.plot_model_obs_climatology_diff(ilamb_var, fates_sparse_glob_monthly_latest[var_name], var_name, var_name, var_dict[var_name]['global_units'])"
   ]
  },
  {
   "cell_type": "markdown",
   "id": "1f7dc215-7cf4-4736-81e8-1a8b9ac5b54a",
   "metadata": {},
   "source": [
    "### Global Annual Values"
   ]
  },
  {
   "cell_type": "code",
   "execution_count": null,
   "id": "01c97045-eb52-434a-af81-3c4d6af0e3df",
   "metadata": {},
   "outputs": [],
   "source": [
    "ds_out = xr.Dataset()\n",
    "for var_name in [var for var in out_vars if var not in ['SOILWATER_10CM', 'BTRANMN', 'TV']]:\n",
    "    ilamb_var = ilamb.get_model_da(ilamb_obs, f\"{ilamb_config[var_name]['var']}\", ilamb_config[var_name]['models'])\n",
    "    ds_out[var_name] = analysis.area_mean(ilamb_var, ilamb_config[var_name]['conversion_factor'], ilamb_obs.land_area).mean(dim='model')"
   ]
  },
  {
   "cell_type": "code",
   "execution_count": null,
   "id": "00ac242b-97f9-4e81-9a70-8532930ebd2c",
   "metadata": {},
   "outputs": [],
   "source": [
    "summary_df = plotting.summarize_differences(ds_out, fates_area_means_sparse_latest, 'ILAMB', 'FATES', var_dict)\n",
    "plotting.plot_heatmap(summary_df)"
   ]
  },
  {
   "cell_type": "code",
   "execution_count": null,
   "id": "7d73b58f-6d86-4f6f-947e-28bd003e1bee",
   "metadata": {},
   "outputs": [],
   "source": [
    "summary_df = plotting.summarize_differences(ds_out, fates_area_means_sparse, 'ILAMB', 'GSWP3', var_dict)\n",
    "plotting.plot_heatmap(summary_df)"
   ]
  },
  {
   "cell_type": "code",
   "execution_count": null,
   "id": "f0066178-26a8-4fe3-9c91-bb2525cce36c",
   "metadata": {},
   "outputs": [],
   "source": [
    "summary_df = plotting.summarize_differences(fates_area_means_sparse, fates_area_means_sparse_latest, 'GSWP3', 'CRU-JRA', var_dict)\n",
    "plotting.plot_heatmap(summary_df)\n",
    "plt.savefig('cru_vs_gswp3_all.png')"
   ]
  },
  {
   "cell_type": "code",
   "execution_count": null,
   "id": "01197fc8-5a44-491f-b1ed-15c081f1e2f5",
   "metadata": {},
   "outputs": [],
   "source": []
  }
 ],
 "metadata": {
  "kernelspec": {
   "display_name": "Python [conda env:fates_calibration]",
   "language": "python",
   "name": "conda-env-fates_calibration-py"
  },
  "language_info": {
   "codemirror_mode": {
    "name": "ipython",
    "version": 3
   },
   "file_extension": ".py",
   "mimetype": "text/x-python",
   "name": "python",
   "nbconvert_exporter": "python",
   "pygments_lexer": "ipython3",
   "version": "3.11.10"
  }
 },
 "nbformat": 4,
 "nbformat_minor": 5
}
