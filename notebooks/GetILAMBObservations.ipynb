{
 "cells": [
  {
   "cell_type": "markdown",
   "id": "29fcbf9e-93b7-40a3-8e90-faaa37b53c22",
   "metadata": {},
   "source": [
    "# Calculate ILAMB Data\n",
    "Creates annual, regridded data as well as month of max and climatology, from raw ILAMB data. Uses a config file (e.g. ILAMB_obs.cfg) to get information about where ILAMB data is located and what the files, models, and variable names are."
   ]
  },
  {
   "cell_type": "code",
   "execution_count": null,
   "id": "2ee12d12-a6ee-41e1-a001-d8d5eb4eacc7",
   "metadata": {},
   "outputs": [],
   "source": [
    "import os\n",
    "import warnings\n",
    "import xarray as xr\n",
    "\n",
    "import fates_calibration_library.utils as utils\n",
    "import fates_calibration_library.ilamb_functions as ilamb\n",
    "import fates_calibration_library.analysis_functions as analysis\n",
    "\n",
    "# ignore warnings about latitude being outside of -90, 90\n",
    "warnings.simplefilter(\"ignore\", UserWarning)"
   ]
  },
  {
   "cell_type": "code",
   "execution_count": null,
   "id": "993df368-bd0e-4cc3-b0af-a0c547685ebe",
   "metadata": {},
   "outputs": [],
   "source": [
    "# config file for ILAMB data\n",
    "ilamb_cfg = '/glade/work/afoster/FATES_calibration/fates_calibration_library/configs/ILAMB_obs.yaml'\n",
    "\n",
    "# land area file\n",
    "land_area_ds = os.path.join(\"/glade/derecho/scratch/afoster/archive\",\n",
    "                            \"ctsm60SP_bigleaf_fullgrid/lnd/hist\",\n",
    "                            \"ctsm60SP_bigleaf_fullgrid.clm2.h0.0001-02-01-00000.nc\")"
   ]
  },
  {
   "cell_type": "code",
   "execution_count": null,
   "id": "19b1ed53-978b-46d0-92ea-bd296433bbff",
   "metadata": {},
   "outputs": [],
   "source": [
    "# config dictionary for running functions\n",
    "config_dict = {\n",
    "    'top_dir': '/glade/campaign/cesm/community/lmwg/diag/ILAMB/DATA',  # location of raw ILAMB data\n",
    "    'regrid_dir': '/glade/work/afoster/FATES_calibration/observations/ILAMB_obs/regridded',  # where to put regridded ILAMB data\n",
    "    'regrid_tag': '2deg',\n",
    "    'out_dir': '/glade/work/afoster/FATES_calibration/observations/ILAMB_obs',  # where to put compiled ILAMB data\n",
    "    'user': 'afoster@ucar.edu',  # user\n",
    "    'clobber': False,  # overwrite files?\n",
    "}"
   ]
  },
  {
   "cell_type": "code",
   "execution_count": null,
   "id": "7ee1a307-a805-4f98-94f6-a4e1ce1b5502",
   "metadata": {},
   "outputs": [],
   "source": [
    "# read in the ILAMB data dictionary\n",
    "ilamb_dict = utils.get_config_file(ilamb_cfg)"
   ]
  },
  {
   "cell_type": "code",
   "execution_count": null,
   "id": "2c4f6bb5-c9e1-452e-99e2-cf9c66887105",
   "metadata": {},
   "outputs": [],
   "source": [
    "# create a target grid to regrid to\n",
    "target_grid = analysis.create_target_grid(land_area_ds, 'FSR')"
   ]
  },
  {
   "cell_type": "code",
   "execution_count": null,
   "id": "ed8886db-e0e4-4ca9-bdc8-49c674a9891b",
   "metadata": {},
   "outputs": [],
   "source": [
    "# loop through dictionary and regrid the ILAMB observations\n",
    "# script will skip files that already exist unless clobber: True\n",
    "ilamb.regrid_all_ilamb_data(config_dict, ilamb_dict, target_grid)"
   ]
  },
  {
   "cell_type": "code",
   "execution_count": null,
   "id": "dd567772-cdda-4fa4-a7e8-b778a6df6bbf",
   "metadata": {},
   "outputs": [],
   "source": [
    "dataset = 'FLUXCOM_LE'\n",
    "attributes = ilamb_dict[dataset]"
   ]
  },
  {
   "cell_type": "code",
   "execution_count": null,
   "id": "a29cc7cf-23e8-49f2-8f51-10f724920cbd",
   "metadata": {},
   "outputs": [],
   "source": [
    "#ilamb.get_all_ilamb_data(config_dict, ilamb_dict)"
   ]
  },
  {
   "cell_type": "code",
   "execution_count": null,
   "id": "8f354b86-ef21-40dd-8be7-5b0b028e644a",
   "metadata": {},
   "outputs": [],
   "source": [
    "# # compile data into one dataset\n",
    "# compiled_ds = ilamb.compile_ilamb_datasets(config_dict['out_dir'], ilamb_dict,\n",
    "#                                            target_grid.area)\n",
    "# compiled_ds.to_netcdf(os.path.join('/glade/work/afoster/FATES_calibration',\n",
    "#                                    'observations/all_ILAMB_obs.nc'), mode=\"w\")"
   ]
  },
  {
   "cell_type": "code",
   "execution_count": null,
   "id": "4aeebee0-2e7d-4ed8-abe7-4bcc7b31b2f0",
   "metadata": {},
   "outputs": [],
   "source": [
    "region = xr.open_dataset(\n",
    "    os.path.join(config_dict[\"top_dir\"], \"regions/GlobalLandNoAnt.nc\")\n",
    ")\n",
    "# swap out 0.0 (land) for 1.0\n",
    "region[\"ids\"] = xr.where(region.ids == 0.0, 1.0, 0.0)"
   ]
  },
  {
   "cell_type": "code",
   "execution_count": null,
   "id": "f09ce7cf-1431-4073-a9c4-eea735e17e1c",
   "metadata": {},
   "outputs": [],
   "source": [
    "# read in regridded dataset\n",
    "file_name = os.path.join(\n",
    "    config_dict[\"regrid_dir\"],\n",
    "    f\"{attributes['model']}_{attributes['out_var'].upper()}_{config_dict['regrid_tag']}.nc\",\n",
    ")"
   ]
  },
  {
   "cell_type": "code",
   "execution_count": null,
   "id": "14720ec8-0600-4698-abf3-026f1a80ed9f",
   "metadata": {},
   "outputs": [],
   "source": [
    "regridded_dat = xr.open_dataset(file_name)"
   ]
  },
  {
   "cell_type": "code",
   "execution_count": null,
   "id": "a6a7ca17-dfef-46b2-804b-422e2c783900",
   "metadata": {},
   "outputs": [],
   "source": [
    "metadata = {\n",
    "    \"units\": attributes[\"units\"],\n",
    "    \"longname\": attributes[\"longname\"],\n",
    "    \"original_file\": file_name,\n",
    "    \"user\": config_dict[\"user\"],\n",
    "}"
   ]
  },
  {
   "cell_type": "code",
   "execution_count": null,
   "id": "9b91e347-4201-4b93-932c-64c7d7cb1d1a",
   "metadata": {},
   "outputs": [],
   "source": [
    "annual_ds = ilamb.get_annual_ds(\n",
    "    regridded_dat,\n",
    "    attributes[\"in_var\"],\n",
    "    attributes[\"out_var\"],\n",
    "    ilamb.evaluate_conversion_factor(attributes[\"time_conversion_factor\"]),\n",
    "    metadata,\n",
    ")"
   ]
  },
  {
   "cell_type": "code",
   "execution_count": null,
   "id": "1bb2dd6b-96fa-4975-babc-1790ad51a0bb",
   "metadata": {},
   "outputs": [],
   "source": [
    "ilamb_dat, original_file = ilamb.read_ilamb_data(config_dict[\"top_dir\"], attributes)\n",
    "annual_original = ilamb.get_annual_ds(\n",
    "    ilamb_dat,\n",
    "    attributes[\"in_var\"],\n",
    "    attributes[\"out_var\"],\n",
    "    ilamb.evaluate_conversion_factor(attributes[\"time_conversion_factor\"]),\n",
    "    metadata,\n",
    ")"
   ]
  },
  {
   "cell_type": "code",
   "execution_count": null,
   "id": "a619efcd-1e17-4ef6-a577-b410923fab33",
   "metadata": {},
   "outputs": [],
   "source": [
    "# calculate cell areas and land area\n",
    "cell_area = ilamb.get_ilamb_land_area(ilamb_dat)\n",
    "region_regridder = xe.Regridder(region[\"ids\"], ilamb_dat, \"bilinear\")\n",
    "landfrac = region_regridder(region[\"ids\"])\n",
    "land_area = landfrac * cell_area"
   ]
  },
  {
   "cell_type": "code",
   "execution_count": null,
   "id": "d562fb0d-e518-4284-9189-6c863e4ab1c4",
   "metadata": {},
   "outputs": [],
   "source": [
    "global_mean = analysis.area_mean(\n",
    "    annual_original[attributes[\"out_var\"]],\n",
    "    ilamb.evaluate_conversion_factor(attributes[\"area_conversion_factor\"]),\n",
    "    land_area,\n",
    ").to_dataset(name=f\"{attributes['out_var']}_global\")"
   ]
  },
  {
   "cell_type": "code",
   "execution_count": null,
   "id": "e3a91c60-1e63-4f88-b62d-c914181f8fe5",
   "metadata": {},
   "outputs": [],
   "source": [
    "data_array = ilamb_dat[attributes[\"in_var\"]]\n",
    "area_cf = ilamb.evaluate_conversion_factor(attributes[\"area_conversion_factor\"])\n",
    "conversion_factor = ilamb.evaluate_conversion_factor(attributes[\"time_conversion_factor\"])"
   ]
  },
  {
   "cell_type": "code",
   "execution_count": null,
   "id": "94b6b53e-6e6b-4cb1-af0d-156c050b40a4",
   "metadata": {},
   "outputs": [],
   "source": [
    "if conversion_factor is None:\n",
    "    conversion_factor = 1.0\n",
    "\n",
    "data_array = data_array * conversion_factor\n",
    "\n",
    "days_in_month = data_array[\"time\"].dt.days_in_month\n",
    "weighted = data_array * days_in_month\n",
    "valid_days = days_in_month.where(data_array.notnull())"
   ]
  },
  {
   "cell_type": "code",
   "execution_count": null,
   "id": "5b5676dd-9158-405e-a774-f8877200dcd8",
   "metadata": {},
   "outputs": [],
   "source": [
    "monthly_sum = weighted.groupby(\"time.month\").sum(dim=\"time\", skipna=True)\n",
    "total_days = valid_days.groupby(\"time.month\").sum(dim=\"time\", skipna=True)"
   ]
  },
  {
   "cell_type": "code",
   "execution_count": null,
   "id": "43652606-de24-430b-8f57-995953a2074d",
   "metadata": {},
   "outputs": [],
   "source": []
  }
 ],
 "metadata": {
  "kernelspec": {
   "display_name": "Python [conda env:fates_calibration]",
   "language": "python",
   "name": "conda-env-fates_calibration-py"
  },
  "language_info": {
   "codemirror_mode": {
    "name": "ipython",
    "version": 3
   },
   "file_extension": ".py",
   "mimetype": "text/x-python",
   "name": "python",
   "nbconvert_exporter": "python",
   "pygments_lexer": "ipython3",
   "version": "3.11.10"
  }
 },
 "nbformat": 4,
 "nbformat_minor": 5
}
