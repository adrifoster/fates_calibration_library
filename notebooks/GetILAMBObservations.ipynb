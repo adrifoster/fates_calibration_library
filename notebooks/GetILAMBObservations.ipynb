{
 "cells": [
  {
   "cell_type": "markdown",
   "id": "29fcbf9e-93b7-40a3-8e90-faaa37b53c22",
   "metadata": {},
   "source": [
    "# Calculate ILAMB Data\n",
    "Creates annual, regridded data as well as month of max and climatology, from raw ILAMB data. Uses a config file (e.g. ILAMB_obs.cfg) to get information about where ILAMB data is located and what the files, models, and variable names are."
   ]
  },
  {
   "cell_type": "code",
   "execution_count": 1,
   "id": "2ee12d12-a6ee-41e1-a001-d8d5eb4eacc7",
   "metadata": {},
   "outputs": [],
   "source": [
    "import os\n",
    "import warnings\n",
    "import logging\n",
    "import xarray as xr\n",
    "\n",
    "import fates_calibration_library.utils as utils\n",
    "import fates_calibration_library.ilamb_functions as ilamb\n",
    "import fates_calibration_library.analysis_functions as analysis\n",
    "\n",
    "logging.basicConfig(level=logging.WARNING)\n",
    "logger = logging.getLogger(__name__)"
   ]
  },
  {
   "cell_type": "code",
   "execution_count": 2,
   "id": "993df368-bd0e-4cc3-b0af-a0c547685ebe",
   "metadata": {},
   "outputs": [],
   "source": [
    "# config file for ILAMB data\n",
    "ilamb_cfg = '/glade/work/afoster/FATES_calibration/fates_calibration_library/configs/ILAMB_obs.yaml'\n",
    "\n",
    "# land area file\n",
    "land_area_ds = os.path.join(\"/glade/derecho/scratch/afoster/archive\",\n",
    "                            \"ctsm60SP_bigleaf_fullgrid/lnd/hist\",\n",
    "                            \"ctsm60SP_bigleaf_fullgrid.clm2.h0.0001-02-01-00000.nc\")"
   ]
  },
  {
   "cell_type": "code",
   "execution_count": 3,
   "id": "19b1ed53-978b-46d0-92ea-bd296433bbff",
   "metadata": {},
   "outputs": [],
   "source": [
    "# config dictionary for running functions\n",
    "config_dict = {\n",
    "    'top_dir': '/glade/campaign/cesm/community/lmwg/diag/ILAMB/DATA',  # location of raw ILAMB data\n",
    "    'regrid_dir': '/glade/work/afoster/FATES_calibration/observations/ILAMB_obs/regridded',  # where to put regridded ILAMB data\n",
    "    'regrid_tag': '2deg',\n",
    "    'out_dir': '/glade/work/afoster/FATES_calibration/observations/ILAMB_obs',  # where to put compiled ILAMB data\n",
    "    'user': 'afoster@ucar.edu',  # user\n",
    "    'clobber': False,  # overwrite files?\n",
    "}"
   ]
  },
  {
   "cell_type": "code",
   "execution_count": null,
   "id": "60055fd1-f03a-48ed-8ac7-128fb8b9092e",
   "metadata": {},
   "outputs": [],
   "source": [
    "import importlib\n",
    "importlib.reload(ilamb)"
   ]
  },
  {
   "cell_type": "code",
   "execution_count": 4,
   "id": "7ee1a307-a805-4f98-94f6-a4e1ce1b5502",
   "metadata": {},
   "outputs": [],
   "source": [
    "# read in the ILAMB data dictionary\n",
    "ilamb_dict = utils.get_config_file(ilamb_cfg)"
   ]
  },
  {
   "cell_type": "code",
   "execution_count": 5,
   "id": "2c4f6bb5-c9e1-452e-99e2-cf9c66887105",
   "metadata": {},
   "outputs": [],
   "source": [
    "# create a target grid to regrid to\n",
    "target_grid = analysis.create_target_grid(land_area_ds, 'FSR')"
   ]
  },
  {
   "cell_type": "code",
   "execution_count": null,
   "id": "ed8886db-e0e4-4ca9-bdc8-49c674a9891b",
   "metadata": {},
   "outputs": [],
   "source": [
    "# loop through dictionary and regrid the ILAMB observations\n",
    "# script will skip files that already exist unless clobber: True\n",
    "ilamb.regrid_all_ilamb_data(config_dict, ilamb_dict, target_grid)"
   ]
  },
  {
   "cell_type": "code",
   "execution_count": 6,
   "id": "a29cc7cf-23e8-49f2-8f51-10f724920cbd",
   "metadata": {},
   "outputs": [
    {
     "name": "stderr",
     "output_type": "stream",
     "text": [
      "/glade/work/afoster/conda-envs/fates_calibration/lib/python3.11/site-packages/xarray/conventions.py:436: SerializationWarning: variable 'lai' has multiple fill values {1e+36, -999.0}, decoding all values to NaN.\n",
      "  new_vars[k] = decode_cf_variable(\n",
      "/glade/work/afoster/conda-envs/fates_calibration/lib/python3.11/site-packages/xarray/conventions.py:436: SerializationWarning: variable 'nee' has multiple fill values {-9999.0, -999.0}, decoding all values to NaN.\n",
      "  new_vars[k] = decode_cf_variable(\n"
     ]
    }
   ],
   "source": [
    "# loop through dictionary and process the ILAMB observations\n",
    "# script will skip files that already exist unless clobber: True\n",
    "ilamb.get_all_ilamb_data(config_dict, ilamb_dict)"
   ]
  },
  {
   "cell_type": "code",
   "execution_count": 7,
   "id": "8f354b86-ef21-40dd-8be7-5b0b028e644a",
   "metadata": {},
   "outputs": [],
   "source": [
    "# compile all datasets into one dataset\n",
    "compiled_ds = ilamb.compile_ilamb_datasets(config_dict['out_dir'], ilamb_dict,\n",
    "                                           target_grid.area)\n",
    "compiled_ds.to_netcdf(os.path.join('/glade/work/afoster/FATES_calibration',\n",
    "                                    'observations/all_ILAMB_obs.nc'), mode=\"w\")"
   ]
  },
  {
   "cell_type": "code",
   "execution_count": null,
   "id": "e4362ca0-1212-47e8-abfe-1b3150c18d97",
   "metadata": {},
   "outputs": [],
   "source": []
  }
 ],
 "metadata": {
  "kernelspec": {
   "display_name": "Python [conda env:fates_calibration]",
   "language": "python",
   "name": "conda-env-fates_calibration-py"
  },
  "language_info": {
   "codemirror_mode": {
    "name": "ipython",
    "version": 3
   },
   "file_extension": ".py",
   "mimetype": "text/x-python",
   "name": "python",
   "nbconvert_exporter": "python",
   "pygments_lexer": "ipython3",
   "version": "3.11.10"
  }
 },
 "nbformat": 4,
 "nbformat_minor": 5
}
