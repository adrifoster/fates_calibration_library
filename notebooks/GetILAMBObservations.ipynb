{
 "cells": [
  {
   "cell_type": "markdown",
   "id": "29fcbf9e-93b7-40a3-8e90-faaa37b53c22",
   "metadata": {},
   "source": [
    "# Calculate ILAMB Data\n",
    "Creates annual, regridded data from raw ILAMB data. Uses a config file (e.g. ILAMB_obs.cfg) to get information about where ILAMB data is located and what the files, models, and variable names are."
   ]
  },
  {
   "cell_type": "code",
   "execution_count": 1,
   "id": "2ee12d12-a6ee-41e1-a001-d8d5eb4eacc7",
   "metadata": {},
   "outputs": [],
   "source": [
    "import os\n",
    "import xarray as xr\n",
    "\n",
    "import fates_calibration_library.utils\n",
    "import fates_calibration_library.ilamb_functions as ilamb"
   ]
  },
  {
   "cell_type": "code",
   "execution_count": 2,
   "id": "993df368-bd0e-4cc3-b0af-a0c547685ebe",
   "metadata": {},
   "outputs": [],
   "source": [
    "# config file for ILAMB data\n",
    "ILAMB_cfg = '/glade/work/afoster/FATES_calibration/observations/ILAMB_obs.cfg'\n",
    "\n",
    "# land area file\n",
    "land_area_ds = os.path.join(\"/glade/derecho/scratch/afoster\",\n",
    "                            \"ctsm60SP_bigleaf_fullgrid_test/run\",\n",
    "                            \"ctsm60SP_bigleaf_fullgrid_test.clm2.h0.0001-02-01-00000.nc\")"
   ]
  },
  {
   "cell_type": "code",
   "execution_count": 3,
   "id": "19b1ed53-978b-46d0-92ea-bd296433bbff",
   "metadata": {},
   "outputs": [],
   "source": [
    "# config dictionary for running functions\n",
    "config_dict = {\n",
    "    'top_dir': '/glade/campaign/cesm/community/lmwg/diag/ILAMB/DATA',  # location of raw ILAMB data\n",
    "    'out_dir': '/glade/work/afoster/FATES_calibration/observations/ILAMB_obs',  # where to put compiled ILAMB data\n",
    "    'start_date': '2000-01-01',  # start date to filter to\n",
    "    'end_date': '2014-12-31',  # end date to filter to\n",
    "    'user': 'afoster@ucar.edu',  # user\n",
    "    'clobber': True,  # overwrite files?\n",
    "}"
   ]
  },
  {
   "cell_type": "code",
   "execution_count": 4,
   "id": "7ee1a307-a805-4f98-94f6-a4e1ce1b5502",
   "metadata": {},
   "outputs": [],
   "source": [
    "# read in the ILAMB data dictionary\n",
    "ILAMB_dict = fates_calibration_library.utils.config_to_dict(ILAMB_cfg)"
   ]
  },
  {
   "cell_type": "code",
   "execution_count": 5,
   "id": "2c4f6bb5-c9e1-452e-99e2-cf9c66887105",
   "metadata": {},
   "outputs": [],
   "source": [
    "# create a target grid to regrid to\n",
    "target_grid = ilamb.create_target_grid(land_area_ds, 'TLAI')"
   ]
  },
  {
   "cell_type": "code",
   "execution_count": null,
   "id": "ed8886db-e0e4-4ca9-bdc8-49c674a9891b",
   "metadata": {},
   "outputs": [],
   "source": [
    "# loop through dictionary and create the regridded data\n",
    "# script will skip files that already exist unless clobber=True\n",
    "ilamb.get_all_ilamb_data(config_dict, ILAMB_dict, target_grid)"
   ]
  },
  {
   "cell_type": "code",
   "execution_count": 6,
   "id": "8f354b86-ef21-40dd-8be7-5b0b028e644a",
   "metadata": {},
   "outputs": [],
   "source": [
    "# compile data into one dataset - also averages by year\n",
    "compiled_ds = ilamb.compile_ilamb_datasets(config_dict['out_dir'], ILAMB_dict,\n",
    "                                           land_area_ds)\n",
    "compiled_ds.to_netcdf('/glade/work/afoster/FATES_calibration/observations/all_ILAMB_obs.nc',\n",
    "                      mode=\"w\")"
   ]
  },
  {
   "cell_type": "code",
   "execution_count": null,
   "id": "eedf6005-f41e-4e92-a686-f061bf4c8254",
   "metadata": {},
   "outputs": [],
   "source": []
  }
 ],
 "metadata": {
  "kernelspec": {
   "display_name": "Python [conda env:fates_calibration]",
   "language": "python",
   "name": "conda-env-fates_calibration-py"
  },
  "language_info": {
   "codemirror_mode": {
    "name": "ipython",
    "version": 3
   },
   "file_extension": ".py",
   "mimetype": "text/x-python",
   "name": "python",
   "nbconvert_exporter": "python",
   "pygments_lexer": "ipython3",
   "version": "3.11.10"
  }
 },
 "nbformat": 4,
 "nbformat_minor": 5
}
