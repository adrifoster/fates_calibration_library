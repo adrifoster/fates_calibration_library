{
 "cells": [
  {
   "cell_type": "markdown",
   "id": "29fcbf9e-93b7-40a3-8e90-faaa37b53c22",
   "metadata": {},
   "source": [
    "# Calculate ILAMB Data\n",
    "Creates annual, regridded data as well as month of max and climatology, from raw ILAMB data. Uses a config file (e.g. ILAMB_obs.cfg) to get information about where ILAMB data is located and what the files, models, and variable names are."
   ]
  },
  {
   "cell_type": "code",
   "execution_count": 1,
   "id": "2ee12d12-a6ee-41e1-a001-d8d5eb4eacc7",
   "metadata": {},
   "outputs": [],
   "source": [
    "import os\n",
    "import warnings\n",
    "import xarray as xr\n",
    "\n",
    "import fates_calibration_library.utils as utils\n",
    "import fates_calibration_library.ilamb_functions as ilamb\n",
    "import fates_calibration_library.analysis_functions as analysis\n",
    "\n",
    "# ignore warnings about latitude being outside of -90, 90\n",
    "warnings.simplefilter(\"ignore\", UserWarning)"
   ]
  },
  {
   "cell_type": "code",
   "execution_count": 2,
   "id": "993df368-bd0e-4cc3-b0af-a0c547685ebe",
   "metadata": {},
   "outputs": [],
   "source": [
    "# config file for ILAMB data\n",
    "ilamb_cfg = '/glade/work/afoster/FATES_calibration/scripts/configs/ILAMB_obs.yaml'\n",
    "\n",
    "# land area file\n",
    "land_area_ds = os.path.join(\"/glade/derecho/scratch/afoster/archive\",\n",
    "                            \"ctsm60SP_bigleaf_fullgrid/lnd/hist\",\n",
    "                            \"ctsm60SP_bigleaf_fullgrid.clm2.h0.0001-02-01-00000.nc\")"
   ]
  },
  {
   "cell_type": "code",
   "execution_count": 3,
   "id": "19b1ed53-978b-46d0-92ea-bd296433bbff",
   "metadata": {},
   "outputs": [],
   "source": [
    "# config dictionary for running functions\n",
    "config_dict = {\n",
    "    'top_dir': '/glade/campaign/cesm/community/lmwg/diag/ILAMB/DATA',  # location of raw ILAMB data\n",
    "    'out_dir': '/glade/work/afoster/FATES_calibration/observations/ILAMB_obs',  # where to put compiled ILAMB data\n",
    "    'start_date': '2000-01-01',  # start date to filter to\n",
    "    'end_date': '2014-12-31',  # end date to filter to\n",
    "    'user': 'afoster@ucar.edu',  # user\n",
    "    'clobber': False,  # overwrite files?\n",
    "}"
   ]
  },
  {
   "cell_type": "code",
   "execution_count": 4,
   "id": "7ee1a307-a805-4f98-94f6-a4e1ce1b5502",
   "metadata": {},
   "outputs": [],
   "source": [
    "# read in the ILAMB data dictionary\n",
    "ilamb_dict = utils.get_config_file(ilamb_cfg)"
   ]
  },
  {
   "cell_type": "code",
   "execution_count": 5,
   "id": "2c4f6bb5-c9e1-452e-99e2-cf9c66887105",
   "metadata": {},
   "outputs": [],
   "source": [
    "# create a target grid to regrid to\n",
    "target_grid = analysis.create_target_grid(land_area_ds, 'FSR')"
   ]
  },
  {
   "cell_type": "code",
   "execution_count": null,
   "id": "91e425a6-8c6e-468d-8ead-e71d332c34d0",
   "metadata": {},
   "outputs": [],
   "source": [
    "dataset = 'ESACCI_BIOMASS'\n",
    "attributes = ilamb_dict[dataset]"
   ]
  },
  {
   "cell_type": "code",
   "execution_count": null,
   "id": "b10d25da-e97a-4e25-bbf0-a6f6487ea093",
   "metadata": {},
   "outputs": [],
   "source": [
    "import importlib\n",
    "import fates_calibration_library.ilamb_functions\n",
    "import fates_calibration_library.analysis_functions\n",
    "importlib.reload(fates_calibration_library.ilamb_functions)\n",
    "importlib.reload(fates_calibration_library.analysis_functions)\n",
    "import numpy as np"
   ]
  },
  {
   "cell_type": "code",
   "execution_count": null,
   "id": "06e831b1-68c3-47ea-ac9b-2ccd492697c5",
   "metadata": {},
   "outputs": [],
   "source": [
    "# read or compute ILAMB data\n",
    "ilamb_dat, original_file = ilamb.read_ilamb_data(\n",
    "    config_dict, ilamb_dict, attributes\n",
    ")"
   ]
  },
  {
   "cell_type": "code",
   "execution_count": null,
   "id": "adc970c0-013d-4836-b9a5-58450032e44b",
   "metadata": {},
   "outputs": [],
   "source": [
    "# prepare metadata\n",
    "metadata = {\n",
    "    \"units\": attributes[\"units\"],\n",
    "    \"longname\": attributes[\"longname\"],\n",
    "    \"original_file\": original_file,\n",
    "    \"user\": config_dict[\"user\"],\n",
    "}"
   ]
  },
  {
   "cell_type": "code",
   "execution_count": null,
   "id": "c141f011-5e06-4d6a-a9d8-767b508ec33a",
   "metadata": {},
   "outputs": [],
   "source": [
    "annual = analysis.calculate_annual_mean(ilamb_dat[attributes[\"in_var\"]],\n",
    "                                        utils.evaluate_conversion_factor(attributes[\"time_conversion_factor\"]))"
   ]
  },
  {
   "cell_type": "code",
   "execution_count": null,
   "id": "03a0fcad-09b3-4959-9537-c15cd3e0079f",
   "metadata": {},
   "outputs": [],
   "source": [
    "annual.plot()"
   ]
  },
  {
   "cell_type": "code",
   "execution_count": null,
   "id": "7d1e85ac-72f6-44fe-88e6-b5f0ba50039e",
   "metadata": {},
   "outputs": [],
   "source": [
    "# calculate annual dataset\n",
    "annual_ds = ilamb.get_annual_ds(\n",
    "    ilamb_dat,\n",
    "    attributes[\"in_var\"],\n",
    "    attributes[\"out_var\"],\n",
    "    utils.evaluate_conversion_factor(attributes[\"time_conversion_factor\"]),\n",
    "    metadata,\n",
    ")\n",
    "regridded_annual = ilamb.regrid_ilamb_ds(annual_ds, target_grid, attributes[\"out_var\"])\n",
    "if \"year\" in regridded_annual[attributes['out_var']].dims:\n",
    "    sum_annual = regridded_annual[attributes['out_var']].sum(dim=\"year\")\n",
    "else:\n",
    "    sum_annual = regridded_annual[attributes['out_var']] \n",
    "regridded_annual = regridded_annual.where(np.abs(sum_annual) > 0.0)"
   ]
  },
  {
   "cell_type": "code",
   "execution_count": null,
   "id": "02ea57c4-81cf-4109-8163-b1ba350a86b0",
   "metadata": {},
   "outputs": [],
   "source": [
    "# monthly mean\n",
    "monthly_mean = analysis.calculate_monthly_mean(\n",
    "    ilamb_dat[attributes[\"in_var\"]],\n",
    "    utils.evaluate_conversion_factor(attributes[\"time_conversion_factor\"]),\n",
    ")\n",
    "# regrided monthly mean\n",
    "regridded_monthly = ilamb.regrid_ilamb_ds(\n",
    "    monthly_mean.to_dataset(name=f\"{attributes['out_var']}_monthly\"),\n",
    "    target_grid,\n",
    "    f\"{attributes['out_var']}_monthly\")\n",
    "sum_monthly = regridded_monthly[f\"{attributes['out_var']}_monthly\"].sum(dim='month')\n",
    "regridded_monthly = regridded_monthly.where(np.abs(sum_monthly) > 0.0)"
   ]
  },
  {
   "cell_type": "code",
   "execution_count": null,
   "id": "a209c3b7-2e48-4bd6-b454-266d35087c9c",
   "metadata": {},
   "outputs": [],
   "source": [
    "# calculate month of maximum value\n",
    "month_of_max = analysis.get_monthly_max(regridded_monthly[f\"{attributes['out_var']}_monthly\"]).to_dataset(\n",
    "    name=f\"{attributes['out_var']}_month_of_max\"\n",
    ")"
   ]
  },
  {
   "cell_type": "code",
   "execution_count": null,
   "id": "e168c5f7-6650-440e-8864-e950ccec8097",
   "metadata": {},
   "outputs": [],
   "source": [
    "month_of_max[f\"{attributes['out_var']}_month_of_max\"].plot(cmap='jet')"
   ]
  },
  {
   "cell_type": "code",
   "execution_count": null,
   "id": "72ec7940-91a5-4a89-98b6-6f41ac94b8f1",
   "metadata": {},
   "outputs": [],
   "source": [
    "utils.evaluate_conversion_factor(attributes[\"area_conversion_factor\"]) is None"
   ]
  },
  {
   "cell_type": "code",
   "execution_count": null,
   "id": "e9a77fcf-06ce-4ff5-9a93-76b6c2509763",
   "metadata": {},
   "outputs": [],
   "source": [
    "climatology_ds = ilamb.get_ilamb_climatology(\n",
    "    regridded_monthly,\n",
    "    attributes['out_var'],\n",
    "    utils.evaluate_conversion_factor(attributes[\"area_conversion_factor\"])\n",
    ")"
   ]
  },
  {
   "cell_type": "code",
   "execution_count": null,
   "id": "f551d43b-9c0c-45a8-8aeb-e86b9d1949bd",
   "metadata": {},
   "outputs": [],
   "source": [
    "climatology_ds[f\"{attributes['out_var']}_cycle\"].plot()"
   ]
  },
  {
   "cell_type": "code",
   "execution_count": 6,
   "id": "ed8886db-e0e4-4ca9-bdc8-49c674a9891b",
   "metadata": {},
   "outputs": [
    {
     "name": "stdout",
     "output_type": "stream",
     "text": [
      "File /glade/work/afoster/FATES_calibration/observations/ILAMB_obs/FLUXCOM_GPP.nc for FLUXCOM_GPP exists, skipping\n",
      "File /glade/work/afoster/FATES_calibration/observations/ILAMB_obs/WECANN_GPP.nc for WECANN_GPP exists, skipping\n",
      "File /glade/work/afoster/FATES_calibration/observations/ILAMB_obs/GBAF_GPP.nc for GBAF_GPP exists, skipping\n",
      "File /glade/work/afoster/FATES_calibration/observations/ILAMB_obs/FLUXCOM_NEE.nc for FLUXCOM_NEE exists, skipping\n",
      "File /glade/work/afoster/FATES_calibration/observations/ILAMB_obs/AVHRR_LAI.nc for AVHRR_LAI exists, skipping\n",
      "File /glade/work/afoster/FATES_calibration/observations/ILAMB_obs/AVH15C1_LAI.nc for AVH15C1_LAI exists, skipping\n",
      "File /glade/work/afoster/FATES_calibration/observations/ILAMB_obs/FLUXCOM_LE.nc for FLUXCOM_LE exists, skipping\n",
      "File /glade/work/afoster/FATES_calibration/observations/ILAMB_obs/CLASS_LE.nc for CLASS_LE exists, skipping\n",
      "File /glade/work/afoster/FATES_calibration/observations/ILAMB_obs/WECANN_LE.nc for WECANN_LE exists, skipping\n",
      "File /glade/work/afoster/FATES_calibration/observations/ILAMB_obs/GBAF_LE.nc for GBAF_LE exists, skipping\n",
      "File /glade/work/afoster/FATES_calibration/observations/ILAMB_obs/DOLCE_LE.nc for DOLCE_LE exists, skipping\n",
      "File /glade/work/afoster/FATES_calibration/observations/ILAMB_obs/FLUXCOM_SH.nc for FLUXCOM_SH exists, skipping\n",
      "File /glade/work/afoster/FATES_calibration/observations/ILAMB_obs/CLASS_SH.nc for CLASS_SH exists, skipping\n",
      "File /glade/work/afoster/FATES_calibration/observations/ILAMB_obs/WECANN_SH.nc for WECANN_SH exists, skipping\n",
      "File /glade/work/afoster/FATES_calibration/observations/ILAMB_obs/GBAF_SH.nc for GBAF_SH exists, skipping\n",
      "File /glade/work/afoster/FATES_calibration/observations/ILAMB_obs/LORA_MRRO.nc for LORA_MRRO exists, skipping\n",
      "File /glade/work/afoster/FATES_calibration/observations/ILAMB_obs/CLASS_MRRO.nc for CLASS_MRRO exists, skipping\n",
      "File /glade/work/afoster/FATES_calibration/observations/ILAMB_obs/WangMao_SW.nc for WangMao_SW exists, skipping\n",
      "File /glade/work/afoster/FATES_calibration/observations/ILAMB_obs/CERESed4.1_ALBEDO.nc for CERESed4.1_ALBEDO exists, skipping\n",
      "File /glade/work/afoster/FATES_calibration/observations/ILAMB_obs/GEWEX.SRB_ALBEDO.nc for GEWEX.SRB_ALBEDO exists, skipping\n",
      "File /glade/work/afoster/FATES_calibration/observations/ILAMB_obs/CERESed4.1_RSDS.nc for CERESed4.1_RSDS exists, skipping\n",
      "File /glade/work/afoster/FATES_calibration/observations/ILAMB_obs/GEWEX.SRB_RSDS.nc for GEWEX.SRB_RSDS exists, skipping\n",
      "File /glade/work/afoster/FATES_calibration/observations/ILAMB_obs/CERESed4.1_FSR.nc for CERESed4.1_FSR exists, skipping\n",
      "File /glade/work/afoster/FATES_calibration/observations/ILAMB_obs/GEWEX.SRB_FSR.nc for GEWEX.SRB_FSR exists, skipping\n",
      "File /glade/work/afoster/FATES_calibration/observations/ILAMB_obs/CERESed4.1_FSA.nc for CERESed4.1_FSA exists, skipping\n",
      "File /glade/work/afoster/FATES_calibration/observations/ILAMB_obs/GEWEX.SRB_FSA.nc for GEWEX.SRB_FSA exists, skipping\n",
      "File /glade/work/afoster/FATES_calibration/observations/ILAMB_obs/CERESed4.1_FIRE.nc for CERESed4.1_FIRE exists, skipping\n",
      "File /glade/work/afoster/FATES_calibration/observations/ILAMB_obs/GEWEX.SRB_FIRE.nc for GEWEX.SRB_FIRE exists, skipping\n",
      "File /glade/work/afoster/FATES_calibration/observations/ILAMB_obs/CERESed4.1_RLNS.nc for CERESed4.1_RLNS exists, skipping\n",
      "File /glade/work/afoster/FATES_calibration/observations/ILAMB_obs/GEWEX.SRB_RLNS.nc for GEWEX.SRB_RLNS exists, skipping\n",
      "File /glade/work/afoster/FATES_calibration/observations/ILAMB_obs/CERESed4.1_RN.nc for CERESed4.1_RN exists, skipping\n",
      "File /glade/work/afoster/FATES_calibration/observations/ILAMB_obs/GEWEX.SRB_RN.nc for GEWEX.SRB_RN exists, skipping\n",
      "File /glade/work/afoster/FATES_calibration/observations/ILAMB_obs/CLASS_RN.nc for CLASS_RN exists, skipping\n",
      "File /glade/work/afoster/FATES_calibration/observations/ILAMB_obs/CLASS_GR.nc for CLASS_GR exists, skipping\n",
      "/glade/work/afoster/FATES_calibration/observations/ILAMB_obs/ESACCI_BIOMASS.nc\n",
      "/glade/work/afoster/FATES_calibration/observations/ILAMB_obs/GEOCARBON_BIOMASS.nc\n",
      "/glade/work/afoster/FATES_calibration/observations/ILAMB_obs/GFED4.1S_BURNTAREA.nc\n",
      "/glade/work/afoster/FATES_calibration/observations/ILAMB_obs/FLUXCOM_EF.nc\n",
      "/glade/work/afoster/FATES_calibration/observations/ILAMB_obs/CLASS_EF.nc\n",
      "/glade/work/afoster/FATES_calibration/observations/ILAMB_obs/WECANN_EF.nc\n",
      "/glade/work/afoster/FATES_calibration/observations/ILAMB_obs/GBAF_EF.nc\n"
     ]
    }
   ],
   "source": [
    "# loop through dictionary and process the ILAMB observations\n",
    "# script will skip files that already exist unless clobber: True\n",
    "ilamb.get_all_ilamb_data(config_dict, ilamb_dict, target_grid)"
   ]
  },
  {
   "cell_type": "code",
   "execution_count": null,
   "id": "8f354b86-ef21-40dd-8be7-5b0b028e644a",
   "metadata": {},
   "outputs": [],
   "source": [
    "# compile data into one dataset\n",
    "compiled_ds = ilamb.compile_ilamb_datasets(config_dict['out_dir'], ilamb_dict,\n",
    "                                          target_grid.area)\n",
    "compiled_ds.to_netcdf(os.path.join('/glade/work/afoster/FATES_calibration',\n",
    "                                  'observations/all_ILAMB_obs.nc'), mode=\"w\")"
   ]
  },
  {
   "cell_type": "code",
   "execution_count": null,
   "id": "bfcac686-32b9-471c-9fc5-e4e1a551f138",
   "metadata": {},
   "outputs": [],
   "source": []
  }
 ],
 "metadata": {
  "kernelspec": {
   "display_name": "Python [conda env:fates_calibration]",
   "language": "python",
   "name": "conda-env-fates_calibration-py"
  },
  "language_info": {
   "codemirror_mode": {
    "name": "ipython",
    "version": 3
   },
   "file_extension": ".py",
   "mimetype": "text/x-python",
   "name": "python",
   "nbconvert_exporter": "python",
   "pygments_lexer": "ipython3",
   "version": "3.11.10"
  }
 },
 "nbformat": 4,
 "nbformat_minor": 5
}
