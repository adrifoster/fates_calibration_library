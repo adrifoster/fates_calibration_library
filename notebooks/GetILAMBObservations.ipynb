{
 "cells": [
  {
   "cell_type": "markdown",
   "id": "29fcbf9e-93b7-40a3-8e90-faaa37b53c22",
   "metadata": {},
   "source": [
    "# Calculate ILAMB Data\n",
    "Creates annual, regridded data as well as month of max and climatology, from raw ILAMB data. Uses a config file (e.g. ILAMB_obs.cfg) to get information about where ILAMB data is located and what the files, models, and variable names are."
   ]
  },
  {
   "cell_type": "code",
   "execution_count": 1,
   "id": "2ee12d12-a6ee-41e1-a001-d8d5eb4eacc7",
   "metadata": {},
   "outputs": [],
   "source": [
    "import os\n",
    "import warnings\n",
    "import xarray as xr\n",
    "\n",
    "import fates_calibration_library.utils as utils\n",
    "import fates_calibration_library.ilamb_functions as ilamb\n",
    "import fates_calibration_library.analysis_functions as analysis\n",
    "\n",
    "# ignore warnings about latitude being outside of -90, 90\n",
    "warnings.simplefilter(\"ignore\", UserWarning)"
   ]
  },
  {
   "cell_type": "code",
   "execution_count": 2,
   "id": "993df368-bd0e-4cc3-b0af-a0c547685ebe",
   "metadata": {},
   "outputs": [],
   "source": [
    "# config file for ILAMB data\n",
    "ilamb_cfg = '/glade/work/afoster/FATES_calibration/scripts/configs/ILAMB_obs.yaml'\n",
    "\n",
    "# land area file\n",
    "land_area_ds = os.path.join(\"/glade/derecho/scratch/afoster/archive\",\n",
    "                            \"ctsm60SP_bigleaf_fullgrid/lnd/hist\",\n",
    "                            \"ctsm60SP_bigleaf_fullgrid.clm2.h0.0001-02-01-00000.nc\")"
   ]
  },
  {
   "cell_type": "code",
   "execution_count": 3,
   "id": "19b1ed53-978b-46d0-92ea-bd296433bbff",
   "metadata": {},
   "outputs": [],
   "source": [
    "# config dictionary for running functions\n",
    "config_dict = {\n",
    "    'top_dir': '/glade/campaign/cesm/community/lmwg/diag/ILAMB/DATA',  # location of raw ILAMB data\n",
    "    'out_dir': '/glade/work/afoster/FATES_calibration/observations/ILAMB_obs',  # where to put compiled ILAMB data\n",
    "    'start_date': '2000-01-01',  # start date to filter to\n",
    "    'end_date': '2014-12-31',  # end date to filter to\n",
    "    'user': 'afoster@ucar.edu',  # user\n",
    "    'clobber': False,  # overwrite files?\n",
    "}"
   ]
  },
  {
   "cell_type": "code",
   "execution_count": 4,
   "id": "7ee1a307-a805-4f98-94f6-a4e1ce1b5502",
   "metadata": {},
   "outputs": [],
   "source": [
    "# read in the ILAMB data dictionary\n",
    "ilamb_dict = utils.get_config_file(ilamb_cfg)"
   ]
  },
  {
   "cell_type": "code",
   "execution_count": 30,
   "id": "11ee381f-6011-4b63-b659-bd61877ef831",
   "metadata": {},
   "outputs": [],
   "source": [
    "import pandas as pd"
   ]
  },
  {
   "cell_type": "code",
   "execution_count": 43,
   "id": "f21c5492-6b73-42ea-8819-86b304c58fd0",
   "metadata": {},
   "outputs": [],
   "source": [
    "keys = list(ilamb_dict.keys())\n",
    "df_list = []\n",
    "for key in keys:\n",
    "    model = key.split('_')[0]\n",
    "    var = key.split('_')[1]\n",
    "    df_list.append(pd.DataFrame({'model': [model],\n",
    "                      'variable': [var]}))"
   ]
  },
  {
   "cell_type": "code",
   "execution_count": 44,
   "id": "f4260a55-d9c0-4001-84a9-b782078bac51",
   "metadata": {},
   "outputs": [],
   "source": [
    "df = pd.concat(df_list)"
   ]
  },
  {
   "cell_type": "code",
   "execution_count": 46,
   "id": "4aa457fc-fa10-4fca-b0ff-7c6cebb12df3",
   "metadata": {},
   "outputs": [
    {
     "data": {
      "text/html": [
       "<div>\n",
       "<style scoped>\n",
       "    .dataframe tbody tr th:only-of-type {\n",
       "        vertical-align: middle;\n",
       "    }\n",
       "\n",
       "    .dataframe tbody tr th {\n",
       "        vertical-align: top;\n",
       "    }\n",
       "\n",
       "    .dataframe thead th {\n",
       "        text-align: right;\n",
       "    }\n",
       "</style>\n",
       "<table border=\"1\" class=\"dataframe\">\n",
       "  <thead>\n",
       "    <tr style=\"text-align: right;\">\n",
       "      <th></th>\n",
       "      <th>model</th>\n",
       "      <th>variable</th>\n",
       "    </tr>\n",
       "  </thead>\n",
       "  <tbody>\n",
       "    <tr>\n",
       "      <th>0</th>\n",
       "      <td>FLUXCOM</td>\n",
       "      <td>GPP</td>\n",
       "    </tr>\n",
       "    <tr>\n",
       "      <th>0</th>\n",
       "      <td>WECANN</td>\n",
       "      <td>GPP</td>\n",
       "    </tr>\n",
       "    <tr>\n",
       "      <th>0</th>\n",
       "      <td>GBAF</td>\n",
       "      <td>GPP</td>\n",
       "    </tr>\n",
       "  </tbody>\n",
       "</table>\n",
       "</div>"
      ],
      "text/plain": [
       "     model variable\n",
       "0  FLUXCOM      GPP\n",
       "0   WECANN      GPP\n",
       "0     GBAF      GPP"
      ]
     },
     "execution_count": 46,
     "metadata": {},
     "output_type": "execute_result"
    }
   ],
   "source": [
    "df[df.variable == 'GPP']"
   ]
  },
  {
   "cell_type": "code",
   "execution_count": 14,
   "id": "0bbca624-78dd-4a07-9d57-00be44bc21fd",
   "metadata": {},
   "outputs": [],
   "source": [
    "def adjust_lon(ds: xr.Dataset, lon_name: str, to_180=True) -> xr.Dataset:\n",
    "    \"\"\"Adjusts the longitude values of a dataset to be from 0-360 to -180 to 180\n",
    "\n",
    "    Args:\n",
    "        ds (xr.Dataset): Dataset\n",
    "        lon_name (str): name of the longitude variable\n",
    "\n",
    "    Returns:\n",
    "        xr.Dataset: Dataset with the longitude values changes\n",
    "    \"\"\"\n",
    "\n",
    "    if to_180:\n",
    "        # adjust lon values to make sure they are within (-180, 180)\n",
    "        ds[\"longitude_adjusted\"] = xr.where(\n",
    "            ds[lon_name] > 180, ds[lon_name] - 360, ds[lon_name]\n",
    "        )\n",
    "    else:\n",
    "        ds[\"longitude_adjusted\"] = ds[lon_name] % 360\n",
    "\n",
    "    # reassign the new coords to as the main lon coords\n",
    "    # and sort DataArray using new coordinate values\n",
    "    ds = (\n",
    "        ds.swap_dims({lon_name: \"longitude_adjusted\"})\n",
    "        .sel(**{\"longitude_adjusted\": sorted(ds.longitude_adjusted)})\n",
    "        .drop_vars(lon_name)\n",
    "    )\n",
    "\n",
    "    ds = ds.rename({\"longitude_adjusted\": lon_name})\n",
    "\n",
    "    return ds"
   ]
  },
  {
   "cell_type": "code",
   "execution_count": 12,
   "id": "3eed4fb6-c770-4f99-8201-403310d6f350",
   "metadata": {},
   "outputs": [],
   "source": [
    "ds = xr.open_dataset('/glade/campaign/cesm/community/lmwg/diag/ILAMB/DATA/tas/CRU4.02/tas.nc')"
   ]
  },
  {
   "cell_type": "code",
   "execution_count": 15,
   "id": "2f638fa9-e749-438d-9f9c-1af0535cbd29",
   "metadata": {},
   "outputs": [],
   "source": [
    "ds_adj = adjust_lon(ds, 'lon', to_180=False)"
   ]
  },
  {
   "cell_type": "code",
   "execution_count": 17,
   "id": "649fc73d-9ce0-4e5b-ade4-740fd82f4021",
   "metadata": {},
   "outputs": [],
   "source": [
    "ds_adj.to_netcdf('/glade/work/afoster/test_tas.nc')"
   ]
  },
  {
   "cell_type": "code",
   "execution_count": 5,
   "id": "2c4f6bb5-c9e1-452e-99e2-cf9c66887105",
   "metadata": {},
   "outputs": [],
   "source": [
    "# create a target grid to regrid to\n",
    "target_grid = analysis.create_target_grid(land_area_ds, 'FSR')"
   ]
  },
  {
   "cell_type": "code",
   "execution_count": 6,
   "id": "ed8886db-e0e4-4ca9-bdc8-49c674a9891b",
   "metadata": {},
   "outputs": [
    {
     "name": "stdout",
     "output_type": "stream",
     "text": [
      "File /glade/work/afoster/FATES_calibration/observations/ILAMB_obs/FLUXCOM_GPP.nc for FLUXCOM_GPP exists, skipping\n",
      "File /glade/work/afoster/FATES_calibration/observations/ILAMB_obs/WECANN_GPP.nc for WECANN_GPP exists, skipping\n",
      "File /glade/work/afoster/FATES_calibration/observations/ILAMB_obs/GBAF_GPP.nc for GBAF_GPP exists, skipping\n",
      "File /glade/work/afoster/FATES_calibration/observations/ILAMB_obs/FLUXCOM_NEE.nc for FLUXCOM_NEE exists, skipping\n",
      "File /glade/work/afoster/FATES_calibration/observations/ILAMB_obs/AVHRR_LAI.nc for AVHRR_LAI exists, skipping\n",
      "File /glade/work/afoster/FATES_calibration/observations/ILAMB_obs/AVH15C1_LAI.nc for AVH15C1_LAI exists, skipping\n",
      "File /glade/work/afoster/FATES_calibration/observations/ILAMB_obs/FLUXCOM_LE.nc for FLUXCOM_LE exists, skipping\n",
      "File /glade/work/afoster/FATES_calibration/observations/ILAMB_obs/CLASS_LE.nc for CLASS_LE exists, skipping\n",
      "File /glade/work/afoster/FATES_calibration/observations/ILAMB_obs/WECANN_LE.nc for WECANN_LE exists, skipping\n",
      "File /glade/work/afoster/FATES_calibration/observations/ILAMB_obs/GBAF_LE.nc for GBAF_LE exists, skipping\n",
      "File /glade/work/afoster/FATES_calibration/observations/ILAMB_obs/DOLCE_LE.nc for DOLCE_LE exists, skipping\n",
      "File /glade/work/afoster/FATES_calibration/observations/ILAMB_obs/FLUXCOM_SH.nc for FLUXCOM_SH exists, skipping\n",
      "File /glade/work/afoster/FATES_calibration/observations/ILAMB_obs/CLASS_SH.nc for CLASS_SH exists, skipping\n",
      "File /glade/work/afoster/FATES_calibration/observations/ILAMB_obs/WECANN_SH.nc for WECANN_SH exists, skipping\n",
      "File /glade/work/afoster/FATES_calibration/observations/ILAMB_obs/GBAF_SH.nc for GBAF_SH exists, skipping\n",
      "File /glade/work/afoster/FATES_calibration/observations/ILAMB_obs/LORA_MRRO.nc for LORA_MRRO exists, skipping\n",
      "File /glade/work/afoster/FATES_calibration/observations/ILAMB_obs/CLASS_MRRO.nc for CLASS_MRRO exists, skipping\n",
      "File /glade/work/afoster/FATES_calibration/observations/ILAMB_obs/WangMao_SW.nc for WangMao_SW exists, skipping\n",
      "File /glade/work/afoster/FATES_calibration/observations/ILAMB_obs/CERESed4.1_ALBEDO.nc for CERESed4.1_ALBEDO exists, skipping\n",
      "File /glade/work/afoster/FATES_calibration/observations/ILAMB_obs/GEWEX.SRB_ALBEDO.nc for GEWEX.SRB_ALBEDO exists, skipping\n",
      "File /glade/work/afoster/FATES_calibration/observations/ILAMB_obs/CERESed4.1_RSDS.nc for CERESed4.1_RSDS exists, skipping\n",
      "File /glade/work/afoster/FATES_calibration/observations/ILAMB_obs/GEWEX.SRB_RSDS.nc for GEWEX.SRB_RSDS exists, skipping\n",
      "File /glade/work/afoster/FATES_calibration/observations/ILAMB_obs/CERESed4.1_FSR.nc for CERESed4.1_FSR exists, skipping\n",
      "File /glade/work/afoster/FATES_calibration/observations/ILAMB_obs/GEWEX.SRB_FSR.nc for GEWEX.SRB_FSR exists, skipping\n",
      "File /glade/work/afoster/FATES_calibration/observations/ILAMB_obs/CERESed4.1_FSA.nc for CERESed4.1_FSA exists, skipping\n",
      "File /glade/work/afoster/FATES_calibration/observations/ILAMB_obs/GEWEX.SRB_FSA.nc for GEWEX.SRB_FSA exists, skipping\n",
      "File /glade/work/afoster/FATES_calibration/observations/ILAMB_obs/CERESed4.1_FIRE.nc for CERESed4.1_FIRE exists, skipping\n",
      "File /glade/work/afoster/FATES_calibration/observations/ILAMB_obs/GEWEX.SRB_FIRE.nc for GEWEX.SRB_FIRE exists, skipping\n",
      "File /glade/work/afoster/FATES_calibration/observations/ILAMB_obs/CERESed4.1_RLNS.nc for CERESed4.1_RLNS exists, skipping\n",
      "File /glade/work/afoster/FATES_calibration/observations/ILAMB_obs/GEWEX.SRB_RLNS.nc for GEWEX.SRB_RLNS exists, skipping\n",
      "File /glade/work/afoster/FATES_calibration/observations/ILAMB_obs/CERESed4.1_RN.nc for CERESed4.1_RN exists, skipping\n",
      "File /glade/work/afoster/FATES_calibration/observations/ILAMB_obs/GEWEX.SRB_RN.nc for GEWEX.SRB_RN exists, skipping\n",
      "File /glade/work/afoster/FATES_calibration/observations/ILAMB_obs/CLASS_RN.nc for CLASS_RN exists, skipping\n",
      "File /glade/work/afoster/FATES_calibration/observations/ILAMB_obs/CLASS_GR.nc for CLASS_GR exists, skipping\n",
      "/glade/work/afoster/FATES_calibration/observations/ILAMB_obs/ESACCI_BIOMASS.nc\n",
      "/glade/work/afoster/FATES_calibration/observations/ILAMB_obs/GEOCARBON_BIOMASS.nc\n",
      "/glade/work/afoster/FATES_calibration/observations/ILAMB_obs/GFED4.1S_BURNTAREA.nc\n",
      "/glade/work/afoster/FATES_calibration/observations/ILAMB_obs/FLUXCOM_EF.nc\n",
      "/glade/work/afoster/FATES_calibration/observations/ILAMB_obs/CLASS_EF.nc\n",
      "/glade/work/afoster/FATES_calibration/observations/ILAMB_obs/WECANN_EF.nc\n",
      "/glade/work/afoster/FATES_calibration/observations/ILAMB_obs/GBAF_EF.nc\n"
     ]
    }
   ],
   "source": [
    "# loop through dictionary and process the ILAMB observations\n",
    "# script will skip files that already exist unless clobber: True\n",
    "ilamb.get_all_ilamb_data(config_dict, ilamb_dict, target_grid)"
   ]
  },
  {
   "cell_type": "code",
   "execution_count": null,
   "id": "8f354b86-ef21-40dd-8be7-5b0b028e644a",
   "metadata": {},
   "outputs": [],
   "source": [
    "# compile data into one dataset\n",
    "compiled_ds = ilamb.compile_ilamb_datasets(config_dict['out_dir'], ilamb_dict,\n",
    "                                          target_grid.area)\n",
    "compiled_ds.to_netcdf(os.path.join('/glade/work/afoster/FATES_calibration',\n",
    "                                  'observations/all_ILAMB_obs.nc'), mode=\"w\")"
   ]
  },
  {
   "cell_type": "code",
   "execution_count": null,
   "id": "bfcac686-32b9-471c-9fc5-e4e1a551f138",
   "metadata": {},
   "outputs": [],
   "source": []
  }
 ],
 "metadata": {
  "kernelspec": {
   "display_name": "Python [conda env:fates_calibration]",
   "language": "python",
   "name": "conda-env-fates_calibration-py"
  },
  "language_info": {
   "codemirror_mode": {
    "name": "ipython",
    "version": 3
   },
   "file_extension": ".py",
   "mimetype": "text/x-python",
   "name": "python",
   "nbconvert_exporter": "python",
   "pygments_lexer": "ipython3",
   "version": "3.11.10"
  }
 },
 "nbformat": 4,
 "nbformat_minor": 5
}
