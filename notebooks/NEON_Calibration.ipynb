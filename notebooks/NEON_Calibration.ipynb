{
 "cells": [
  {
   "cell_type": "markdown",
   "id": "2d1cd44b-e0b8-48ba-8997-6443ad6c0888",
   "metadata": {},
   "source": [
    "# Test A NEON Site"
   ]
  },
  {
   "cell_type": "code",
   "execution_count": 1,
   "id": "4925c538-10a2-4eb2-babc-09b691db69dd",
   "metadata": {},
   "outputs": [
    {
     "name": "stderr",
     "output_type": "stream",
     "text": [
      "2025-02-26 11:01:17.208265: I tensorflow/core/util/port.cc:110] oneDNN custom operations are on. You may see slightly different numerical results due to floating-point round-off errors from different computation orders. To turn them off, set the environment variable `TF_ENABLE_ONEDNN_OPTS=0`.\n",
      "2025-02-26 11:01:18.189646: I tensorflow/tsl/cuda/cudart_stub.cc:28] Could not find cuda drivers on your machine, GPU will not be used.\n",
      "2025-02-26 11:01:19.223476: I tensorflow/tsl/cuda/cudart_stub.cc:28] Could not find cuda drivers on your machine, GPU will not be used.\n",
      "2025-02-26 11:01:19.247659: I tensorflow/core/platform/cpu_feature_guard.cc:182] This TensorFlow binary is optimized to use available CPU instructions in performance-critical operations.\n",
      "To enable the following instructions: AVX2 AVX512F AVX512_VNNI FMA, in other operations, rebuild TensorFlow with the appropriate compiler flags.\n",
      "2025-02-26 11:01:21.971884: W tensorflow/compiler/tf2tensorrt/utils/py_utils.cc:38] TF-TRT Warning: Could not find TensorRT\n"
     ]
    }
   ],
   "source": [
    "import glob\n",
    "import math\n",
    "import os\n",
    "\n",
    "import cftime\n",
    "import fates_calibration.emulation_functions as emf\n",
    "import fates_calibration.train_emulators as tr\n",
    "from esem.utils import get_random_params\n",
    "import matplotlib.pyplot as plt\n",
    "import numpy as np\n",
    "import pandas as pd\n",
    "import xarray as xr\n",
    "from matplotlib.patches import Rectangle\n",
    "from dask.distributed import Client\n",
    "from dask_jobqueue import PBSCluster"
   ]
  },
  {
   "cell_type": "code",
   "execution_count": 2,
   "id": "0a0f590f-4bdf-4e4f-8352-e8384cda86f9",
   "metadata": {},
   "outputs": [
    {
     "name": "stderr",
     "output_type": "stream",
     "text": [
      "/glade/work/afoster/conda-envs/fates_calibration/lib/python3.11/site-packages/distributed/node.py:182: UserWarning: Port 8787 is already in use.\n",
      "Perhaps you already have a cluster running?\n",
      "Hosting the HTTP server on port 34083 instead\n",
      "  warnings.warn(\n"
     ]
    }
   ],
   "source": [
    "# Setup PBSCluster\n",
    "cluster = PBSCluster(\n",
    "    cores=1,  # The number of cores you want\n",
    "    memory=\"25GB\",  # Amount of memory\n",
    "    processes=1,  # How many processes\n",
    "    queue=\"casper\",  # The type of queue to utilize\n",
    "    local_directory=\"/glade/work/afoster\",  # Use your local directory\n",
    "    resource_spec=\"select=1:ncpus=1:mem=25GB\",  # Specify resources\n",
    "    account=\"P93300041\",  # Input your project ID here\n",
    "    walltime=\"08:00:00\",  # Amount of wall time\n",
    "    interface=\"ext\",  # Interface to use\n",
    ")\n",
    "cluster.scale(30)"
   ]
  },
  {
   "cell_type": "code",
   "execution_count": 3,
   "id": "727a8d75-2735-476a-a5bf-a86cd80d5da0",
   "metadata": {},
   "outputs": [],
   "source": [
    "def split_dataset(var: xr.DataArray, params: pd.DataFrame, n_test: int):\n",
    "    # target variable (excluding default [0])\n",
    "    Y = var.values\n",
    "\n",
    "    # test and training parameters\n",
    "    X_test, X_train = params.iloc[:n_test].copy(), params.iloc[n_test:].copy()\n",
    "\n",
    "    # test and training output\n",
    "    y_test, y_train = Y[:n_test], Y[n_test:]\n",
    "\n",
    "    return X_test, X_train, y_test, y_train"
   ]
  },
  {
   "cell_type": "code",
   "execution_count": 4,
   "id": "c5938acf-1853-4334-b4b7-bac6eb1862e2",
   "metadata": {},
   "outputs": [],
   "source": [
    "def plot_ensemble(ds, var, obs, obs_var, label, units):\n",
    "\n",
    "    ds_mean = ds[var].mean(dim=\"ensemble\")\n",
    "    \n",
    "    ax = plt.subplot(111)\n",
    "    ax.spines[\"top\"].set_visible(False)\n",
    "    ax.spines[\"bottom\"].set_visible(False)\n",
    "    ax.spines[\"right\"].set_visible(False)\n",
    "    ax.spines[\"left\"].set_visible(False)\n",
    "    ax.get_xaxis().tick_bottom()\n",
    "    ax.get_yaxis().tick_left()\n",
    "    time = np.array(\n",
    "        [np.datetime64(t.strftime(\"%Y-%m-%dT%H:%M:%S\")) for t in ds.time.values]\n",
    "    )\n",
    "    quantiles = [1, 5, 25]\n",
    "    cols = [\"#c1c4c8\", \"#989ea4\", \"#70787f\"]\n",
    "    labels = [\"1st-99th percentile\", \"5th-95th percentile\", \"25th-75th percentile\"]\n",
    "    plt.ylim(0, 5)\n",
    "    plt.yticks(range(0, 6, 1), [str(x) for x in range(0, 6, 1)], fontsize=10)\n",
    "    plt.xticks(fontsize=10)\n",
    "    plt.tick_params(bottom=False, top=False, left=False, right=False)\n",
    "    \n",
    "    for i, quantile in enumerate(quantiles):\n",
    "        q1 = ds[var].quantile(quantile / 100, dim=\"ensemble\")\n",
    "        q2 = ds[var].quantile(1 - quantile / 100, dim=\"ensemble\")\n",
    "        plt.fill_between(time, q1, q2, color=cols[i], label=labels[i])\n",
    "    \n",
    "    plt.plot(time, ds_mean, color=\"black\", lw=1, label=\"Ensemble Mean\")\n",
    "    plt.plot(obs.time, obs[obs_var], label=\"NEON observations\", c=\"red\", lw=1)\n",
    "    \n",
    "    plt.ylabel(f\"{label} {units}\", fontsize=11)\n",
    "    plt.title(\"Latin Hypercube Ensemble Spread\", fontsize=11)\n",
    "    plt.legend(loc=\"upper left\", fontsize=9);"
   ]
  },
  {
   "cell_type": "code",
   "execution_count": 5,
   "id": "75318547-f826-4b05-845d-83ebc76b2143",
   "metadata": {},
   "outputs": [],
   "source": [
    "def plot_histogram(data, obs_mean, label, units):\n",
    "    \n",
    "    plt.figure(figsize=(7, 5))\n",
    "    ax = plt.subplot(111)\n",
    "    ax.spines[\"top\"].set_visible(False)\n",
    "    ax.spines[\"right\"].set_visible(False)\n",
    "    ax.get_xaxis().tick_bottom()\n",
    "    ax.get_yaxis().tick_left()\n",
    "    plt.xticks(fontsize=11)\n",
    "    plt.yticks(range(0, 20, 5), fontsize=11)\n",
    "    \n",
    "    plt.xlabel(f\"{label} ({units})\", fontsize=12)\n",
    "    plt.ylabel(\"Count\", fontsize=12)\n",
    "    plt.hist(data, ec=\"black\", fc=\"#989ea4\", bins=35)\n",
    "    \n",
    "    ensemble_mean = data.mean(dim=\"ensemble\")\n",
    "    plt.axvline(x=ensemble_mean, color=\"black\", label=\"Ensemble Mean\", linestyle=\":\", lw=2)\n",
    "    \n",
    "    plt.axvline(x=obs_mean, color=\"red\", label=\"NEON observation\", linestyle=\":\", lw=2)\n",
    "    plt.legend(loc=\"upper left\", fontsize=9)"
   ]
  },
  {
   "cell_type": "code",
   "execution_count": 6,
   "id": "298bd1c1-1fb2-4ae1-8885-db2147323faa",
   "metadata": {},
   "outputs": [],
   "source": [
    "def get_neon_obs(obs_dir, site):\n",
    "    \n",
    "    obs_files = sorted(glob.glob(obs_dir + \"/\" + f\"*{site}*.nc\"))\n",
    "    obs = xr.open_mfdataset(obs_files, combine='nested',\n",
    "                            concat_dim='time', parallel=True, autoclose=True)\n",
    "    \n",
    "    sec_per_day = 24*60*60\n",
    "    gpp_gc_m2_s = obs.GPP*1E-6*12.011\n",
    "    gpp = (gpp_gc_m2_s.resample(time='D').mean())*sec_per_day # gC/m2/ms to gC/m2/d\n",
    "    lh = obs.EFLX_LH_TOT.resample(time='D').mean()       # W/m2\n",
    "    sh = obs.FSH.resample(time='D').mean()               # W/m2\n",
    "    \n",
    "    neon_dat = xr.merge([gpp, lh, sh])\n",
    "    neon_dat = neon_dat.convert_calendar(\"standard\", use_cftime=True)\n",
    "    neon_dat = neon_dat.isel(lat=0).isel(lon=0)\n",
    "\n",
    "    daily_gpp = neon_dat.GPP.groupby(\"time.dayofyear\").mean().to_dataset(name='GPP')\n",
    "    daily_gpp_var = neon_dat.GPP.groupby('time.dayofyear').var().to_dataset(name='GPPvar')\n",
    "    daily_lh = neon_dat.EFLX_LH_TOT.groupby('time.dayofyear').mean().to_dataset(name='EFLX_LH_TOT')\n",
    "    daily_lh_var = neon_dat.EFLX_LH_TOT.groupby('time.dayofyear').var().to_dataset(name='EFLX_LH_TOTvar')\n",
    "    daily_sh = neon_dat.FSH.groupby('time.dayofyear').mean().to_dataset(name='FSH')\n",
    "    daily_sh_var = neon_dat.FSH.groupby('time.dayofyear').var().to_dataset(name='FSHvar')\n",
    "\n",
    "    out = xr.merge([daily_gpp, daily_gpp_var, daily_lh, daily_lh_var, daily_sh, daily_sh_var])\n",
    "\n",
    "    return out"
   ]
  },
  {
   "cell_type": "code",
   "execution_count": 7,
   "id": "fdbd7f9c-4bfa-4dc0-8aab-d96f4ad656b0",
   "metadata": {},
   "outputs": [],
   "source": [
    "def round_up(n, decimals=0):\n",
    "    multiplier = 10**decimals\n",
    "    return math.ceil(n * multiplier) / multiplier\n",
    "\n",
    "\n",
    "def truncate(n, decimals=0):\n",
    "    multiplier = 10**decimals\n",
    "    return int(n * multiplier) / multiplier"
   ]
  },
  {
   "cell_type": "code",
   "execution_count": 8,
   "id": "b5b1090a-66cd-463e-9c92-a75e74702671",
   "metadata": {},
   "outputs": [],
   "source": [
    "def sensitivity_analysis(emulator, param_names, var, update_vars=None, plot_oaat=True):\n",
    "    \n",
    "    problem, fast_sample = emf.create_fast_sample(param_names, update_vars)\n",
    "    \n",
    "    sens_df = emf.fourier_sensitivity(emulator, problem, fast_sample, update_vars)\n",
    "    sens_df['var'] = var\n",
    "\n",
    "    emf.plot_fourier_sensitivity(sens_df, '')\n",
    "    if plot_oaat:\n",
    "        oaat_df = emf.plot_oaat_sens(param_names, emulator)\n",
    "        oaat_df['var'] = var\n",
    "    else:\n",
    "        oaat_df = None\n",
    "    \n",
    "    return sens_df, oaat_df"
   ]
  },
  {
   "cell_type": "code",
   "execution_count": 9,
   "id": "dec013ad-89d8-44b2-bf88-0f7892fd6862",
   "metadata": {},
   "outputs": [],
   "source": [
    "def sample_emulators(emulator, param_names, n_samp, obs_mean, obs_var, label, units, update_vars=None):\n",
    "    \n",
    "    # get a random sample\n",
    "    sample = get_random_params(len(param_names), n_samp)\n",
    "    \n",
    "    # update the sample if we are updating\n",
    "    if update_vars is not None:\n",
    "        sample = emf.update_sample(sample, update_vars, param_names)\n",
    "    \n",
    "    sample_df = pd.DataFrame(sample)\n",
    "    sample_df.columns = param_names\n",
    "\n",
    "    # predict sample\n",
    "    pred_sampled, pred_sampled_var = emulator.predict(sample)\n",
    "\n",
    "    plot_emulated_sample(pred_sampled, obs_mean, obs_var, label, units)\n",
    "\n",
    "    # calculate implausibility metric\n",
    "    implaus = emf.implausibility_metric(pred_sampled, obs_mean, pred_sampled_var, obs_var)\n",
    "    sample_df[f'{label}_implausibility'] = implaus\n",
    "\n",
    "    return sample_df"
   ]
  },
  {
   "cell_type": "code",
   "execution_count": 10,
   "id": "309412ff-81e8-4349-b7b5-68b4d46afb86",
   "metadata": {},
   "outputs": [],
   "source": [
    "def plot_emulated_sample(pred_sampled, obs_mean, obs_var, label, units):\n",
    "    \n",
    "    plt.figure(figsize=(7, 5))\n",
    "    ax = plt.subplot(111)\n",
    "    ax.spines[\"top\"].set_visible(False)\n",
    "    ax.spines[\"right\"].set_visible(False)\n",
    "    ax.get_xaxis().tick_bottom()\n",
    "    ax.get_yaxis().tick_left()\n",
    "    plt.xticks(fontsize=11)\n",
    "\n",
    "    my_hist, _ = np.histogram(pred_sampled, bins=40)\n",
    "    maxv = my_hist.max()\n",
    "    plt.xlabel(f\"Emulated {label} ({units})\", fontsize=12)\n",
    "    plt.ylabel(\"Count\", fontsize=12)\n",
    "    plt.hist(pred_sampled, fc=\"darkgray\", bins=40)\n",
    "    ax.add_patch(Rectangle((obs_mean - np.sqrt(obs_var), 0), 2*np.sqrt(obs_var), maxv,\n",
    "                        facecolor='red', alpha=0.4))\n",
    "    ax.axvline(x=obs_mean, ymin=0.0, ymax=maxv, color='r')"
   ]
  },
  {
   "cell_type": "code",
   "execution_count": 11,
   "id": "8686330a-ec84-4fc3-b1d1-3959b5992916",
   "metadata": {},
   "outputs": [],
   "source": [
    "def choose_params(sample_df, sens_df, vars, implausibility_tol, sens_tol, diff_tol=0.5):\n",
    "\n",
    "    # subset out anything over implausibility tolerance\n",
    "    implaus_vars = [f\"{var}_implausibility\" for var in vars]\n",
    "    sample_df['implaus_sum'] = emf.calculate_implaus_sum(sample_df, implaus_vars)\n",
    "\n",
    "    implaus_diff = np.max(sample_df.implaus_sum) - np.min(sample_df.implaus_sum)\n",
    "    if implaus_diff <= diff_tol:\n",
    "       return None\n",
    "    \n",
    "    sample_sub = emf.subset_sample(sample_df, implaus_vars, implausibility_tol)\n",
    "    \n",
    "    # grab only the sensitive parameters\n",
    "    sensitive_pars = emf.find_sensitive_parameters(sens_df, vars, sens_tol)\n",
    "\n",
    "    if sample_sub.shape[0] > 0 and len(sensitive_pars) > 0:\n",
    "        best_sample = emf.find_best_parameter_sets(sample_sub)\n",
    "        sample_out = best_sample.loc[:, sensitive_pars]\n",
    "    \n",
    "        return sample_out.reset_index(drop=True)\n",
    "    else:\n",
    "        return None"
   ]
  },
  {
   "cell_type": "markdown",
   "id": "54751c32-d46d-4159-b4ca-f2f481748d2f",
   "metadata": {},
   "source": [
    "## Read In\n",
    "Read in our observations, ensemble dataset, and latin hypercube key"
   ]
  },
  {
   "cell_type": "code",
   "execution_count": 12,
   "id": "eaf3e931-7c0d-4470-b404-887fbbe1701b",
   "metadata": {},
   "outputs": [],
   "source": [
    "# observations\n",
    "obs_dir = \"/glade/work/afoster/NEON_calibration/NEON_eval_files\"\n",
    "neon_dat = get_neon_obs(obs_dir, 'BONA')"
   ]
  },
  {
   "cell_type": "code",
   "execution_count": 16,
   "id": "83d5370c-1ad5-4106-aed9-645a7d2883ac",
   "metadata": {},
   "outputs": [],
   "source": [
    "# latin hypercube key\n",
    "lhckey = '/glade/work/afoster/NEON_calibration/lh_key.csv'\n",
    "df = pd.read_csv(lhckey)\n",
    "ppe_params = df.drop(columns=['ensemble'])\n",
    "num_params = len(ppe_params.columns)\n",
    "param_names = ppe_params.columns\n",
    "n_test = 50\n",
    "n_samp = 10000"
   ]
  },
  {
   "cell_type": "code",
   "execution_count": 14,
   "id": "017797aa-8895-43a8-9516-9d57440ba8f7",
   "metadata": {},
   "outputs": [],
   "source": [
    "top_dir = '/glade/work/afoster/NEON_calibration/BONA_hist_2021'\n",
    "files = sorted(glob.glob(top_dir + \"/\" + \"NEON_basecase_BONA_FATES_LH*.nc\"))"
   ]
  },
  {
   "cell_type": "code",
   "execution_count": 15,
   "id": "be85582d-80db-4679-9ec9-6e189bafec3a",
   "metadata": {},
   "outputs": [],
   "source": [
    "ds = xr.open_mfdataset(files, combine='nested', concat_dim='ensemble', \n",
    "                       parallel=True, chunks = {'time': 60, 'ensemble': 250})\n",
    "ds = ds.isel(lndgrid=0)"
   ]
  },
  {
   "cell_type": "code",
   "execution_count": 17,
   "id": "9d72c6be-61aa-4a82-a14d-14b82b3ae17d",
   "metadata": {},
   "outputs": [],
   "source": [
    "fates_daily_gpp = ds.FATES_GPP.groupby('time.dayofyear').mean()\n",
    "fates_daily_var = ds.FATES_GPP.groupby('time.dayofyear').var()"
   ]
  },
  {
   "cell_type": "code",
   "execution_count": 18,
   "id": "33384a1d-b179-44f0-847e-3aa397cdea3c",
   "metadata": {},
   "outputs": [],
   "source": [
    "fates_daily_mean = fates_daily_gpp.mean(dim='ensemble')\n",
    "fates_daily_varmean = fates_daily_var.mean(dim='ensemble')\n",
    "fates_daily_varsd = np.sqrt(fates_daily_varmean)"
   ]
  },
  {
   "cell_type": "markdown",
   "id": "a616a8c4-e375-4e43-b004-092528e9ff9a",
   "metadata": {},
   "source": [
    "## Check Out Data"
   ]
  },
  {
   "cell_type": "code",
   "execution_count": null,
   "id": "930ecffc-b32b-485e-8217-c6da6b2ca3d8",
   "metadata": {},
   "outputs": [],
   "source": [
    "# fig, ax = plt.subplots(figsize=(8, 4))\n",
    "# ax.plot(neon_dat.dayofyear, neon_dat.GPP, color='blue')\n",
    "# ax.fill_between(neon_dat.dayofyear, neon_dat.GPP - np.sqrt(neon_dat.GPPvar), neon_dat.GPP + np.sqrt(neon_dat.GPPvar), color='blue', alpha=0.2)\n",
    "\n",
    "# ax.plot(fates_daily_mean.dayofyear, fates_daily_mean, color='green')\n",
    "# ax.fill_between(fates_daily_mean.dayofyear, fates_daily_mean - fates_daily_varsd, fates_daily_mean + fates_daily_varsd, color='green', alpha=0.2)"
   ]
  },
  {
   "cell_type": "code",
   "execution_count": 19,
   "id": "74d3da7c-d776-4557-8ec6-aca6b9dad5dd",
   "metadata": {},
   "outputs": [],
   "source": [
    "# create some data to emulate\n",
    "gpp_sum = fates_daily_gpp.sum(dim='dayofyear')\n",
    "\n",
    "# obserations\n",
    "gpp_sum_obs = neon_dat.GPP.sum()\n",
    "#gpp_var_obs = bona_obs.GPP.groupby('time.year').sum().var(dim='year').values"
   ]
  },
  {
   "cell_type": "code",
   "execution_count": 20,
   "id": "79497430-fafe-44fc-b6fe-bd7e2e14a90a",
   "metadata": {},
   "outputs": [
    {
     "data": {
      "image/png": "[encoded data removed]",
      "text/plain": [
       "<Figure size 700x500 with 1 Axes>"
      ]
     },
     "metadata": {},
     "output_type": "display_data"
    }
   ],
   "source": [
    "plot_histogram(gpp_sum, gpp_sum_obs, 'Annual GPP', 'gC/m2')"
   ]
  },
  {
   "cell_type": "markdown",
   "id": "639b0972-b0bf-44c9-a548-72305c67043b",
   "metadata": {},
   "source": [
    "## Train and Test Emulators"
   ]
  },
  {
   "cell_type": "markdown",
   "id": "b341b003-c77e-474c-b55d-7f5deaef7c1f",
   "metadata": {},
   "source": [
    "### First Train and Test an Emulator"
   ]
  },
  {
   "cell_type": "code",
   "execution_count": null,
   "id": "ae6baf47-aee2-4d3b-99a6-2d3684b08fd6",
   "metadata": {},
   "outputs": [],
   "source": [
    "# train\n",
    "X_test, X_train, y_test, y_train = split_dataset(gpp_sum, ppe_params, n_test)\n",
    "gpp_sum_em = tr.make_emulator(num_params, X_train, y_train)"
   ]
  },
  {
   "cell_type": "code",
   "execution_count": null,
   "id": "c63010f0-1d27-491e-9a60-3e362027d70e",
   "metadata": {},
   "outputs": [],
   "source": [
    "# test it\n",
    "gpp_sum_em_validation = tr.test_emulator(gpp_sum_em, X_test, y_test, \"FATES_GPP\")\n",
    "tr.plot_emulator_validation(gpp_sum_em_validation, \"FATES_GPP\", \"gC/m2\", \"\")"
   ]
  },
  {
   "cell_type": "markdown",
   "id": "c013be4f-a727-4078-9d9f-43c21901154d",
   "metadata": {},
   "source": [
    "### Do Some Initial Testing"
   ]
  },
  {
   "cell_type": "code",
   "execution_count": null,
   "id": "2743666e-f7ea-494f-9ba5-c2314a4fb699",
   "metadata": {},
   "outputs": [],
   "source": [
    "## Sensitivity Analyses\n",
    "sens_df, oaat_df = sensitivity_analysis(gpp_sum_em, param_names, 'GPP')"
   ]
  },
  {
   "cell_type": "code",
   "execution_count": null,
   "id": "9c4a847a-58da-4798-b99a-bfc953ad8a18",
   "metadata": {},
   "outputs": [],
   "source": []
  },
  {
   "cell_type": "code",
   "execution_count": null,
   "id": "d1ac2d84-9952-4d39-94d8-af447df7b517",
   "metadata": {},
   "outputs": [],
   "source": [
    "# Sample Emulator\n",
    "sample_df = sample_emulators(gpp_sum_em, param_names, n_samp,\n",
    "                             gpp_sum_obs, gpp_var_obs, 'GPP', 'gC/m2')"
   ]
  },
  {
   "cell_type": "markdown",
   "id": "e14e3d66-f662-4900-a9d8-fff3c09ddebe",
   "metadata": {},
   "source": [
    "## Calibrate"
   ]
  },
  {
   "cell_type": "code",
   "execution_count": null,
   "id": "2293dd70-3aae-4e72-be80-3dc3e2f21fdd",
   "metadata": {},
   "outputs": [],
   "source": [
    "implausibility_tol = 1.0\n",
    "sens_tol = 0.01"
   ]
  },
  {
   "cell_type": "markdown",
   "id": "51bfc67f-e50a-4234-aab0-247d8ef59c5b",
   "metadata": {},
   "source": [
    "## WAVE ONE"
   ]
  },
  {
   "cell_type": "code",
   "execution_count": null,
   "id": "f4b445d2-6da5-4d24-8d5f-e4390d9d338a",
   "metadata": {},
   "outputs": [],
   "source": [
    "best_sample = choose_params(sample_df, sens_df, ['GPP'], implausibility_tol, sens_tol)\n",
    "best_sample"
   ]
  },
  {
   "cell_type": "code",
   "execution_count": null,
   "id": "b8915d44-b942-4fdf-ae33-737689493fa9",
   "metadata": {},
   "outputs": [],
   "source": [
    "update_vars = best_sample"
   ]
  },
  {
   "cell_type": "code",
   "execution_count": null,
   "id": "a03c552c-8fda-4ada-b93f-65595c14f085",
   "metadata": {},
   "outputs": [],
   "source": [
    "sens_df, _ = sensitivity_analysis(gpp_sum_em, param_names, 'GPP', update_vars=update_vars, plot_oaat=False)\n",
    "sample_df = sample_emulators(gpp_sum_em, param_names, n_samp, gpp_sum_obs, gpp_var_obs, 'GPP', 'gC/m2', update_vars=update_vars)"
   ]
  },
  {
   "cell_type": "code",
   "execution_count": null,
   "id": "6d20f68e-f10e-4706-924f-49bf333a5daa",
   "metadata": {},
   "outputs": [],
   "source": [
    "best_sample = choose_params(sample_df, sens_df, ['GPP'], implausibility_tol, sens_tol, diff_tol=0.1)"
   ]
  },
  {
   "cell_type": "code",
   "execution_count": null,
   "id": "a6c71b8b-8bb3-419e-9bdc-fa76403071f4",
   "metadata": {},
   "outputs": [],
   "source": [
    "best_sample"
   ]
  },
  {
   "cell_type": "code",
   "execution_count": null,
   "id": "d3a6192c-39a8-4129-984e-dc25a6741b1a",
   "metadata": {},
   "outputs": [],
   "source": [
    "update_vars = pd.concat([update_vars, best_sample], axis=1)"
   ]
  },
  {
   "cell_type": "markdown",
   "id": "4b1fdf6f-9efe-4cef-a1ee-f6b7bed6fee2",
   "metadata": {},
   "source": [
    "## WAVE TWO"
   ]
  },
  {
   "cell_type": "code",
   "execution_count": null,
   "id": "a9b6ea2d-fdf5-44e1-9882-5afe56c4ffc6",
   "metadata": {},
   "outputs": [],
   "source": [
    "sens_df, _ = sensitivity_analysis(gpp_sum_em, param_names, 'GPP', update_vars=update_vars, plot_oaat=False)\n",
    "sample_df = sample_emulators(gpp_sum_em, param_names, n_samp, gpp_sum_obs, gpp_var_obs, 'GPP', 'gC/m2', update_vars=update_vars)"
   ]
  },
  {
   "cell_type": "code",
   "execution_count": null,
   "id": "20aff001-b6bf-4fec-9b8b-224cc286f9c6",
   "metadata": {},
   "outputs": [],
   "source": [
    "best_sample = choose_params(sample_df, sens_df, ['GPP'], implausibility_tol, sens_tol, diff_tol=0.1)"
   ]
  },
  {
   "cell_type": "code",
   "execution_count": null,
   "id": "c5d7c8d2-4c6d-4524-9425-0d7dfd932053",
   "metadata": {},
   "outputs": [],
   "source": [
    "best_sample"
   ]
  },
  {
   "cell_type": "code",
   "execution_count": null,
   "id": "73e3b954-7724-4dc4-b466-3f8624dd7e88",
   "metadata": {},
   "outputs": [],
   "source": []
  }
 ],
 "metadata": {
  "kernelspec": {
   "display_name": "Python [conda env:fates_calibration]",
   "language": "python",
   "name": "conda-env-fates_calibration-py"
  },
  "language_info": {
   "codemirror_mode": {
    "name": "ipython",
    "version": 3
   },
   "file_extension": ".py",
   "mimetype": "text/x-python",
   "name": "python",
   "nbconvert_exporter": "python",
   "pygments_lexer": "ipython3",
   "version": "3.11.10"
  }
 },
 "nbformat": 4,
 "nbformat_minor": 5
}
