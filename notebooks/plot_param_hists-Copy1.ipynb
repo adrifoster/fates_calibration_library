{
 "cells": [
  {
   "cell_type": "code",
   "execution_count": 1,
   "id": "40955dc9-0d3b-4bb8-9c9f-65b9012a7c29",
   "metadata": {},
   "outputs": [
    {
     "name": "stderr",
     "output_type": "stream",
     "text": [
      "2025-01-10 10:29:24.021059: I tensorflow/core/util/port.cc:110] oneDNN custom operations are on. You may see slightly different numerical results due to floating-point round-off errors from different computation orders. To turn them off, set the environment variable `TF_ENABLE_ONEDNN_OPTS=0`.\n",
      "2025-01-10 10:29:25.436870: I tensorflow/tsl/cuda/cudart_stub.cc:28] Could not find cuda drivers on your machine, GPU will not be used.\n",
      "2025-01-10 10:29:26.972665: I tensorflow/tsl/cuda/cudart_stub.cc:28] Could not find cuda drivers on your machine, GPU will not be used.\n",
      "2025-01-10 10:29:26.973858: I tensorflow/core/platform/cpu_feature_guard.cc:182] This TensorFlow binary is optimized to use available CPU instructions in performance-critical operations.\n",
      "To enable the following instructions: AVX2 AVX512F AVX512_VNNI FMA, in other operations, rebuild TensorFlow with the appropriate compiler flags.\n",
      "2025-01-10 10:29:41.933298: W tensorflow/compiler/tf2tensorrt/utils/py_utils.cc:38] TF-TRT Warning: Could not find TensorRT\n"
     ]
    }
   ],
   "source": [
    "import pandas as pd\n",
    "import os\n",
    "import numpy as np\n",
    "import seaborn as sns\n",
    "import matplotlib.pyplot as plt\n",
    "import xarray as xr\n",
    "from fates_calibration.FATES_calibration_constants import FATES_PFT_IDS, FATES_INDEX\n",
    "import fates_calibration.emulation_functions as emf\n",
    "from fates_calibration.FATES_calibration_constants import OBS_MODEL_VARS, VAR_UNITS\n",
    "from matplotlib.patches import Rectangle"
   ]
  },
  {
   "cell_type": "code",
   "execution_count": 2,
   "id": "91edd63b-5253-4f2b-907e-5660bd3b30e1",
   "metadata": {},
   "outputs": [],
   "source": [
    "def plot_parameter_hists(sample, param_list, default_param_data):\n",
    "    \n",
    "    pars = [par for par in sample.columns if par != 'wave']\n",
    "    \n",
    "    plt.figure(figsize=[18, 16])\n",
    "    for i, par in enumerate(pars):\n",
    "        p = get_default_value(par, param_list, default_param_data)\n",
    "        ax = plt.subplot(7, 5, i + 1)\n",
    "        ax.hist(sample[par])\n",
    "        ax.axvline(x=p, color='r', linestyle='-')\n",
    "        ax.set_xlabel(par)\n",
    "        ax.set_xlim(0, 1)\n",
    "    plt.tight_layout()\n",
    "\n",
    "def get_param_samples(sample_dir):\n",
    "    \n",
    "    files = sorted([os.path.join(sample_dir, file) for file in os.listdir(sample_dir) if file.endswith(\".csv\")])\n",
    "    sample_dfs = []\n",
    "    for file in files:\n",
    "        df = pd.read_csv(file, index_col=[0])\n",
    "        sample_dfs.append(df)\n",
    "    sample_df = pd.concat(sample_dfs)\n",
    "    sample_df = sample_df.drop(columns=['wave'])\n",
    "\n",
    "    return sample_df\n",
    "\n",
    "def get_default_pars(lhckey, in_pars):\n",
    "    \n",
    "    lhkey_df = pd.read_csv(lhckey)\n",
    "    lhkey_df = lhkey_df.drop(columns=['ensemble'])\n",
    "    param_names = lhkey_df.columns\n",
    "\n",
    "    default_pars = [par for par in param_names if par not in in_pars]\n",
    "\n",
    "    return default_pars\n",
    "    \n",
    "def get_param_value(change_str, default_value, param_list_file,\n",
    "                    parameter, type):\n",
    "    \n",
    "    if change_str == 'pft':\n",
    "        pft_values = pd.read_excel(param_list_file,\n",
    "                                   parameter.replace(\"fates_\", \"\"))\n",
    "        param_value = pft_values[type].values\n",
    "    \n",
    "    elif 'percent' in change_str:\n",
    "        percent_change = get_percentage_change(change_str)\n",
    "        if type == 'param_min':\n",
    "            param_value = default_value - np.abs(default_value*(percent_change/100.0))\n",
    "        else:\n",
    "            param_value = default_value + np.abs(default_value*(percent_change/100.0))\n",
    "    else:\n",
    "        numeric_value = float(change_str)\n",
    "        if default_value.size == 1:\n",
    "            param_value = numeric_value\n",
    "        else:\n",
    "            param_value = np.full_like(default_value, numeric_value)\n",
    "\n",
    "    if default_value.size == 1:\n",
    "        if default_value == -999.9:\n",
    "            param_value = -999.9\n",
    "    else:\n",
    "        param_value[default_value == -999.9] = -999.9\n",
    "\n",
    "    return param_value\n",
    "    \n",
    "def get_percentage_change(param_change):\n",
    "    return float(param_change.replace('percent', ''))\n",
    "\n",
    "def unnormalize(value, min_value, max_value):\n",
    "    return (max_value - min_value)*value + min_value\n",
    "    \n",
    "def normalize(value, min_value, max_value):\n",
    "    return (value - min_value)/(max_value - min_value)\n",
    "\n",
    "def get_default_value(parameter, param_list, default_param_data):\n",
    "\n",
    "    if parameter == 'smpsc_delta':\n",
    "        default_value = np.repeat(189000, 16)\n",
    "    else:\n",
    "        default_value = default_param_data[parameter].values\n",
    "    \n",
    "    sub = param_list[param_list.fates_parameter_name == parameter]\n",
    "    change_str_min = str(sub['param_min'].values[0])\n",
    "    change_str_max = str(sub['param_max'].values[0])\n",
    "    \n",
    "    min_value = get_param_value(change_str_min, default_value,\n",
    "                                  param_list_file, parameter, 'param_min')\n",
    "    max_value = get_param_value(change_str_max, default_value,\n",
    "                                  param_list_file, parameter, 'param_max')\n",
    "    \n",
    "    rescaled_default = normalize(default_value, min_value, max_value)\n",
    "    if parameter == 'fates_leaf_vcmax25top':\n",
    "        rescaled_default_pft = rescaled_default[0, pft_index]\n",
    "    else:\n",
    "        rescaled_default_pft = rescaled_default[pft_index]\n",
    "\n",
    "    return rescaled_default_pft\n",
    "\n",
    "def get_rescaled_value(value, parameter, param_list, default_param_data):\n",
    "\n",
    "    if parameter == 'smpsc_delta':\n",
    "        default_value = np.repeat(189000, 16)\n",
    "    else:\n",
    "        default_value = default_param_data[parameter].values\n",
    "    \n",
    "    sub = param_list[param_list.fates_parameter_name == parameter]\n",
    "    change_str_min = str(sub['param_min'].values[0])\n",
    "    change_str_max = str(sub['param_max'].values[0])\n",
    "    \n",
    "    min_value = get_param_value(change_str_min, default_value,\n",
    "                                  param_list_file, parameter, 'param_min')\n",
    "    max_value = get_param_value(change_str_max, default_value,\n",
    "                                  param_list_file, parameter, 'param_max')\n",
    "    \n",
    "    rescaled_value = unnormalize(value, min_value, max_value)\n",
    "    if parameter == 'fates_leaf_vcmax25top':\n",
    "        rescaled_value_pft = rescaled_value[0, pft_index]\n",
    "    else:\n",
    "        rescaled_value_pft = rescaled_value[pft_index]\n",
    "\n",
    "    return rescaled_value_pft\n",
    "\n",
    "def choose_pars(sample_df, var_choose, param_list, default_param_data):\n",
    "    var_median = sample_df[var_choose].median()\n",
    "    sample_df['var_diff'] = np.abs(sample_df[var_choose] - var_median)\n",
    "    choose_index = np.argmin(sample_df.var_diff)\n",
    "    sample_df = sample_df.drop(columns=['var_diff'])\n",
    "    \n",
    "    final_pars_scaled = sample_df.iloc[choose_index]\n",
    "    pars = sample_df.columns\n",
    "    \n",
    "    final_pars = []\n",
    "    for i, parval in enumerate(final_pars_scaled):\n",
    "        final_pars.append(get_rescaled_value(parval, pars[i], param_list, default_param_data))\n",
    "    \n",
    "    final_pars_df = pd.DataFrame({'parameter': pars, 'value': final_pars})\n",
    "    return final_pars_df"
   ]
  },
  {
   "cell_type": "code",
   "execution_count": 3,
   "id": "4b87b80a-d831-4ce1-a48e-360facae1601",
   "metadata": {},
   "outputs": [],
   "source": [
    "param_dir = '/glade/work/afoster/FATES_calibration/parameter_files'\n",
    "fates_param_name = \"fates_params_default_sci.1.78.3._api.36.1.0.nc\"\n",
    "param_list_name = \"param_list_sci.1.78.3_api.36.1.0.xls\"\n",
    "\n",
    "default_param_file = os.path.join(param_dir, fates_param_name)\n",
    "param_list_file = os.path.join(param_dir, param_list_name)\n",
    "\n",
    "default_param_data = xr.open_dataset(default_param_file, decode_cf=False)\n",
    "param_list = pd.read_excel(param_list_file, sheet_name=0)"
   ]
  },
  {
   "cell_type": "code",
   "execution_count": 13,
   "id": "9381cbf3-fe18-43f7-9f20-816d86ec6a99",
   "metadata": {},
   "outputs": [
    {
     "data": {
      "text/plain": [
       "['broadleaf_evergreen_tropical_tree',\n",
       " 'needleleaf_evergreen_extratrop_tree',\n",
       " 'needleleaf_colddecid_extratrop_tree',\n",
       " 'broadleaf_evergreen_extratrop_tree',\n",
       " 'broadleaf_hydrodecid_tropical_tree',\n",
       " 'broadleaf_colddecid_extratrop_tree',\n",
       " 'broadleaf_evergreen_extratrop_shrub',\n",
       " 'broadleaf_colddecid_extratrop_shrub',\n",
       " 'broadleaf_evergreen_arctic_shrub',\n",
       " 'broadleaf_colddecid_arctic_shrub',\n",
       " 'arctic_c3_grass',\n",
       " 'cool_c3_grass',\n",
       " 'c4_grass',\n",
       " 'c3_crop',\n",
       " 'c3_irrigated']"
      ]
     },
     "execution_count": 13,
     "metadata": {},
     "output_type": "execute_result"
    }
   ],
   "source": [
    "pfts = list(FATES_PFT_IDS.keys())\n",
    "pfts"
   ]
  },
  {
   "cell_type": "code",
   "execution_count": 14,
   "id": "a52a70ca-4812-4598-9993-1bc77a56dd34",
   "metadata": {},
   "outputs": [],
   "source": [
    "pft = 'broadleaf_evergreen_tropical_tree'\n",
    "pft_id = FATES_PFT_IDS[pft]\n",
    "pft_index = FATES_INDEX[pft] - 1"
   ]
  },
  {
   "cell_type": "code",
   "execution_count": 15,
   "id": "e8800f85-62e0-472f-b4c6-53db12672da7",
   "metadata": {},
   "outputs": [],
   "source": [
    "lhckey = '/glade/work/afoster/FATES_calibration/parameter_files/fates_param_lh/fates_lh_key.csv'\n",
    "sample_dir = f\"/glade/u/home/afoster/FATES_Calibration/pft_output_gs1/{pft_id}_outputs/samples\""
   ]
  },
  {
   "cell_type": "code",
   "execution_count": 16,
   "id": "c651729e-8024-48c1-accd-2e725a71ffd4",
   "metadata": {},
   "outputs": [],
   "source": [
    "sample_df = get_param_samples(sample_dir)"
   ]
  },
  {
   "cell_type": "code",
   "execution_count": 27,
   "id": "c28a1793-2cb6-4ff0-ba69-0654f2303a04",
   "metadata": {},
   "outputs": [
    {
     "data": {
      "text/plain": [
       "fates_leaf_stomatal_intercept              False\n",
       "fates_leaf_vcmax25top                      False\n",
       "fates_leafn_vert_scaler_coeff2             False\n",
       "fates_rad_leaf_clumping_index              False\n",
       "fates_turb_leaf_diameter                   False\n",
       "fates_leaf_stomatal_slope_medlyn           False\n",
       "fates_leafn_vert_scaler_coeff1             False\n",
       "fates_maintresp_leaf_atkin2017_baserate    False\n",
       "fates_nonhydro_smpso                        True\n",
       "smpsc_delta                                 True\n",
       "dtype: bool"
      ]
     },
     "execution_count": 27,
     "metadata": {},
     "output_type": "execute_result"
    }
   ],
   "source": [
    "sample_df.isna().any()"
   ]
  },
  {
   "cell_type": "code",
   "execution_count": 28,
   "id": "eb136f1e-8d4a-413a-8741-c5f603cf7cd5",
   "metadata": {},
   "outputs": [],
   "source": [
    "sample_df.drop(['fates_nonhydro_smpso', 'smpsc_delta'], axis=1, inplace=True)"
   ]
  },
  {
   "cell_type": "code",
   "execution_count": 29,
   "id": "9520c867-23a3-4d98-b450-7272efd91b0d",
   "metadata": {},
   "outputs": [],
   "source": [
    "pars = sample_df.columns\n",
    "default_pars = get_default_pars(lhckey, pars)"
   ]
  },
  {
   "cell_type": "code",
   "execution_count": 30,
   "id": "0b3ad2cf-8ef2-40cd-abcf-c24fca8b870e",
   "metadata": {},
   "outputs": [
    {
     "data": {
      "image/png": "[encoded data removed]",
      "text/plain": [
       "<Figure size 1800x1600 with 8 Axes>"
      ]
     },
     "metadata": {},
     "output_type": "display_data"
    }
   ],
   "source": [
    "plot_parameter_hists(sample_df, param_list, default_param_data)"
   ]
  },
  {
   "cell_type": "code",
   "execution_count": 31,
   "id": "92ab3975-bb9a-4fa4-b7ed-bbb2dba7f07a",
   "metadata": {},
   "outputs": [
    {
     "data": {
      "text/html": [
       "<style type=\"text/css\">\n",
       "#T_d963c_row0_col0, #T_d963c_row0_col1, #T_d963c_row0_col2, #T_d963c_row0_col3, #T_d963c_row0_col4, #T_d963c_row0_col5, #T_d963c_row0_col6, #T_d963c_row0_col7, #T_d963c_row1_col1, #T_d963c_row1_col2, #T_d963c_row1_col3, #T_d963c_row1_col4, #T_d963c_row1_col5, #T_d963c_row1_col6, #T_d963c_row1_col7, #T_d963c_row2_col2, #T_d963c_row2_col3, #T_d963c_row2_col4, #T_d963c_row2_col5, #T_d963c_row2_col6, #T_d963c_row2_col7, #T_d963c_row3_col3, #T_d963c_row3_col4, #T_d963c_row3_col5, #T_d963c_row3_col6, #T_d963c_row3_col7, #T_d963c_row4_col4, #T_d963c_row4_col5, #T_d963c_row4_col6, #T_d963c_row4_col7, #T_d963c_row5_col5, #T_d963c_row5_col6, #T_d963c_row5_col7, #T_d963c_row6_col6, #T_d963c_row6_col7, #T_d963c_row7_col7 {\n",
       "  background-color: #000000;\n",
       "  color: #f1f1f1;\n",
       "  background-color: #f1f1f1;\n",
       "}\n",
       "#T_d963c_row1_col0 {\n",
       "  background-color: #81a4fb;\n",
       "  color: #f1f1f1;\n",
       "}\n",
       "#T_d963c_row2_col0 {\n",
       "  background-color: #f5c0a7;\n",
       "  color: #000000;\n",
       "}\n",
       "#T_d963c_row2_col1 {\n",
       "  background-color: #92b4fe;\n",
       "  color: #000000;\n",
       "}\n",
       "#T_d963c_row3_col0 {\n",
       "  background-color: #f6bda2;\n",
       "  color: #000000;\n",
       "}\n",
       "#T_d963c_row3_col1 {\n",
       "  background-color: #9dbdff;\n",
       "  color: #000000;\n",
       "}\n",
       "#T_d963c_row3_col2 {\n",
       "  background-color: #c9d7f0;\n",
       "  color: #000000;\n",
       "}\n",
       "#T_d963c_row4_col0 {\n",
       "  background-color: #f1cdba;\n",
       "  color: #000000;\n",
       "}\n",
       "#T_d963c_row4_col1 {\n",
       "  background-color: #96b7ff;\n",
       "  color: #000000;\n",
       "}\n",
       "#T_d963c_row4_col2 {\n",
       "  background-color: #f7ad90;\n",
       "  color: #000000;\n",
       "}\n",
       "#T_d963c_row4_col3, #T_d963c_row7_col5 {\n",
       "  background-color: #f7bca1;\n",
       "  color: #000000;\n",
       "}\n",
       "#T_d963c_row5_col0 {\n",
       "  background-color: #d7dce3;\n",
       "  color: #000000;\n",
       "}\n",
       "#T_d963c_row5_col1 {\n",
       "  background-color: #aec9fc;\n",
       "  color: #000000;\n",
       "}\n",
       "#T_d963c_row5_col2 {\n",
       "  background-color: #c5d6f2;\n",
       "  color: #000000;\n",
       "}\n",
       "#T_d963c_row5_col3 {\n",
       "  background-color: #ead5c9;\n",
       "  color: #000000;\n",
       "}\n",
       "#T_d963c_row5_col4 {\n",
       "  background-color: #f2c9b4;\n",
       "  color: #000000;\n",
       "}\n",
       "#T_d963c_row6_col0 {\n",
       "  background-color: #d3dbe7;\n",
       "  color: #000000;\n",
       "}\n",
       "#T_d963c_row6_col1 {\n",
       "  background-color: #f6bea4;\n",
       "  color: #000000;\n",
       "}\n",
       "#T_d963c_row6_col2 {\n",
       "  background-color: #f7b79b;\n",
       "  color: #000000;\n",
       "}\n",
       "#T_d963c_row6_col3 {\n",
       "  background-color: #d4dbe6;\n",
       "  color: #000000;\n",
       "}\n",
       "#T_d963c_row6_col4 {\n",
       "  background-color: #dddcdc;\n",
       "  color: #000000;\n",
       "}\n",
       "#T_d963c_row6_col5 {\n",
       "  background-color: #cad8ef;\n",
       "  color: #000000;\n",
       "}\n",
       "#T_d963c_row7_col0 {\n",
       "  background-color: #cf453c;\n",
       "  color: #f1f1f1;\n",
       "}\n",
       "#T_d963c_row7_col1 {\n",
       "  background-color: #9abbff;\n",
       "  color: #000000;\n",
       "}\n",
       "#T_d963c_row7_col2, #T_d963c_row7_col6 {\n",
       "  background-color: #dadce0;\n",
       "  color: #000000;\n",
       "}\n",
       "#T_d963c_row7_col3 {\n",
       "  background-color: #f4c6af;\n",
       "  color: #000000;\n",
       "}\n",
       "#T_d963c_row7_col4 {\n",
       "  background-color: #dbdcde;\n",
       "  color: #000000;\n",
       "}\n",
       "</style>\n",
       "<table id=\"T_d963c\">\n",
       "  <thead>\n",
       "    <tr>\n",
       "      <th class=\"blank level0\" >&nbsp;</th>\n",
       "      <th id=\"T_d963c_level0_col0\" class=\"col_heading level0 col0\" >fates_leaf_stomatal_intercept</th>\n",
       "      <th id=\"T_d963c_level0_col1\" class=\"col_heading level0 col1\" >fates_leaf_vcmax25top</th>\n",
       "      <th id=\"T_d963c_level0_col2\" class=\"col_heading level0 col2\" >fates_leafn_vert_scaler_coeff2</th>\n",
       "      <th id=\"T_d963c_level0_col3\" class=\"col_heading level0 col3\" >fates_rad_leaf_clumping_index</th>\n",
       "      <th id=\"T_d963c_level0_col4\" class=\"col_heading level0 col4\" >fates_turb_leaf_diameter</th>\n",
       "      <th id=\"T_d963c_level0_col5\" class=\"col_heading level0 col5\" >fates_leaf_stomatal_slope_medlyn</th>\n",
       "      <th id=\"T_d963c_level0_col6\" class=\"col_heading level0 col6\" >fates_leafn_vert_scaler_coeff1</th>\n",
       "      <th id=\"T_d963c_level0_col7\" class=\"col_heading level0 col7\" >fates_maintresp_leaf_atkin2017_baserate</th>\n",
       "    </tr>\n",
       "  </thead>\n",
       "  <tbody>\n",
       "    <tr>\n",
       "      <th id=\"T_d963c_level0_row0\" class=\"row_heading level0 row0\" >fates_leaf_stomatal_intercept</th>\n",
       "      <td id=\"T_d963c_row0_col0\" class=\"data row0 col0\" >nan</td>\n",
       "      <td id=\"T_d963c_row0_col1\" class=\"data row0 col1\" >nan</td>\n",
       "      <td id=\"T_d963c_row0_col2\" class=\"data row0 col2\" >nan</td>\n",
       "      <td id=\"T_d963c_row0_col3\" class=\"data row0 col3\" >nan</td>\n",
       "      <td id=\"T_d963c_row0_col4\" class=\"data row0 col4\" >nan</td>\n",
       "      <td id=\"T_d963c_row0_col5\" class=\"data row0 col5\" >nan</td>\n",
       "      <td id=\"T_d963c_row0_col6\" class=\"data row0 col6\" >nan</td>\n",
       "      <td id=\"T_d963c_row0_col7\" class=\"data row0 col7\" >nan</td>\n",
       "    </tr>\n",
       "    <tr>\n",
       "      <th id=\"T_d963c_level0_row1\" class=\"row_heading level0 row1\" >fates_leaf_vcmax25top</th>\n",
       "      <td id=\"T_d963c_row1_col0\" class=\"data row1 col0\" >-0.57</td>\n",
       "      <td id=\"T_d963c_row1_col1\" class=\"data row1 col1\" >nan</td>\n",
       "      <td id=\"T_d963c_row1_col2\" class=\"data row1 col2\" >nan</td>\n",
       "      <td id=\"T_d963c_row1_col3\" class=\"data row1 col3\" >nan</td>\n",
       "      <td id=\"T_d963c_row1_col4\" class=\"data row1 col4\" >nan</td>\n",
       "      <td id=\"T_d963c_row1_col5\" class=\"data row1 col5\" >nan</td>\n",
       "      <td id=\"T_d963c_row1_col6\" class=\"data row1 col6\" >nan</td>\n",
       "      <td id=\"T_d963c_row1_col7\" class=\"data row1 col7\" >nan</td>\n",
       "    </tr>\n",
       "    <tr>\n",
       "      <th id=\"T_d963c_level0_row2\" class=\"row_heading level0 row2\" >fates_leafn_vert_scaler_coeff2</th>\n",
       "      <td id=\"T_d963c_row2_col0\" class=\"data row2 col0\" >0.28</td>\n",
       "      <td id=\"T_d963c_row2_col1\" class=\"data row2 col1\" >-0.47</td>\n",
       "      <td id=\"T_d963c_row2_col2\" class=\"data row2 col2\" >nan</td>\n",
       "      <td id=\"T_d963c_row2_col3\" class=\"data row2 col3\" >nan</td>\n",
       "      <td id=\"T_d963c_row2_col4\" class=\"data row2 col4\" >nan</td>\n",
       "      <td id=\"T_d963c_row2_col5\" class=\"data row2 col5\" >nan</td>\n",
       "      <td id=\"T_d963c_row2_col6\" class=\"data row2 col6\" >nan</td>\n",
       "      <td id=\"T_d963c_row2_col7\" class=\"data row2 col7\" >nan</td>\n",
       "    </tr>\n",
       "    <tr>\n",
       "      <th id=\"T_d963c_level0_row3\" class=\"row_heading level0 row3\" >fates_rad_leaf_clumping_index</th>\n",
       "      <td id=\"T_d963c_row3_col0\" class=\"data row3 col0\" >0.30</td>\n",
       "      <td id=\"T_d963c_row3_col1\" class=\"data row3 col1\" >-0.41</td>\n",
       "      <td id=\"T_d963c_row3_col2\" class=\"data row3 col2\" >-0.14</td>\n",
       "      <td id=\"T_d963c_row3_col3\" class=\"data row3 col3\" >nan</td>\n",
       "      <td id=\"T_d963c_row3_col4\" class=\"data row3 col4\" >nan</td>\n",
       "      <td id=\"T_d963c_row3_col5\" class=\"data row3 col5\" >nan</td>\n",
       "      <td id=\"T_d963c_row3_col6\" class=\"data row3 col6\" >nan</td>\n",
       "      <td id=\"T_d963c_row3_col7\" class=\"data row3 col7\" >nan</td>\n",
       "    </tr>\n",
       "    <tr>\n",
       "      <th id=\"T_d963c_level0_row4\" class=\"row_heading level0 row4\" >fates_turb_leaf_diameter</th>\n",
       "      <td id=\"T_d963c_row4_col0\" class=\"data row4 col0\" >0.18</td>\n",
       "      <td id=\"T_d963c_row4_col1\" class=\"data row4 col1\" >-0.45</td>\n",
       "      <td id=\"T_d963c_row4_col2\" class=\"data row4 col2\" >0.40</td>\n",
       "      <td id=\"T_d963c_row4_col3\" class=\"data row4 col3\" >0.31</td>\n",
       "      <td id=\"T_d963c_row4_col4\" class=\"data row4 col4\" >nan</td>\n",
       "      <td id=\"T_d963c_row4_col5\" class=\"data row4 col5\" >nan</td>\n",
       "      <td id=\"T_d963c_row4_col6\" class=\"data row4 col6\" >nan</td>\n",
       "      <td id=\"T_d963c_row4_col7\" class=\"data row4 col7\" >nan</td>\n",
       "    </tr>\n",
       "    <tr>\n",
       "      <th id=\"T_d963c_level0_row5\" class=\"row_heading level0 row5\" >fates_leaf_stomatal_slope_medlyn</th>\n",
       "      <td id=\"T_d963c_row5_col0\" class=\"data row5 col0\" >-0.04</td>\n",
       "      <td id=\"T_d963c_row5_col1\" class=\"data row5 col1\" >-0.31</td>\n",
       "      <td id=\"T_d963c_row5_col2\" class=\"data row5 col2\" >-0.16</td>\n",
       "      <td id=\"T_d963c_row5_col3\" class=\"data row5 col3\" >0.10</td>\n",
       "      <td id=\"T_d963c_row5_col4\" class=\"data row5 col4\" >0.22</td>\n",
       "      <td id=\"T_d963c_row5_col5\" class=\"data row5 col5\" >nan</td>\n",
       "      <td id=\"T_d963c_row5_col6\" class=\"data row5 col6\" >nan</td>\n",
       "      <td id=\"T_d963c_row5_col7\" class=\"data row5 col7\" >nan</td>\n",
       "    </tr>\n",
       "    <tr>\n",
       "      <th id=\"T_d963c_level0_row6\" class=\"row_heading level0 row6\" >fates_leafn_vert_scaler_coeff1</th>\n",
       "      <td id=\"T_d963c_row6_col0\" class=\"data row6 col0\" >-0.07</td>\n",
       "      <td id=\"T_d963c_row6_col1\" class=\"data row6 col1\" >0.29</td>\n",
       "      <td id=\"T_d963c_row6_col2\" class=\"data row6 col2\" >0.34</td>\n",
       "      <td id=\"T_d963c_row6_col3\" class=\"data row6 col3\" >-0.06</td>\n",
       "      <td id=\"T_d963c_row6_col4\" class=\"data row6 col4\" >0.01</td>\n",
       "      <td id=\"T_d963c_row6_col5\" class=\"data row6 col5\" >-0.13</td>\n",
       "      <td id=\"T_d963c_row6_col6\" class=\"data row6 col6\" >nan</td>\n",
       "      <td id=\"T_d963c_row6_col7\" class=\"data row6 col7\" >nan</td>\n",
       "    </tr>\n",
       "    <tr>\n",
       "      <th id=\"T_d963c_level0_row7\" class=\"row_heading level0 row7\" >fates_maintresp_leaf_atkin2017_baserate</th>\n",
       "      <td id=\"T_d963c_row7_col0\" class=\"data row7 col0\" >0.85</td>\n",
       "      <td id=\"T_d963c_row7_col1\" class=\"data row7 col1\" >-0.43</td>\n",
       "      <td id=\"T_d963c_row7_col2\" class=\"data row7 col2\" >-0.02</td>\n",
       "      <td id=\"T_d963c_row7_col3\" class=\"data row7 col3\" >0.24</td>\n",
       "      <td id=\"T_d963c_row7_col4\" class=\"data row7 col4\" >-0.01</td>\n",
       "      <td id=\"T_d963c_row7_col5\" class=\"data row7 col5\" >0.31</td>\n",
       "      <td id=\"T_d963c_row7_col6\" class=\"data row7 col6\" >-0.02</td>\n",
       "      <td id=\"T_d963c_row7_col7\" class=\"data row7 col7\" >nan</td>\n",
       "    </tr>\n",
       "  </tbody>\n",
       "</table>\n"
      ],
      "text/plain": [
       "<pandas.io.formats.style.Styler at 0x1529646d9c10>"
      ]
     },
     "execution_count": 31,
     "metadata": {},
     "output_type": "execute_result"
    }
   ],
   "source": [
    "corr = sample_df.corr()\n",
    "mask = np.zeros_like(corr, dtype=bool)\n",
    "mask[np.triu_indices_from(mask)] = True\n",
    "corr[mask] = np.nan\n",
    "(corr\n",
    " .style\n",
    " .background_gradient(cmap='coolwarm', axis=None, vmin=-1, vmax=1)\n",
    " .highlight_null(color='#f1f1f1')\n",
    " .format(precision=2))"
   ]
  },
  {
   "cell_type": "code",
   "execution_count": 32,
   "id": "71d53bdb-77bb-459b-b98c-1ee2bf40ac31",
   "metadata": {},
   "outputs": [],
   "source": [
    "var_dat = pd.read_csv('/glade/u/home/afoster/FATES_Calibration/pft_vars_dompft_gs1.csv')\n",
    "emulator_dir = '/glade/u/home/afoster/FATES_Calibration/pft_output_gs1/emulators'\n",
    "vars_pft = var_dat[var_dat.pft == pft].vars.values.tolist()\n",
    "vars = [var.replace('_implausibility', '') for var in vars_pft]\n",
    "emulators = emf.load_all_emulators(pft_id, emulator_dir, vars)"
   ]
  },
  {
   "cell_type": "code",
   "execution_count": 33,
   "id": "b4122619-ebe3-45e6-a626-54560f384076",
   "metadata": {},
   "outputs": [
    {
     "ename": "InvalidArgumentError",
     "evalue": "{{function_node __wrapped__GatherV2_device_/job:localhost/replica:0/task:0/device:CPU:0}} indices[8] = 8 is not in [0, 8) [Op:GatherV2]",
     "output_type": "error",
     "traceback": [
      "\u001b[0;31m---------------------------------------------------------------------------\u001b[0m",
      "\u001b[0;31mInvalidArgumentError\u001b[0m                      Traceback (most recent call last)",
      "Cell \u001b[0;32mIn[33], line 3\u001b[0m\n\u001b[1;32m      1\u001b[0m var \u001b[38;5;241m=\u001b[39m \u001b[38;5;124m'\u001b[39m\u001b[38;5;124mGPP\u001b[39m\u001b[38;5;124m'\u001b[39m\n\u001b[1;32m      2\u001b[0m em \u001b[38;5;241m=\u001b[39m emulators[var]\n\u001b[0;32m----> 3\u001b[0m pred_sampled, pred_sampled_var \u001b[38;5;241m=\u001b[39m \u001b[43mem\u001b[49m\u001b[38;5;241;43m.\u001b[39;49m\u001b[43mpredict\u001b[49m\u001b[43m(\u001b[49m\u001b[43msample_df\u001b[49m\u001b[43m)\u001b[49m\n",
      "File \u001b[0;32m/glade/work/afoster/conda-envs/fates_calibration/lib/python3.11/site-packages/esem/emulator.py:98\u001b[0m, in \u001b[0;36mEmulator.predict\u001b[0;34m(self, x, *args, **kwargs)\u001b[0m\n\u001b[1;32m     95\u001b[0m     x \u001b[38;5;241m=\u001b[39m x\u001b[38;5;241m.\u001b[39mto_numpy()\n\u001b[1;32m     97\u001b[0m \u001b[38;5;66;03m# TODO: Add a warning if .train hasn't been called?\u001b[39;00m\n\u001b[0;32m---> 98\u001b[0m mean, var \u001b[38;5;241m=\u001b[39m \u001b[38;5;28;43mself\u001b[39;49m\u001b[38;5;241;43m.\u001b[39;49m\u001b[43m_predict\u001b[49m\u001b[43m(\u001b[49m\u001b[43mx\u001b[49m\u001b[43m,\u001b[49m\u001b[43m \u001b[49m\u001b[38;5;241;43m*\u001b[39;49m\u001b[43margs\u001b[49m\u001b[43m,\u001b[49m\u001b[43m \u001b[49m\u001b[38;5;241;43m*\u001b[39;49m\u001b[38;5;241;43m*\u001b[39;49m\u001b[43mkwargs\u001b[49m\u001b[43m)\u001b[49m\n\u001b[1;32m    100\u001b[0m \u001b[38;5;28;01mreturn\u001b[39;00m (\u001b[38;5;28mself\u001b[39m\u001b[38;5;241m.\u001b[39mtraining_data\u001b[38;5;241m.\u001b[39mwrap(mean, \u001b[38;5;124m'\u001b[39m\u001b[38;5;124mEmulated \u001b[39m\u001b[38;5;124m'\u001b[39m),\n\u001b[1;32m    101\u001b[0m         \u001b[38;5;28mself\u001b[39m\u001b[38;5;241m.\u001b[39mtraining_data\u001b[38;5;241m.\u001b[39mwrap(var, \u001b[38;5;124m'\u001b[39m\u001b[38;5;124mVariance in emulated \u001b[39m\u001b[38;5;124m'\u001b[39m))\n",
      "File \u001b[0;32m/glade/work/afoster/conda-envs/fates_calibration/lib/python3.11/site-packages/esem/emulator.py:122\u001b[0m, in \u001b[0;36mEmulator._predict\u001b[0;34m(self, x, *args, **kwargs)\u001b[0m\n\u001b[1;32m    104\u001b[0m \u001b[38;5;250m\u001b[39m\u001b[38;5;124;03m\"\"\"\u001b[39;00m\n\u001b[1;32m    105\u001b[0m \u001b[38;5;124;03mThe (internal) predict interface used by e.g., a sampler. It is still in tf but has been post-processed\u001b[39;00m\n\u001b[1;32m    106\u001b[0m \u001b[38;5;124;03mto allow comparison with obs.\u001b[39;00m\n\u001b[0;32m   (...)\u001b[0m\n\u001b[1;32m    119\u001b[0m \u001b[38;5;124;03mEmulated prediction and variance as either np.ndarray or tf.Tensor\u001b[39;00m\n\u001b[1;32m    120\u001b[0m \u001b[38;5;124;03m\"\"\"\u001b[39;00m\n\u001b[1;32m    121\u001b[0m \u001b[38;5;28;01mwith\u001b[39;00m \u001b[38;5;28mself\u001b[39m\u001b[38;5;241m.\u001b[39mtf_device_context:\n\u001b[0;32m--> 122\u001b[0m     mean, var \u001b[38;5;241m=\u001b[39m \u001b[38;5;28;43mself\u001b[39;49m\u001b[38;5;241;43m.\u001b[39;49m\u001b[43mmodel\u001b[49m\u001b[38;5;241;43m.\u001b[39;49m\u001b[43mpredict\u001b[49m\u001b[43m(\u001b[49m\u001b[43mx\u001b[49m\u001b[43m,\u001b[49m\u001b[43m \u001b[49m\u001b[38;5;241;43m*\u001b[39;49m\u001b[43margs\u001b[49m\u001b[43m,\u001b[49m\u001b[43m \u001b[49m\u001b[38;5;241;43m*\u001b[39;49m\u001b[38;5;241;43m*\u001b[39;49m\u001b[43mkwargs\u001b[49m\u001b[43m)\u001b[49m\n\u001b[1;32m    123\u001b[0m \u001b[38;5;66;03m# Left un-nested for readability\u001b[39;00m\n\u001b[1;32m    124\u001b[0m \u001b[38;5;28;01mreturn\u001b[39;00m \u001b[38;5;28mself\u001b[39m\u001b[38;5;241m.\u001b[39mtraining_data\u001b[38;5;241m.\u001b[39mprocess_wrapper(mean, var)\n",
      "File \u001b[0;32m/glade/work/afoster/conda-envs/fates_calibration/lib/python3.11/site-packages/esem/model_adaptor.py:92\u001b[0m, in \u001b[0;36mGPFlowModel.predict\u001b[0;34m(self, *args, **kwargs)\u001b[0m\n\u001b[1;32m     91\u001b[0m \u001b[38;5;28;01mdef\u001b[39;00m \u001b[38;5;21mpredict\u001b[39m(\u001b[38;5;28mself\u001b[39m, \u001b[38;5;241m*\u001b[39margs, \u001b[38;5;241m*\u001b[39m\u001b[38;5;241m*\u001b[39mkwargs):\n\u001b[0;32m---> 92\u001b[0m     \u001b[38;5;28;01mreturn\u001b[39;00m \u001b[38;5;28;43mself\u001b[39;49m\u001b[38;5;241;43m.\u001b[39;49m\u001b[43mmodel\u001b[49m\u001b[38;5;241;43m.\u001b[39;49m\u001b[43mpredict_y\u001b[49m\u001b[43m(\u001b[49m\u001b[38;5;241;43m*\u001b[39;49m\u001b[43margs\u001b[49m\u001b[43m,\u001b[49m\u001b[43m \u001b[49m\u001b[38;5;241;43m*\u001b[39;49m\u001b[38;5;241;43m*\u001b[39;49m\u001b[43mkwargs\u001b[49m\u001b[43m)\u001b[49m\n",
      "File \u001b[0;32m/glade/work/afoster/conda-envs/fates_calibration/lib/python3.11/site-packages/gpflow/models/model.py:220\u001b[0m, in \u001b[0;36mGPModel.predict_y\u001b[0;34m(self, Xnew, full_cov, full_output_cov)\u001b[0m\n\u001b[1;32m    213\u001b[0m \u001b[38;5;28;01mif\u001b[39;00m full_cov \u001b[38;5;129;01mor\u001b[39;00m full_output_cov:\n\u001b[1;32m    214\u001b[0m     \u001b[38;5;66;03m# See https://github.com/GPflow/GPflow/issues/1461\u001b[39;00m\n\u001b[1;32m    215\u001b[0m     \u001b[38;5;28;01mraise\u001b[39;00m \u001b[38;5;167;01mNotImplementedError\u001b[39;00m(\n\u001b[1;32m    216\u001b[0m         \u001b[38;5;124m\"\u001b[39m\u001b[38;5;124mThe predict_y method currently supports only the argument values full_cov=False\u001b[39m\u001b[38;5;124m\"\u001b[39m\n\u001b[1;32m    217\u001b[0m         \u001b[38;5;124m\"\u001b[39m\u001b[38;5;124m and full_output_cov=False\u001b[39m\u001b[38;5;124m\"\u001b[39m\n\u001b[1;32m    218\u001b[0m     )\n\u001b[0;32m--> 220\u001b[0m f_mean, f_var \u001b[38;5;241m=\u001b[39m \u001b[38;5;28;43mself\u001b[39;49m\u001b[38;5;241;43m.\u001b[39;49m\u001b[43mpredict_f\u001b[49m\u001b[43m(\u001b[49m\u001b[43mXnew\u001b[49m\u001b[43m,\u001b[49m\u001b[43m \u001b[49m\u001b[43mfull_cov\u001b[49m\u001b[38;5;241;43m=\u001b[39;49m\u001b[43mfull_cov\u001b[49m\u001b[43m,\u001b[49m\u001b[43m \u001b[49m\u001b[43mfull_output_cov\u001b[49m\u001b[38;5;241;43m=\u001b[39;49m\u001b[43mfull_output_cov\u001b[49m\u001b[43m)\u001b[49m\n\u001b[1;32m    221\u001b[0m \u001b[38;5;28;01mreturn\u001b[39;00m \u001b[38;5;28mself\u001b[39m\u001b[38;5;241m.\u001b[39mlikelihood\u001b[38;5;241m.\u001b[39mpredict_mean_and_var(f_mean, f_var)\n",
      "File \u001b[0;32m/glade/work/afoster/conda-envs/fates_calibration/lib/python3.11/site-packages/gpflow/models/gpr.py:171\u001b[0m, in \u001b[0;36mGPR_with_posterior.predict_f\u001b[0;34m(self, Xnew, full_cov, full_output_cov)\u001b[0m\n\u001b[1;32m    161\u001b[0m \u001b[38;5;28;01mdef\u001b[39;00m \u001b[38;5;21mpredict_f\u001b[39m(\n\u001b[1;32m    162\u001b[0m     \u001b[38;5;28mself\u001b[39m, Xnew: InputData, full_cov: \u001b[38;5;28mbool\u001b[39m \u001b[38;5;241m=\u001b[39m \u001b[38;5;28;01mFalse\u001b[39;00m, full_output_cov: \u001b[38;5;28mbool\u001b[39m \u001b[38;5;241m=\u001b[39m \u001b[38;5;28;01mFalse\u001b[39;00m\n\u001b[1;32m    163\u001b[0m ) \u001b[38;5;241m-\u001b[39m\u001b[38;5;241m>\u001b[39m MeanAndVariance:\n\u001b[1;32m    164\u001b[0m \u001b[38;5;250m    \u001b[39m\u001b[38;5;124;03m\"\"\"\u001b[39;00m\n\u001b[1;32m    165\u001b[0m \u001b[38;5;124;03m    For backwards compatibility, GPR's predict_f uses the fused (no-cache)\u001b[39;00m\n\u001b[1;32m    166\u001b[0m \u001b[38;5;124;03m    computation, which is more efficient during training.\u001b[39;00m\n\u001b[0;32m   (...)\u001b[0m\n\u001b[1;32m    169\u001b[0m \u001b[38;5;124;03m        model.posterior().predict_f(Xnew, ...)\u001b[39;00m\n\u001b[1;32m    170\u001b[0m \u001b[38;5;124;03m    \"\"\"\u001b[39;00m\n\u001b[0;32m--> 171\u001b[0m     \u001b[38;5;28;01mreturn\u001b[39;00m \u001b[38;5;28;43mself\u001b[39;49m\u001b[38;5;241;43m.\u001b[39;49m\u001b[43mposterior\u001b[49m\u001b[43m(\u001b[49m\u001b[43mposteriors\u001b[49m\u001b[38;5;241;43m.\u001b[39;49m\u001b[43mPrecomputeCacheType\u001b[49m\u001b[38;5;241;43m.\u001b[39;49m\u001b[43mNOCACHE\u001b[49m\u001b[43m)\u001b[49m\u001b[38;5;241;43m.\u001b[39;49m\u001b[43mfused_predict_f\u001b[49m\u001b[43m(\u001b[49m\n\u001b[1;32m    172\u001b[0m \u001b[43m        \u001b[49m\u001b[43mXnew\u001b[49m\u001b[43m,\u001b[49m\u001b[43m \u001b[49m\u001b[43mfull_cov\u001b[49m\u001b[38;5;241;43m=\u001b[39;49m\u001b[43mfull_cov\u001b[49m\u001b[43m,\u001b[49m\u001b[43m \u001b[49m\u001b[43mfull_output_cov\u001b[49m\u001b[38;5;241;43m=\u001b[39;49m\u001b[43mfull_output_cov\u001b[49m\n\u001b[1;32m    173\u001b[0m \u001b[43m    \u001b[49m\u001b[43m)\u001b[49m\n",
      "File \u001b[0;32m/glade/work/afoster/conda-envs/fates_calibration/lib/python3.11/site-packages/gpflow/posteriors.py:210\u001b[0m, in \u001b[0;36mAbstractPosterior.fused_predict_f\u001b[0;34m(self, Xnew, full_cov, full_output_cov)\u001b[0m\n\u001b[1;32m    203\u001b[0m \u001b[38;5;28;01mdef\u001b[39;00m \u001b[38;5;21mfused_predict_f\u001b[39m(\n\u001b[1;32m    204\u001b[0m     \u001b[38;5;28mself\u001b[39m, Xnew: TensorType, full_cov: \u001b[38;5;28mbool\u001b[39m \u001b[38;5;241m=\u001b[39m \u001b[38;5;28;01mFalse\u001b[39;00m, full_output_cov: \u001b[38;5;28mbool\u001b[39m \u001b[38;5;241m=\u001b[39m \u001b[38;5;28;01mFalse\u001b[39;00m\n\u001b[1;32m    205\u001b[0m ) \u001b[38;5;241m-\u001b[39m\u001b[38;5;241m>\u001b[39m MeanAndVariance:\n\u001b[1;32m    206\u001b[0m \u001b[38;5;250m    \u001b[39m\u001b[38;5;124;03m\"\"\"\u001b[39;00m\n\u001b[1;32m    207\u001b[0m \u001b[38;5;124;03m    Computes predictive mean and (co)variance at Xnew, including mean_function\u001b[39;00m\n\u001b[1;32m    208\u001b[0m \u001b[38;5;124;03m    Does not make use of caching\u001b[39;00m\n\u001b[1;32m    209\u001b[0m \u001b[38;5;124;03m    \"\"\"\u001b[39;00m\n\u001b[0;32m--> 210\u001b[0m     mean, cov \u001b[38;5;241m=\u001b[39m \u001b[38;5;28;43mself\u001b[39;49m\u001b[38;5;241;43m.\u001b[39;49m\u001b[43m_conditional_fused\u001b[49m\u001b[43m(\u001b[49m\n\u001b[1;32m    211\u001b[0m \u001b[43m        \u001b[49m\u001b[43mXnew\u001b[49m\u001b[43m,\u001b[49m\u001b[43m \u001b[49m\u001b[43mfull_cov\u001b[49m\u001b[38;5;241;43m=\u001b[39;49m\u001b[43mfull_cov\u001b[49m\u001b[43m,\u001b[49m\u001b[43m \u001b[49m\u001b[43mfull_output_cov\u001b[49m\u001b[38;5;241;43m=\u001b[39;49m\u001b[43mfull_output_cov\u001b[49m\n\u001b[1;32m    212\u001b[0m \u001b[43m    \u001b[49m\u001b[43m)\u001b[49m\n\u001b[1;32m    213\u001b[0m     \u001b[38;5;28;01mreturn\u001b[39;00m \u001b[38;5;28mself\u001b[39m\u001b[38;5;241m.\u001b[39m_add_mean_function(Xnew, mean), cov\n",
      "File \u001b[0;32m/glade/work/afoster/conda-envs/fates_calibration/lib/python3.11/site-packages/gpflow/posteriors.py:398\u001b[0m, in \u001b[0;36mGPRPosterior._conditional_fused\u001b[0;34m(self, Xnew, full_cov, full_output_cov)\u001b[0m\n\u001b[1;32m    395\u001b[0m err \u001b[38;5;241m=\u001b[39m \u001b[38;5;28mself\u001b[39m\u001b[38;5;241m.\u001b[39mY_data \u001b[38;5;241m-\u001b[39m \u001b[38;5;28mself\u001b[39m\u001b[38;5;241m.\u001b[39mmean_function(\u001b[38;5;28mself\u001b[39m\u001b[38;5;241m.\u001b[39mX_data)\n\u001b[1;32m    397\u001b[0m Kmm \u001b[38;5;241m=\u001b[39m \u001b[38;5;28mself\u001b[39m\u001b[38;5;241m.\u001b[39mkernel(\u001b[38;5;28mself\u001b[39m\u001b[38;5;241m.\u001b[39mX_data)\n\u001b[0;32m--> 398\u001b[0m Knn \u001b[38;5;241m=\u001b[39m \u001b[38;5;28;43mself\u001b[39;49m\u001b[38;5;241;43m.\u001b[39;49m\u001b[43mkernel\u001b[49m\u001b[43m(\u001b[49m\u001b[43mXnew\u001b[49m\u001b[43m,\u001b[49m\u001b[43m \u001b[49m\u001b[43mfull_cov\u001b[49m\u001b[38;5;241;43m=\u001b[39;49m\u001b[43mfull_cov\u001b[49m\u001b[43m)\u001b[49m\n\u001b[1;32m    399\u001b[0m Kmn \u001b[38;5;241m=\u001b[39m \u001b[38;5;28mself\u001b[39m\u001b[38;5;241m.\u001b[39mkernel(\u001b[38;5;28mself\u001b[39m\u001b[38;5;241m.\u001b[39mX_data, Xnew)\n\u001b[1;32m    400\u001b[0m Kmm_plus_s \u001b[38;5;241m=\u001b[39m add_noise_cov(Kmm, \u001b[38;5;28mself\u001b[39m\u001b[38;5;241m.\u001b[39mlikelihood_variance)\n",
      "File \u001b[0;32m/glade/work/afoster/conda-envs/fates_calibration/lib/python3.11/site-packages/gpflow/kernels/base.py:262\u001b[0m, in \u001b[0;36mReducingCombination.__call__\u001b[0;34m(self, X, X2, full_cov, presliced)\u001b[0m\n\u001b[1;32m    253\u001b[0m \u001b[38;5;28;01mdef\u001b[39;00m \u001b[38;5;21m__call__\u001b[39m(\n\u001b[1;32m    254\u001b[0m     \u001b[38;5;28mself\u001b[39m,\n\u001b[1;32m    255\u001b[0m     X: TensorType,\n\u001b[0;32m   (...)\u001b[0m\n\u001b[1;32m    259\u001b[0m     presliced: \u001b[38;5;28mbool\u001b[39m \u001b[38;5;241m=\u001b[39m \u001b[38;5;28;01mFalse\u001b[39;00m,\n\u001b[1;32m    260\u001b[0m ) \u001b[38;5;241m-\u001b[39m\u001b[38;5;241m>\u001b[39m tf\u001b[38;5;241m.\u001b[39mTensor:\n\u001b[1;32m    261\u001b[0m     \u001b[38;5;28;01mreturn\u001b[39;00m \u001b[38;5;28mself\u001b[39m\u001b[38;5;241m.\u001b[39m_reduce(\n\u001b[0;32m--> 262\u001b[0m         \u001b[43m[\u001b[49m\u001b[43mk\u001b[49m\u001b[43m(\u001b[49m\u001b[43mX\u001b[49m\u001b[43m,\u001b[49m\u001b[43m \u001b[49m\u001b[43mX2\u001b[49m\u001b[43m,\u001b[49m\u001b[43m \u001b[49m\u001b[43mfull_cov\u001b[49m\u001b[38;5;241;43m=\u001b[39;49m\u001b[43mfull_cov\u001b[49m\u001b[43m,\u001b[49m\u001b[43m \u001b[49m\u001b[43mpresliced\u001b[49m\u001b[38;5;241;43m=\u001b[39;49m\u001b[43mpresliced\u001b[49m\u001b[43m)\u001b[49m\u001b[43m \u001b[49m\u001b[38;5;28;43;01mfor\u001b[39;49;00m\u001b[43m \u001b[49m\u001b[43mk\u001b[49m\u001b[43m \u001b[49m\u001b[38;5;129;43;01min\u001b[39;49;00m\u001b[43m \u001b[49m\u001b[38;5;28;43mself\u001b[39;49m\u001b[38;5;241;43m.\u001b[39;49m\u001b[43mkernels\u001b[49m\u001b[43m]\u001b[49m\n\u001b[1;32m    263\u001b[0m     )\n",
      "File \u001b[0;32m/glade/work/afoster/conda-envs/fates_calibration/lib/python3.11/site-packages/gpflow/kernels/base.py:262\u001b[0m, in \u001b[0;36m<listcomp>\u001b[0;34m(.0)\u001b[0m\n\u001b[1;32m    253\u001b[0m \u001b[38;5;28;01mdef\u001b[39;00m \u001b[38;5;21m__call__\u001b[39m(\n\u001b[1;32m    254\u001b[0m     \u001b[38;5;28mself\u001b[39m,\n\u001b[1;32m    255\u001b[0m     X: TensorType,\n\u001b[0;32m   (...)\u001b[0m\n\u001b[1;32m    259\u001b[0m     presliced: \u001b[38;5;28mbool\u001b[39m \u001b[38;5;241m=\u001b[39m \u001b[38;5;28;01mFalse\u001b[39;00m,\n\u001b[1;32m    260\u001b[0m ) \u001b[38;5;241m-\u001b[39m\u001b[38;5;241m>\u001b[39m tf\u001b[38;5;241m.\u001b[39mTensor:\n\u001b[1;32m    261\u001b[0m     \u001b[38;5;28;01mreturn\u001b[39;00m \u001b[38;5;28mself\u001b[39m\u001b[38;5;241m.\u001b[39m_reduce(\n\u001b[0;32m--> 262\u001b[0m         [\u001b[43mk\u001b[49m\u001b[43m(\u001b[49m\u001b[43mX\u001b[49m\u001b[43m,\u001b[49m\u001b[43m \u001b[49m\u001b[43mX2\u001b[49m\u001b[43m,\u001b[49m\u001b[43m \u001b[49m\u001b[43mfull_cov\u001b[49m\u001b[38;5;241;43m=\u001b[39;49m\u001b[43mfull_cov\u001b[49m\u001b[43m,\u001b[49m\u001b[43m \u001b[49m\u001b[43mpresliced\u001b[49m\u001b[38;5;241;43m=\u001b[39;49m\u001b[43mpresliced\u001b[49m\u001b[43m)\u001b[49m \u001b[38;5;28;01mfor\u001b[39;00m k \u001b[38;5;129;01min\u001b[39;00m \u001b[38;5;28mself\u001b[39m\u001b[38;5;241m.\u001b[39mkernels]\n\u001b[1;32m    263\u001b[0m     )\n",
      "File \u001b[0;32m/glade/work/afoster/conda-envs/fates_calibration/lib/python3.11/site-packages/gpflow/kernels/base.py:182\u001b[0m, in \u001b[0;36mKernel.__call__\u001b[0;34m(self, X, X2, full_cov, presliced)\u001b[0m\n\u001b[1;32m    179\u001b[0m     \u001b[38;5;28;01mraise\u001b[39;00m \u001b[38;5;167;01mValueError\u001b[39;00m(\u001b[38;5;124m\"\u001b[39m\u001b[38;5;124mAmbiguous inputs: `not full_cov` and `X2` are not compatible.\u001b[39m\u001b[38;5;124m\"\u001b[39m)\n\u001b[1;32m    181\u001b[0m \u001b[38;5;28;01mif\u001b[39;00m \u001b[38;5;129;01mnot\u001b[39;00m presliced:\n\u001b[0;32m--> 182\u001b[0m     X, X2 \u001b[38;5;241m=\u001b[39m \u001b[38;5;28;43mself\u001b[39;49m\u001b[38;5;241;43m.\u001b[39;49m\u001b[43mslice\u001b[49m\u001b[43m(\u001b[49m\u001b[43mX\u001b[49m\u001b[43m,\u001b[49m\u001b[43m \u001b[49m\u001b[43mX2\u001b[49m\u001b[43m)\u001b[49m\n\u001b[1;32m    184\u001b[0m \u001b[38;5;28;01mif\u001b[39;00m \u001b[38;5;129;01mnot\u001b[39;00m full_cov:\n\u001b[1;32m    185\u001b[0m     \u001b[38;5;28;01massert\u001b[39;00m X2 \u001b[38;5;129;01mis\u001b[39;00m \u001b[38;5;28;01mNone\u001b[39;00m\n",
      "File \u001b[0;32m/glade/work/afoster/conda-envs/fates_calibration/lib/python3.11/site-packages/gpflow/kernels/base.py:105\u001b[0m, in \u001b[0;36mKernel.slice\u001b[0;34m(self, X, X2)\u001b[0m\n\u001b[1;32m    103\u001b[0m         X2 \u001b[38;5;241m=\u001b[39m X2[\u001b[38;5;241m.\u001b[39m\u001b[38;5;241m.\u001b[39m\u001b[38;5;241m.\u001b[39m, dims]\n\u001b[1;32m    104\u001b[0m \u001b[38;5;28;01melif\u001b[39;00m dims \u001b[38;5;129;01mis\u001b[39;00m \u001b[38;5;129;01mnot\u001b[39;00m \u001b[38;5;28;01mNone\u001b[39;00m:\n\u001b[0;32m--> 105\u001b[0m     X \u001b[38;5;241m=\u001b[39m \u001b[43mtf\u001b[49m\u001b[38;5;241;43m.\u001b[39;49m\u001b[43mgather\u001b[49m\u001b[43m(\u001b[49m\u001b[43mX\u001b[49m\u001b[43m,\u001b[49m\u001b[43m \u001b[49m\u001b[43mdims\u001b[49m\u001b[43m,\u001b[49m\u001b[43m \u001b[49m\u001b[43maxis\u001b[49m\u001b[38;5;241;43m=\u001b[39;49m\u001b[38;5;241;43m-\u001b[39;49m\u001b[38;5;241;43m1\u001b[39;49m\u001b[43m)\u001b[49m\n\u001b[1;32m    106\u001b[0m     \u001b[38;5;28;01mif\u001b[39;00m X2 \u001b[38;5;129;01mis\u001b[39;00m \u001b[38;5;129;01mnot\u001b[39;00m \u001b[38;5;28;01mNone\u001b[39;00m:\n\u001b[1;32m    107\u001b[0m         X2 \u001b[38;5;241m=\u001b[39m tf\u001b[38;5;241m.\u001b[39mgather(X2, dims, axis\u001b[38;5;241m=\u001b[39m\u001b[38;5;241m-\u001b[39m\u001b[38;5;241m1\u001b[39m)\n",
      "File \u001b[0;32m/glade/work/afoster/conda-envs/fates_calibration/lib/python3.11/site-packages/tensorflow/python/util/traceback_utils.py:153\u001b[0m, in \u001b[0;36mfilter_traceback.<locals>.error_handler\u001b[0;34m(*args, **kwargs)\u001b[0m\n\u001b[1;32m    151\u001b[0m \u001b[38;5;28;01mexcept\u001b[39;00m \u001b[38;5;167;01mException\u001b[39;00m \u001b[38;5;28;01mas\u001b[39;00m e:\n\u001b[1;32m    152\u001b[0m   filtered_tb \u001b[38;5;241m=\u001b[39m _process_traceback_frames(e\u001b[38;5;241m.\u001b[39m__traceback__)\n\u001b[0;32m--> 153\u001b[0m   \u001b[38;5;28;01mraise\u001b[39;00m e\u001b[38;5;241m.\u001b[39mwith_traceback(filtered_tb) \u001b[38;5;28;01mfrom\u001b[39;00m \u001b[38;5;28;01mNone\u001b[39;00m\n\u001b[1;32m    154\u001b[0m \u001b[38;5;28;01mfinally\u001b[39;00m:\n\u001b[1;32m    155\u001b[0m   \u001b[38;5;28;01mdel\u001b[39;00m filtered_tb\n",
      "File \u001b[0;32m/glade/work/afoster/conda-envs/fates_calibration/lib/python3.11/site-packages/tensorflow/python/framework/ops.py:7262\u001b[0m, in \u001b[0;36mraise_from_not_ok_status\u001b[0;34m(e, name)\u001b[0m\n\u001b[1;32m   7260\u001b[0m \u001b[38;5;28;01mdef\u001b[39;00m \u001b[38;5;21mraise_from_not_ok_status\u001b[39m(e, name):\n\u001b[1;32m   7261\u001b[0m   e\u001b[38;5;241m.\u001b[39mmessage \u001b[38;5;241m+\u001b[39m\u001b[38;5;241m=\u001b[39m (\u001b[38;5;124m\"\u001b[39m\u001b[38;5;124m name: \u001b[39m\u001b[38;5;124m\"\u001b[39m \u001b[38;5;241m+\u001b[39m name \u001b[38;5;28;01mif\u001b[39;00m name \u001b[38;5;129;01mis\u001b[39;00m \u001b[38;5;129;01mnot\u001b[39;00m \u001b[38;5;28;01mNone\u001b[39;00m \u001b[38;5;28;01melse\u001b[39;00m \u001b[38;5;124m\"\u001b[39m\u001b[38;5;124m\"\u001b[39m)\n\u001b[0;32m-> 7262\u001b[0m   \u001b[38;5;28;01mraise\u001b[39;00m core\u001b[38;5;241m.\u001b[39m_status_to_exception(e) \u001b[38;5;28;01mfrom\u001b[39;00m \u001b[38;5;28;01mNone\u001b[39;00m\n",
      "\u001b[0;31mInvalidArgumentError\u001b[0m: {{function_node __wrapped__GatherV2_device_/job:localhost/replica:0/task:0/device:CPU:0}} indices[8] = 8 is not in [0, 8) [Op:GatherV2]"
     ]
    }
   ],
   "source": [
    "var = 'GPP'\n",
    "em = emulators[var]\n",
    "pred_sampled, pred_sampled_var = em.predict(sample_df)"
   ]
  },
  {
   "cell_type": "code",
   "execution_count": 26,
   "id": "396cb110-067f-4221-8984-ff47abe5523a",
   "metadata": {},
   "outputs": [
    {
     "data": {
      "text/plain": [
       "True"
      ]
     },
     "execution_count": 26,
     "metadata": {},
     "output_type": "execute_result"
    }
   ],
   "source": []
  },
  {
   "cell_type": "code",
   "execution_count": 22,
   "id": "ab30e547-05fd-4804-905e-fe7f9453e10b",
   "metadata": {},
   "outputs": [],
   "source": [
    "obs_df_all = pd.read_csv('/glade/work/afoster/FATES_calibration/mesh_files/dominant_pft_grid_update.csv')\n",
    "obs_df = obs_df_all[obs_df_all.pft == pft]\n",
    "obs_mean = obs_df[f'{OBS_MODEL_VARS[var]}'].mean()\n",
    "obs_var = obs_df[f'{OBS_MODEL_VARS[var]}_var'].mean()"
   ]
  },
  {
   "cell_type": "code",
   "execution_count": 23,
   "id": "4a338f6e-787c-480a-9cb3-b7095c6238cc",
   "metadata": {},
   "outputs": [
    {
     "ename": "ValueError",
     "evalue": "autodetected range of [nan, nan] is not finite",
     "output_type": "error",
     "traceback": [
      "\u001b[0;31m---------------------------------------------------------------------------\u001b[0m",
      "\u001b[0;31mValueError\u001b[0m                                Traceback (most recent call last)",
      "Cell \u001b[0;32mIn[23], line 9\u001b[0m\n\u001b[1;32m      6\u001b[0m ax\u001b[38;5;241m.\u001b[39mget_yaxis()\u001b[38;5;241m.\u001b[39mtick_left()\n\u001b[1;32m      7\u001b[0m plt\u001b[38;5;241m.\u001b[39mxticks(fontsize\u001b[38;5;241m=\u001b[39m\u001b[38;5;241m11\u001b[39m)\n\u001b[0;32m----> 9\u001b[0m my_hist, _ \u001b[38;5;241m=\u001b[39m \u001b[43mnp\u001b[49m\u001b[38;5;241;43m.\u001b[39;49m\u001b[43mhistogram\u001b[49m\u001b[43m(\u001b[49m\u001b[43mpred_sampled\u001b[49m\u001b[43m,\u001b[49m\u001b[43m \u001b[49m\u001b[43mbins\u001b[49m\u001b[38;5;241;43m=\u001b[39;49m\u001b[38;5;241;43m40\u001b[39;49m\u001b[43m)\u001b[49m\n\u001b[1;32m     10\u001b[0m maxv \u001b[38;5;241m=\u001b[39m my_hist\u001b[38;5;241m.\u001b[39mmax()\n\u001b[1;32m     11\u001b[0m plt\u001b[38;5;241m.\u001b[39mxlabel(\u001b[38;5;124mf\u001b[39m\u001b[38;5;124m\"\u001b[39m\u001b[38;5;124mEmulated \u001b[39m\u001b[38;5;132;01m{\u001b[39;00mpft_id\u001b[38;5;132;01m}\u001b[39;00m\u001b[38;5;124m Annual \u001b[39m\u001b[38;5;132;01m{\u001b[39;00mvar\u001b[38;5;132;01m}\u001b[39;00m\u001b[38;5;124m ()\u001b[39m\u001b[38;5;124m\"\u001b[39m, fontsize\u001b[38;5;241m=\u001b[39m\u001b[38;5;241m12\u001b[39m)\n",
      "File \u001b[0;32m<__array_function__ internals>:200\u001b[0m, in \u001b[0;36mhistogram\u001b[0;34m(*args, **kwargs)\u001b[0m\n",
      "File \u001b[0;32m/glade/work/afoster/conda-envs/fates_calibration/lib/python3.11/site-packages/numpy/lib/histograms.py:780\u001b[0m, in \u001b[0;36mhistogram\u001b[0;34m(a, bins, range, density, weights)\u001b[0m\n\u001b[1;32m    680\u001b[0m \u001b[38;5;250m\u001b[39m\u001b[38;5;124mr\u001b[39m\u001b[38;5;124;03m\"\"\"\u001b[39;00m\n\u001b[1;32m    681\u001b[0m \u001b[38;5;124;03mCompute the histogram of a dataset.\u001b[39;00m\n\u001b[1;32m    682\u001b[0m \n\u001b[0;32m   (...)\u001b[0m\n\u001b[1;32m    776\u001b[0m \n\u001b[1;32m    777\u001b[0m \u001b[38;5;124;03m\"\"\"\u001b[39;00m\n\u001b[1;32m    778\u001b[0m a, weights \u001b[38;5;241m=\u001b[39m _ravel_and_check_weights(a, weights)\n\u001b[0;32m--> 780\u001b[0m bin_edges, uniform_bins \u001b[38;5;241m=\u001b[39m \u001b[43m_get_bin_edges\u001b[49m\u001b[43m(\u001b[49m\u001b[43ma\u001b[49m\u001b[43m,\u001b[49m\u001b[43m \u001b[49m\u001b[43mbins\u001b[49m\u001b[43m,\u001b[49m\u001b[43m \u001b[49m\u001b[38;5;28;43mrange\u001b[39;49m\u001b[43m,\u001b[49m\u001b[43m \u001b[49m\u001b[43mweights\u001b[49m\u001b[43m)\u001b[49m\n\u001b[1;32m    782\u001b[0m \u001b[38;5;66;03m# Histogram is an integer or a float array depending on the weights.\u001b[39;00m\n\u001b[1;32m    783\u001b[0m \u001b[38;5;28;01mif\u001b[39;00m weights \u001b[38;5;129;01mis\u001b[39;00m \u001b[38;5;28;01mNone\u001b[39;00m:\n",
      "File \u001b[0;32m/glade/work/afoster/conda-envs/fates_calibration/lib/python3.11/site-packages/numpy/lib/histograms.py:426\u001b[0m, in \u001b[0;36m_get_bin_edges\u001b[0;34m(a, bins, range, weights)\u001b[0m\n\u001b[1;32m    423\u001b[0m     \u001b[38;5;28;01mif\u001b[39;00m n_equal_bins \u001b[38;5;241m<\u001b[39m \u001b[38;5;241m1\u001b[39m:\n\u001b[1;32m    424\u001b[0m         \u001b[38;5;28;01mraise\u001b[39;00m \u001b[38;5;167;01mValueError\u001b[39;00m(\u001b[38;5;124m'\u001b[39m\u001b[38;5;124m`bins` must be positive, when an integer\u001b[39m\u001b[38;5;124m'\u001b[39m)\n\u001b[0;32m--> 426\u001b[0m     first_edge, last_edge \u001b[38;5;241m=\u001b[39m \u001b[43m_get_outer_edges\u001b[49m\u001b[43m(\u001b[49m\u001b[43ma\u001b[49m\u001b[43m,\u001b[49m\u001b[43m \u001b[49m\u001b[38;5;28;43mrange\u001b[39;49m\u001b[43m)\u001b[49m\n\u001b[1;32m    428\u001b[0m \u001b[38;5;28;01melif\u001b[39;00m np\u001b[38;5;241m.\u001b[39mndim(bins) \u001b[38;5;241m==\u001b[39m \u001b[38;5;241m1\u001b[39m:\n\u001b[1;32m    429\u001b[0m     bin_edges \u001b[38;5;241m=\u001b[39m np\u001b[38;5;241m.\u001b[39masarray(bins)\n",
      "File \u001b[0;32m/glade/work/afoster/conda-envs/fates_calibration/lib/python3.11/site-packages/numpy/lib/histograms.py:323\u001b[0m, in \u001b[0;36m_get_outer_edges\u001b[0;34m(a, range)\u001b[0m\n\u001b[1;32m    321\u001b[0m     first_edge, last_edge \u001b[38;5;241m=\u001b[39m a\u001b[38;5;241m.\u001b[39mmin(), a\u001b[38;5;241m.\u001b[39mmax()\n\u001b[1;32m    322\u001b[0m     \u001b[38;5;28;01mif\u001b[39;00m \u001b[38;5;129;01mnot\u001b[39;00m (np\u001b[38;5;241m.\u001b[39misfinite(first_edge) \u001b[38;5;129;01mand\u001b[39;00m np\u001b[38;5;241m.\u001b[39misfinite(last_edge)):\n\u001b[0;32m--> 323\u001b[0m         \u001b[38;5;28;01mraise\u001b[39;00m \u001b[38;5;167;01mValueError\u001b[39;00m(\n\u001b[1;32m    324\u001b[0m             \u001b[38;5;124m\"\u001b[39m\u001b[38;5;124mautodetected range of [\u001b[39m\u001b[38;5;132;01m{}\u001b[39;00m\u001b[38;5;124m, \u001b[39m\u001b[38;5;132;01m{}\u001b[39;00m\u001b[38;5;124m] is not finite\u001b[39m\u001b[38;5;124m\"\u001b[39m\u001b[38;5;241m.\u001b[39mformat(first_edge, last_edge))\n\u001b[1;32m    326\u001b[0m \u001b[38;5;66;03m# expand empty range to avoid divide by zero\u001b[39;00m\n\u001b[1;32m    327\u001b[0m \u001b[38;5;28;01mif\u001b[39;00m first_edge \u001b[38;5;241m==\u001b[39m last_edge:\n",
      "\u001b[0;31mValueError\u001b[0m: autodetected range of [nan, nan] is not finite"
     ]
    },
    {
     "data": {
      "image/png": "[encoded data removed]",
      "text/plain": [
       "<Figure size 700x500 with 1 Axes>"
      ]
     },
     "metadata": {},
     "output_type": "display_data"
    }
   ],
   "source": [
    "plt.figure(figsize=(7, 5))\n",
    "ax = plt.subplot(111)\n",
    "ax.spines[\"top\"].set_visible(False)\n",
    "ax.spines[\"right\"].set_visible(False)\n",
    "ax.get_xaxis().tick_bottom()\n",
    "ax.get_yaxis().tick_left()\n",
    "plt.xticks(fontsize=11)\n",
    "\n",
    "my_hist, _ = np.histogram(pred_sampled, bins=40)\n",
    "maxv = my_hist.max()\n",
    "plt.xlabel(f\"Emulated {pft_id} Annual {var} ()\", fontsize=12)\n",
    "plt.ylabel(\"Count\", fontsize=12)\n",
    "plt.hist(pred_sampled, fc=\"darkgray\", bins=40)\n",
    "ax.add_patch(Rectangle((obs_mean - np.sqrt(obs_var), 0), 2*np.sqrt(obs_var), maxv,\n",
    "                    facecolor='red', alpha=0.4))\n",
    "ax.axvline(x=obs_mean, ymin=0.0, ymax=maxv, color='r')"
   ]
  },
  {
   "cell_type": "code",
   "execution_count": null,
   "id": "3726ec10-c5f5-4f45-b281-aa52809baed0",
   "metadata": {},
   "outputs": [],
   "source": [
    "final_pars = choose_pars(sample_df, 'fates_leaf_vcmax25top')\n",
    "final_pars['pft'] = pft\n",
    "final_pars.to_csv(f\"/glade/u/home/afoster/FATES_Calibration/pft_output/{pft_id}_outputs/final_pars.csv\")"
   ]
  },
  {
   "cell_type": "code",
   "execution_count": null,
   "id": "91e4b795-75d0-44ed-aaca-395c2594b73e",
   "metadata": {},
   "outputs": [],
   "source": [
    "# ALL PFTS"
   ]
  },
  {
   "cell_type": "code",
   "execution_count": null,
   "id": "bb95c86e-160b-4654-b061-0cc1a42d0207",
   "metadata": {},
   "outputs": [],
   "source": [
    "final_par_dfs = []\n",
    "dom_pfts = ['broadleaf_evergreen_tropical_tree', 'needleleaf_evergreen_extratrop_tree',\n",
    "            'needleleaf_colddecid_extratrop_tree', 'arctic_c3_grass', 'cool_c3_grass',\n",
    "            'c4_grass']\n",
    "all_pfts = ['broadleaf_evergreen_tropical_tree', 'needleleaf_evergreen_extratrop_tree',\n",
    "            'needleleaf_colddecid_extratrop_tree', 'arctic_c3_grass', 'cool_c3_grass',\n",
    "            'c4_grass', 'broadleaf_evergreen_extratrop_tree', 'broadleaf_hydrodecid_tropical_tree',\n",
    "           'broadleaf_colddecid_extratrop_tree', 'broadleaf_colddecid_extratrop_shrub', 'c3_crop',\n",
    "            'c3_irrigated']\n",
    "for pft in dom_pfts:\n",
    "    pft_id = FATES_PFT_IDS[pft]\n",
    "    df = pd.read_csv(f\"/glade/u/home/afoster/FATES_Calibration/pft_output/{pft_id}_outputs/final_pars.csv\",\n",
    "                                    index_col=[0])\n",
    "    df['pft_index'] = FATES_INDEX[pft]\n",
    "    final_par_dfs.append(df)\n",
    "final_par_df = pd.concat(final_par_dfs)"
   ]
  },
  {
   "cell_type": "code",
   "execution_count": null,
   "id": "e6a221eb-01de-42e6-880e-325a94655039",
   "metadata": {},
   "outputs": [],
   "source": [
    "np.unique(final_par_df.parameter)"
   ]
  },
  {
   "cell_type": "code",
   "execution_count": null,
   "id": "e5d4c421-c835-4a2e-b466-142c32d7f480",
   "metadata": {},
   "outputs": [],
   "source": [
    "final_par_df[final_par_df.parameter == 'fates_leaf_vcmax25top']"
   ]
  },
  {
   "cell_type": "code",
   "execution_count": null,
   "id": "a634ce7c-6023-4fab-8906-42492b7cf20b",
   "metadata": {},
   "outputs": [],
   "source": [
    "final_par_df.to_csv('/glade/u/home/afoster/FATES_Calibration/final_parameters.csv')"
   ]
  }
 ],
 "metadata": {
  "kernelspec": {
   "display_name": "Python [conda env:fates_calibration]",
   "language": "python",
   "name": "conda-env-fates_calibration-py"
  },
  "language_info": {
   "codemirror_mode": {
    "name": "ipython",
    "version": 3
   },
   "file_extension": ".py",
   "mimetype": "text/x-python",
   "name": "python",
   "nbconvert_exporter": "python",
   "pygments_lexer": "ipython3",
   "version": "3.11.10"
  }
 },
 "nbformat": 4,
 "nbformat_minor": 5
}
