{
 "cells": [
  {
   "cell_type": "code",
   "execution_count": 1,
   "id": "38ce136c-5619-44ff-a14b-599135d00b65",
   "metadata": {},
   "outputs": [],
   "source": [
    "import os\n",
    "import numpy as np\n",
    "import xarray as xr\n",
    "import pandas as pd\n",
    "import matplotlib.pyplot as plt\n",
    "\n",
    "from fates_calibration_library.analysis_functions import (\n",
    "    fix_infl_months,\n",
    "    compute_infl\n",
    ")"
   ]
  },
  {
   "cell_type": "code",
   "execution_count": 2,
   "id": "ed9c06dd-2da0-4bad-8a14-1365fdc36feb",
   "metadata": {},
   "outputs": [
    {
     "data": {
      "text/plain": [
       "array([ 6., 11., 12.])"
      ]
     },
     "execution_count": 2,
     "metadata": {},
     "output_type": "execute_result"
    }
   ],
   "source": [
    "months = np.arange(1, 13)\n",
    "values = [1, 2, 4, 6, 9, 7, 5, 3, 2, 1, 1, 1]\n",
    "da = xr.DataArray(values, coords={\"month\": months}, dims=\"month\")\n",
    "compute_infl(da)"
   ]
  },
  {
   "cell_type": "code",
   "execution_count": 5,
   "id": "8401e1ed-f867-4a69-9a67-595afaf49fa1",
   "metadata": {},
   "outputs": [],
   "source": [
    "da_vals = da.values\n",
    "first_diff = np.diff(da_vals, axis=-1) >= 0.0\n",
    "second_diff = np.diff(first_diff.astype(int), axis=-1) != 0"
   ]
  },
  {
   "cell_type": "code",
   "execution_count": 9,
   "id": "26458faa-1820-4300-9cc0-5c24ad85728b",
   "metadata": {},
   "outputs": [],
   "source": [
    "pad = np.zeros((*second_diff.shape[:-1], 2), dtype=bool)"
   ]
  },
  {
   "cell_type": "code",
   "execution_count": 11,
   "id": "8bfcb741-84e2-410c-83f9-5dc08930849c",
   "metadata": {},
   "outputs": [],
   "source": [
    "padded = np.concatenate([pad, second_diff], axis=-1)"
   ]
  },
  {
   "cell_type": "code",
   "execution_count": 13,
   "id": "e555ec35-c56a-422b-aba9-6e433b6a3284",
   "metadata": {},
   "outputs": [],
   "source": [
    "infl = xr.DataArray(padded, coords=da.coords, dims=da.dims)"
   ]
  },
  {
   "cell_type": "code",
   "execution_count": 16,
   "id": "5aebaf9a-fc95-4df0-8b31-c79583d1f005",
   "metadata": {},
   "outputs": [],
   "source": [
    "infl_months = da['month'].where(infl).values"
   ]
  },
  {
   "cell_type": "code",
   "execution_count": 18,
   "id": "1d4ed958-9d57-4f17-a493-2228db2f6700",
   "metadata": {},
   "outputs": [],
   "source": [
    "infl_months\n",
    "non_nan_months = infl_months[~np.isnan(infl_months)]"
   ]
  },
  {
   "cell_type": "code",
   "execution_count": 19,
   "id": "bb86ad18-a9d8-40ed-bfd6-5b0e25d32e60",
   "metadata": {},
   "outputs": [
    {
     "data": {
      "text/plain": [
       "array([ 6., 11.])"
      ]
     },
     "execution_count": 19,
     "metadata": {},
     "output_type": "execute_result"
    }
   ],
   "source": [
    "non_nan_months"
   ]
  },
  {
   "cell_type": "code",
   "execution_count": null,
   "id": "260e6047-8fd9-4992-8a0c-813e83c938ca",
   "metadata": {},
   "outputs": [],
   "source": []
  }
 ],
 "metadata": {
  "kernelspec": {
   "display_name": "Python [conda env:fates_calibration]",
   "language": "python",
   "name": "conda-env-fates_calibration-py"
  },
  "language_info": {
   "codemirror_mode": {
    "name": "ipython",
    "version": 3
   },
   "file_extension": ".py",
   "mimetype": "text/x-python",
   "name": "python",
   "nbconvert_exporter": "python",
   "pygments_lexer": "ipython3",
   "version": "3.11.10"
  }
 },
 "nbformat": 4,
 "nbformat_minor": 5
}
