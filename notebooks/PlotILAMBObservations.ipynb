{
 "cells": [
  {
   "cell_type": "markdown",
   "id": "778ee3c9-6a7b-4c6b-900c-cf3b7b9553a3",
   "metadata": {},
   "source": [
    "# Plotting ILAMB Data\n",
    "Generates plots of observational data in ILAMB"
   ]
  },
  {
   "cell_type": "code",
   "execution_count": null,
   "id": "eb4b7458-85d9-4f27-96c5-1cae12697aef",
   "metadata": {},
   "outputs": [],
   "source": [
    "import xarray as xr\n",
    "import fates_calibration_library.ilamb_plotting as plotting\n",
    "import fates_calibration_library.utils as utils"
   ]
  },
  {
   "cell_type": "code",
   "execution_count": null,
   "id": "3d0ca69c-fc63-49ed-8858-a8068a18989b",
   "metadata": {},
   "outputs": [],
   "source": [
    "plot_config_file = '/glade/work/afoster/FATES_calibration/fates_calibration_library/configs/ilamb_conversion.yaml'\n",
    "plot_config = utils.get_config_file(plot_config_file)"
   ]
  },
  {
   "cell_type": "code",
   "execution_count": null,
   "id": "a433c8c6-c97f-48ba-8182-6beea5d77898",
   "metadata": {},
   "outputs": [],
   "source": [
    "# compiled ILAMB observational data\n",
    "ilamb_obs_file = '/glade/work/afoster/FATES_calibration/observations/all_ILAMB_obs.nc'\n",
    "ilamb_dat = xr.open_dataset(ilamb_obs_file)"
   ]
  },
  {
   "cell_type": "code",
   "execution_count": null,
   "id": "bbf3ef88-584f-4f92-a3ba-bd5cf9383b83",
   "metadata": {},
   "outputs": [],
   "source": [
    "plotvar = 'PR'"
   ]
  },
  {
   "cell_type": "code",
   "execution_count": null,
   "id": "2604901c-e9ec-444e-92e0-3ca9628cfa15",
   "metadata": {},
   "outputs": [],
   "source": [
    "plotting.plot_ilamb_var(ilamb_dat, plot_config[plotvar]['var'], plot_config[plotvar])"
   ]
  },
  {
   "cell_type": "code",
   "execution_count": null,
   "id": "29cc20aa-ffca-47d3-87b7-e4a16f7f9bf2",
   "metadata": {},
   "outputs": [],
   "source": []
  }
 ],
 "metadata": {
  "kernelspec": {
   "display_name": "Python [conda env:fates_calibration]",
   "language": "python",
   "name": "conda-env-fates_calibration-py"
  },
  "language_info": {
   "codemirror_mode": {
    "name": "ipython",
    "version": 3
   },
   "file_extension": ".py",
   "mimetype": "text/x-python",
   "name": "python",
   "nbconvert_exporter": "python",
   "pygments_lexer": "ipython3",
   "version": "3.11.10"
  }
 },
 "nbformat": 4,
 "nbformat_minor": 5
}
