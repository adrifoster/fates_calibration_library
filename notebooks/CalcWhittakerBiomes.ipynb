{
 "cells": [
  {
   "cell_type": "markdown",
   "id": "2366f1c4-8b12-48a9-b020-6b9be72645d9",
   "metadata": {},
   "source": [
    "# Calculate Global Whittaker Biomes\n",
    "Calculates Whittaker biomes on a 2-degree global grid using Whittaker biome rules and a CLM simulation."
   ]
  },
  {
   "cell_type": "code",
   "execution_count": null,
   "id": "8ea47742-37af-4106-81d5-874dea1013aa",
   "metadata": {},
   "outputs": [],
   "source": [
    "from dask_jobqueue import PBSCluster\n",
    "from dask.distributed import Client\n",
    "import xarray as xr\n",
    "import matplotlib\n",
    "import matplotlib.pyplot as plt\n",
    "import cartopy.crs as ccrs\n",
    "import cartopy.feature as cfeature\n",
    "from fates_calibration_library.whittaker_biomes import get_whittaker_biomes, get_biome_palette"
   ]
  },
  {
   "cell_type": "code",
   "execution_count": null,
   "id": "2dd5469e-33b4-4d16-b901-4adfa61f68a9",
   "metadata": {},
   "outputs": [],
   "source": [
    "# Setup PBSCluster\n",
    "cluster = PBSCluster(\n",
    "    cores=1,                                     # The number of cores you want\n",
    "    memory='25GB',                               # Amount of memory\n",
    "    processes=1,                                 # How many processes\n",
    "    queue='casper',                              # The type of queue to utilize\n",
    "    local_directory='/glade/work/afoster',       # Use your local directory\n",
    "    resource_spec='select=1:ncpus=1:mem=25GB',   # Specify resources\n",
    "    log_directory='/glade/derecho/scratch/afoster/dask_logs',  # log directory\n",
    "    account='P93300041',                         # Input your project ID here\n",
    "    walltime='02:00:00',                         # Amount of wall time\n",
    "    interface='ext')"
   ]
  },
  {
   "cell_type": "code",
   "execution_count": null,
   "id": "f1669f5b-e919-409d-88b8-07441b9eed8e",
   "metadata": {},
   "outputs": [],
   "source": [
    "cluster.scale(2)\n",
    "client = Client(cluster)"
   ]
  },
  {
   "cell_type": "code",
   "execution_count": null,
   "id": "ee798aa0-f9f5-478e-9b4e-98a8eeda3e2d",
   "metadata": {},
   "outputs": [],
   "source": [
    "# CLM simulation - we need TBOT, PREC, and GPP from this to calculate Whittaker biomes\n",
    "clm_sim_dir = '/glade/campaign/cgd/tss/people/oleson/PPE/clm51_lmbirchwkattgen01ctsm51d006_2deg_GSWP3V1_nocrop_PPE2_hist/lnd/hist/'\n",
    "\n",
    "# shapefile of whittaker biomes\n",
    "whit_shp = '/glade/work/afoster/FATES_calibration/observations/whittaker/Whittaker_biomes.shp'\n",
    "\n",
    "# key\n",
    "whit_key = xr.open_dataset('/glade/work/afoster/FATES_calibration/observations/whittaker/whitkey.nc')"
   ]
  },
  {
   "cell_type": "code",
   "execution_count": null,
   "id": "3c8f697b-d65f-4c81-bf68-5c5374b67dbb",
   "metadata": {},
   "outputs": [],
   "source": [
    "whittaker_biomes = get_whittaker_biomes(clm_sim_dir, whit_shp, whit_key)"
   ]
  },
  {
   "cell_type": "code",
   "execution_count": null,
   "id": "777eb358-bfd0-4695-bef0-7ebd120d9bf1",
   "metadata": {},
   "outputs": [],
   "source": [
    "plt.savefig('/glade/work/afoster/FATES_calibration/figures/Whittaker_biomes_global.png', \n",
    "            dpi=300, transparent=True, bbox_inches='tight')"
   ]
  },
  {
   "cell_type": "code",
   "execution_count": null,
   "id": "b9ed5c9d-ddfc-4389-a8b4-5cca6ad4de45",
   "metadata": {},
   "outputs": [],
   "source": [
    "whittaker_biomes.to_netcdf('/glade/work/afoster/FATES_calibration/observations/whittaker_biomes_2deg.nc')"
   ]
  },
  {
   "cell_type": "code",
   "execution_count": null,
   "id": "9a7d1f02-6f53-48b4-a5c8-36bacd29af2b",
   "metadata": {},
   "outputs": [],
   "source": []
  }
 ],
 "metadata": {
  "kernelspec": {
   "display_name": "Python [conda env:fates_calibration]",
   "language": "python",
   "name": "conda-env-fates_calibration-py"
  },
  "language_info": {
   "codemirror_mode": {
    "name": "ipython",
    "version": 3
   },
   "file_extension": ".py",
   "mimetype": "text/x-python",
   "name": "python",
   "nbconvert_exporter": "python",
   "pygments_lexer": "ipython3",
   "version": "3.11.10"
  }
 },
 "nbformat": 4,
 "nbformat_minor": 5
}
