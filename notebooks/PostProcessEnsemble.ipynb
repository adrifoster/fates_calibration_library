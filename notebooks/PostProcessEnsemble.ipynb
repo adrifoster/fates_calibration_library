{
 "cells": [
  {
   "cell_type": "markdown",
   "id": "f1f0e899-1a57-4c7f-811a-1a44db3bd80f",
   "metadata": {},
   "source": [
    "# Post-Process FATES or CLM Ensemble"
   ]
  },
  {
   "cell_type": "code",
   "execution_count": 1,
   "id": "0bf99e97-ca27-47e2-873d-f94e008b48b4",
   "metadata": {},
   "outputs": [],
   "source": [
    "import os\n",
    "import numpy as np\n",
    "import xarray as xr\n",
    "import pandas as pd\n",
    "import dask\n",
    "from dask_jobqueue import PBSCluster\n",
    "from dask.distributed import Client\n",
    "\n",
    "import fates_calibration_library.analysis_functions as analysis\n",
    "import fates_calibration_library.utils as utils"
   ]
  },
  {
   "cell_type": "code",
   "execution_count": 2,
   "id": "efdc3d98-faf2-4a55-ac77-87cfeb28eade",
   "metadata": {},
   "outputs": [
    {
     "name": "stderr",
     "output_type": "stream",
     "text": [
      "/glade/work/afoster/conda-envs/fates_calibration/lib/python3.11/site-packages/distributed/node.py:182: UserWarning: Port 8787 is already in use.\n",
      "Perhaps you already have a cluster running?\n",
      "Hosting the HTTP server on port 41641 instead\n",
      "  warnings.warn(\n"
     ]
    }
   ],
   "source": [
    "# Setup PBSCluster\n",
    "cluster = PBSCluster(\n",
    "    cores=1,                                                   # The number of cores you want\n",
    "    memory='25GB',                                             # Amount of memory\n",
    "    processes=1,                                               # How many processes\n",
    "    queue='casper',                                            # The type of queue to utilize\n",
    "    local_directory='/glade/work/afoster',                     # Use your local directory\n",
    "    resource_spec='select=1:ncpus=1:mem=25GB',                 # Specify resources\n",
    "    log_directory='/glade/derecho/scratch/afoster/dask_logs',  # log directory\n",
    "    account='P08010000',                                       # Input your project ID here\n",
    "    walltime='06:00:00',                                       # Amount of wall time\n",
    "    interface='ext')                                           # Interface to use"
   ]
  },
  {
   "cell_type": "code",
   "execution_count": 3,
   "id": "2da212d5-8667-4f23-a218-f825596d1b64",
   "metadata": {},
   "outputs": [
    {
     "data": {
      "text/html": [
       "<div>\n",
       "    <div style=\"width: 24px; height: 24px; background-color: #e1e1e1; border: 3px solid #9D9D9D; border-radius: 5px; position: absolute;\"> </div>\n",
       "    <div style=\"margin-left: 48px;\">\n",
       "        <h3 style=\"margin-bottom: 0px;\">Client</h3>\n",
       "        <p style=\"color: #9D9D9D; margin-bottom: 0px;\">Client-d679d435-335d-11f0-921c-10ffe07f3d3e</p>\n",
       "        <table style=\"width: 100%; text-align: left;\">\n",
       "\n",
       "        <tr>\n",
       "        \n",
       "            <td style=\"text-align: left;\"><strong>Connection method:</strong> Cluster object</td>\n",
       "            <td style=\"text-align: left;\"><strong>Cluster type:</strong> dask_jobqueue.PBSCluster</td>\n",
       "        \n",
       "        </tr>\n",
       "\n",
       "        \n",
       "            <tr>\n",
       "                <td style=\"text-align: left;\">\n",
       "                    <strong>Dashboard: </strong> <a href=\"https://jupyterhub.hpc.ucar.edu/stable/user/afoster/proxy/41641/status\" target=\"_blank\">https://jupyterhub.hpc.ucar.edu/stable/user/afoster/proxy/41641/status</a>\n",
       "                </td>\n",
       "                <td style=\"text-align: left;\"></td>\n",
       "            </tr>\n",
       "        \n",
       "\n",
       "        </table>\n",
       "\n",
       "        \n",
       "\n",
       "        \n",
       "            <details>\n",
       "            <summary style=\"margin-bottom: 20px;\"><h3 style=\"display: inline;\">Cluster Info</h3></summary>\n",
       "            <div class=\"jp-RenderedHTMLCommon jp-RenderedHTML jp-mod-trusted jp-OutputArea-output\">\n",
       "    <div style=\"width: 24px; height: 24px; background-color: #e1e1e1; border: 3px solid #9D9D9D; border-radius: 5px; position: absolute;\">\n",
       "    </div>\n",
       "    <div style=\"margin-left: 48px;\">\n",
       "        <h3 style=\"margin-bottom: 0px; margin-top: 0px;\">PBSCluster</h3>\n",
       "        <p style=\"color: #9D9D9D; margin-bottom: 0px;\">35d02d3c</p>\n",
       "        <table style=\"width: 100%; text-align: left;\">\n",
       "            <tr>\n",
       "                <td style=\"text-align: left;\">\n",
       "                    <strong>Dashboard:</strong> <a href=\"https://jupyterhub.hpc.ucar.edu/stable/user/afoster/proxy/41641/status\" target=\"_blank\">https://jupyterhub.hpc.ucar.edu/stable/user/afoster/proxy/41641/status</a>\n",
       "                </td>\n",
       "                <td style=\"text-align: left;\">\n",
       "                    <strong>Workers:</strong> 0\n",
       "                </td>\n",
       "            </tr>\n",
       "            <tr>\n",
       "                <td style=\"text-align: left;\">\n",
       "                    <strong>Total threads:</strong> 0\n",
       "                </td>\n",
       "                <td style=\"text-align: left;\">\n",
       "                    <strong>Total memory:</strong> 0 B\n",
       "                </td>\n",
       "            </tr>\n",
       "            \n",
       "        </table>\n",
       "\n",
       "        <details>\n",
       "            <summary style=\"margin-bottom: 20px;\">\n",
       "                <h3 style=\"display: inline;\">Scheduler Info</h3>\n",
       "            </summary>\n",
       "\n",
       "            <div style=\"\">\n",
       "    <div>\n",
       "        <div style=\"width: 24px; height: 24px; background-color: #FFF7E5; border: 3px solid #FF6132; border-radius: 5px; position: absolute;\"> </div>\n",
       "        <div style=\"margin-left: 48px;\">\n",
       "            <h3 style=\"margin-bottom: 0px;\">Scheduler</h3>\n",
       "            <p style=\"color: #9D9D9D; margin-bottom: 0px;\">Scheduler-8cdfdf9f-acb3-42ef-9dcf-0caa7f285c75</p>\n",
       "            <table style=\"width: 100%; text-align: left;\">\n",
       "                <tr>\n",
       "                    <td style=\"text-align: left;\">\n",
       "                        <strong>Comm:</strong> tcp://128.117.208.173:36367\n",
       "                    </td>\n",
       "                    <td style=\"text-align: left;\">\n",
       "                        <strong>Workers:</strong> 0\n",
       "                    </td>\n",
       "                </tr>\n",
       "                <tr>\n",
       "                    <td style=\"text-align: left;\">\n",
       "                        <strong>Dashboard:</strong> <a href=\"https://jupyterhub.hpc.ucar.edu/stable/user/afoster/proxy/41641/status\" target=\"_blank\">https://jupyterhub.hpc.ucar.edu/stable/user/afoster/proxy/41641/status</a>\n",
       "                    </td>\n",
       "                    <td style=\"text-align: left;\">\n",
       "                        <strong>Total threads:</strong> 0\n",
       "                    </td>\n",
       "                </tr>\n",
       "                <tr>\n",
       "                    <td style=\"text-align: left;\">\n",
       "                        <strong>Started:</strong> Just now\n",
       "                    </td>\n",
       "                    <td style=\"text-align: left;\">\n",
       "                        <strong>Total memory:</strong> 0 B\n",
       "                    </td>\n",
       "                </tr>\n",
       "            </table>\n",
       "        </div>\n",
       "    </div>\n",
       "\n",
       "    <details style=\"margin-left: 48px;\">\n",
       "        <summary style=\"margin-bottom: 20px;\">\n",
       "            <h3 style=\"display: inline;\">Workers</h3>\n",
       "        </summary>\n",
       "\n",
       "        \n",
       "\n",
       "    </details>\n",
       "</div>\n",
       "\n",
       "        </details>\n",
       "    </div>\n",
       "</div>\n",
       "            </details>\n",
       "        \n",
       "\n",
       "    </div>\n",
       "</div>"
      ],
      "text/plain": [
       "<Client: 'tcp://128.117.208.173:36367' processes=0 threads=0, memory=0 B>"
      ]
     },
     "execution_count": 3,
     "metadata": {},
     "output_type": "execute_result"
    }
   ],
   "source": [
    "cluster.scale(30)\n",
    "dask.config.set({\n",
    "    'distributed.dashboard.link': 'https://jupyterhub.hpc.ucar.edu/stable/user/{USER}/proxy/{port}/status'\n",
    "})\n",
    "client = Client(cluster)\n",
    "client"
   ]
  },
  {
   "cell_type": "code",
   "execution_count": null,
   "id": "e419d84d-0982-41cf-81d6-cb686d39b706",
   "metadata": {},
   "outputs": [],
   "source": [
    "# client.shutdown()"
   ]
  },
  {
   "cell_type": "markdown",
   "id": "f4b93087-f589-4624-893b-80576c24209c",
   "metadata": {},
   "source": [
    "## Set Up\n",
    "\n",
    "First specify history variables and variables to process"
   ]
  },
  {
   "cell_type": "code",
   "execution_count": 4,
   "id": "5dbba517-a5f6-4003-b9d4-245053565200",
   "metadata": {},
   "outputs": [],
   "source": [
    "fates_vars = ['FATES_FRACTION', 'FATES_GPP', 'FATES_LAI', 'QVEGE',\n",
    "              'QSOIL', 'QVEGT', 'EFLX_LH_TOT', 'FSH', 'FSR', 'FSDS', 'FSA',\n",
    "              'FIRE', 'FLDS', 'FCTR', 'FCEV', 'FGEV', 'BTRANMN',\n",
    "              'FGR', 'SOILWATER_10CM', 'TWS', 'QRUNOFF', 'SNOWDP',\n",
    "              'TV', 'TG', 'TSA', 'RH2M', 'SNOW', 'RAIN', 'FGR12',\n",
    "              'TREFMXAV', 'TREFMNAV']\n",
    "\n",
    "clm_vars = ['FPSN', 'TLAI', 'QVEGE', 'QVEGT', 'QSOIL', 'EFLX_LH_TOT', 'FSH',\n",
    "            'FSR', 'FSDS', 'FSA', 'FIRE', 'FLDS', 'FCTR', 'FCEV',\n",
    "            'FGEV', 'BTRANMN', 'FGR', 'SOILWATER_10CM', 'TWS',\n",
    "            'QRUNOFF', 'SNOWDP', 'TV', 'TG', 'TSA', 'RH2M', 'SNOW',\n",
    "            'FGR12', 'TREFMXAV', 'TREFMNAV']\n",
    "\n",
    "out_vars = ['GPP', 'LAI', 'EFLX_LH_TOT', 'FSH', 'EF', 'SOILWATER_10CM', 'ASA',\n",
    "            'FSDS', 'FSR', 'FSA', 'FIRE', 'RLNS', 'RN', 'BTRANMN', 'TV', 'Temp',\n",
    "            'RH2M', 'Precip']"
   ]
  },
  {
   "cell_type": "markdown",
   "id": "43f8ac91-cda8-4003-af9b-a81445cf02c9",
   "metadata": {},
   "source": [
    "### Files Needed"
   ]
  },
  {
   "cell_type": "code",
   "execution_count": 5,
   "id": "c57132c5-3a86-4263-9ad3-803c7bee9aef",
   "metadata": {},
   "outputs": [],
   "source": [
    "# sparse grid whittaker biomes\n",
    "whittaker_ds = xr.open_dataset('/glade/work/afoster/FATES_calibration/observations/whittaker/whitkey.nc')\n",
    "\n",
    "# sparsegrid landarea - needed for unit conversion\n",
    "land_area_file = '/glade/work/afoster/FATES_calibration/CLM5PPE/postp/sparsegrid_landarea.nc'\n",
    "land_area = xr.open_dataset(land_area_file).landarea\n",
    "\n",
    "# sparse grid clustering file\n",
    "grid_dir = '/glade/work/afoster/FATES_calibration/surfdata'\n",
    "grid_file = 'clusters.clm51_PPEn02ctsm51d021_2deg_GSWP3V1_leafbiomassesai_PPE3_hist.annual+sd.400.nc'\n",
    "sparse_grid = xr.open_dataset(os.path.join(grid_dir, grid_file))\n",
    "\n",
    "# create a global land frac and area grid\n",
    "land_frac_ds = os.path.join(\"/glade/derecho/scratch/afoster/archive\",\n",
    "                            \"ctsm60SP_bigleaf_fullgrid/lnd/hist\",\n",
    "                            \"ctsm60SP_bigleaf_fullgrid.clm2.h0.0001-02-01-00000.nc\")\n",
    "target_grid = analysis.create_target_grid(land_frac_ds, 'FSR')\n",
    "\n",
    "# config file with conversion information in it\n",
    "var_config = '/glade/work/afoster/FATES_calibration/fates_calibration_library/configs/model_conversion.yaml'\n",
    "var_dict = utils.get_config_file(var_config)\n",
    "\n",
    "# parameter keys\n",
    "fates_oaat_key_file = '/glade/work/afoster/FATES_calibration/parameter_files/fates_oaat/fates_oaat_key.csv'\n",
    "fates_oaat_key = pd.read_csv(fates_oaat_key_file, index_col=0)\n",
    "fates_oaat_key.columns = ['key', 'minmax', 'param']\n",
    "\n",
    "clm_param_key_file = '/glade/work/afoster/FATES_calibration/parameter_files/clm6sp_oaat_key.csv'\n",
    "clm_param_key = pd.read_csv(clm_param_key_file, header=None)\n",
    "clm_param_key.columns = ['ensemble_name', 'param', 'minmax']\n",
    "clm_param_key['key'] = [int(ens.strip()[-4:]) for ens in clm_param_key['ensemble_name']]"
   ]
  },
  {
   "cell_type": "markdown",
   "id": "df371c0c-6d23-45e8-b4cd-273975404074",
   "metadata": {},
   "source": [
    "### Config Dictionaries\n",
    "Sets up post-processing"
   ]
  },
  {
   "cell_type": "code",
   "execution_count": 6,
   "id": "5491c464-fc91-4ef1-acbf-e027acaef087",
   "metadata": {},
   "outputs": [],
   "source": [
    "archive_dir = '/glade/derecho/scratch/afoster/FATES_calibration/'\n",
    "hist_dir = '/glade/work/afoster/FATES_calibration/history_files/'\n",
    "years = [2000, 2014]\n",
    "\n",
    "ensemble_dict = {\n",
    "    'fates_oaat': {\n",
    "        'top_dir': os.path.join(archive_dir, 'fates_oaat/archive'),\n",
    "        'postp_dir': os.path.join(hist_dir, 'fates_oaat'),\n",
    "        'out_dir': os.path.join(hist_dir, 'compiled_files'),\n",
    "        'years': years,\n",
    "        'ensemble_name': 'fates_oaat',\n",
    "        'clobber': False,\n",
    "        'default_dir': '/glade/derecho/scratch/afoster/archive/ctsm60SP_fates_sparse_vai_default',\n",
    "        'key': fates_oaat_key,\n",
    "        'tag': 'ctsm60SP_fates_sparse_vai_FATES_OAAT_',\n",
    "        'vars': fates_vars\n",
    "    },\n",
    "    'fates_oaat_clmpars': {\n",
    "        'top_dir': os.path.join(archive_dir, 'fates_oaat_clmpars/archive'),\n",
    "        'postp_dir': os.path.join(hist_dir, 'fates_oaat_clmpars'),\n",
    "        'out_dir': os.path.join(hist_dir, 'compiled_files'),\n",
    "        'years': years,\n",
    "        'ensemble_name': 'fates_oaat_clmpars',\n",
    "        'default_dir': '/glade/derecho/scratch/afoster/archive/ctsm60SP_fates_sparse_vai_default',\n",
    "        'clobber': False,\n",
    "        'key': clm_param_key,\n",
    "        'tag': 'ctsm60SP_fates_sparse_vai_CLM6SPoaat',\n",
    "        'vars': fates_vars},\n",
    "    'clm_oaat_btran': {\n",
    "        'top_dir': os.path.join(archive_dir, 'clm_oaat/archive'),\n",
    "        'postp_dir': os.path.join(hist_dir, 'clm_oaat'),\n",
    "        'out_dir': os.path.join(hist_dir, 'compiled_files'),\n",
    "        'years': years,\n",
    "        'ensemble_name': 'clm_oaat',\n",
    "        'default_dir': '/glade/derecho/scratch/afoster/archive/ctsm60SP_bigleaf_sparse_default',\n",
    "        'clobber': False,\n",
    "        'fates': False,\n",
    "        'key': clm_param_key,\n",
    "        'tag': 'ctsm60SP_bigleaf_sparse_CLM6SPoaat',\n",
    "        'vars': clm_vars\n",
    "    },\n",
    "}"
   ]
  },
  {
   "cell_type": "code",
   "execution_count": 7,
   "id": "ef388ea5-c905-48e2-a703-26f651bbd478",
   "metadata": {},
   "outputs": [],
   "source": [
    "ensemble = 'fates_oaat'"
   ]
  },
  {
   "cell_type": "markdown",
   "id": "fb06b123-4952-4059-bccf-ff0a73e740a4",
   "metadata": {},
   "source": [
    "## Post-Process History Files\n",
    "Write one history file per ensemble member to a file in the post-processing directory."
   ]
  },
  {
   "cell_type": "code",
   "execution_count": null,
   "id": "69a1a9f0-968a-4fc0-8122-043258db77ad",
   "metadata": {},
   "outputs": [],
   "source": [
    "# write out history files\n",
    "keys_finished = analysis.post_process_ensemble(ensemble_dict[ensemble],\n",
    "                                               ensemble_dict[ensemble]['vars'],\n",
    "                                               whittaker_ds)"
   ]
  },
  {
   "cell_type": "code",
   "execution_count": null,
   "id": "90f61ac4-cdd7-4f94-abd1-64359bc62d92",
   "metadata": {},
   "outputs": [],
   "source": [
    "# check to see if we are missing any ensembles\n",
    "not_run = analysis.check_ensembles_run(ensemble_dict[ensemble]['key'], keys_finished)"
   ]
  },
  {
   "cell_type": "markdown",
   "id": "71231cec-245a-4dd7-9eee-87faddd291cc",
   "metadata": {},
   "source": [
    "Now compile and do some averaging (by year, month, gridcell, etc.)"
   ]
  },
  {
   "cell_type": "code",
   "execution_count": null,
   "id": "b2360cd2-2efc-4f7f-8961-453731870a63",
   "metadata": {},
   "outputs": [],
   "source": [
    "# analysis.compile_global_ensemble(ensemble_dict[ensemble], out_vars, var_dict, \n",
    "#                                   sparse_grid, land_area, target_grid.land_area)"
   ]
  }
 ],
 "metadata": {
  "kernelspec": {
   "display_name": "Python [conda env:fates_calibration]",
   "language": "python",
   "name": "conda-env-fates_calibration-py"
  },
  "language_info": {
   "codemirror_mode": {
    "name": "ipython",
    "version": 3
   },
   "file_extension": ".py",
   "mimetype": "text/x-python",
   "name": "python",
   "nbconvert_exporter": "python",
   "pygments_lexer": "ipython3",
   "version": "3.11.10"
  }
 },
 "nbformat": 4,
 "nbformat_minor": 5
}
