{
 "cells": [
  {
   "cell_type": "markdown",
   "id": "f1f0e899-1a57-4c7f-811a-1a44db3bd80f",
   "metadata": {},
   "source": [
    "# Post-Process FATES or CLM Ensemble"
   ]
  },
  {
   "cell_type": "code",
   "execution_count": 1,
   "id": "0bf99e97-ca27-47e2-873d-f94e008b48b4",
   "metadata": {},
   "outputs": [],
   "source": [
    "import os\n",
    "import numpy as np\n",
    "import xarray as xr\n",
    "import dask\n",
    "from dask_jobqueue import PBSCluster\n",
    "from dask.distributed import Client\n",
    "\n",
    "import fates_calibration_library.analysis_functions as analysis\n",
    "import fates_calibration_library.utils as utils"
   ]
  },
  {
   "cell_type": "code",
   "execution_count": 2,
   "id": "efdc3d98-faf2-4a55-ac77-87cfeb28eade",
   "metadata": {},
   "outputs": [
    {
     "name": "stderr",
     "output_type": "stream",
     "text": [
      "/glade/work/afoster/conda-envs/fates_calibration/lib/python3.11/site-packages/distributed/node.py:182: UserWarning: Port 8787 is already in use.\n",
      "Perhaps you already have a cluster running?\n",
      "Hosting the HTTP server on port 40445 instead\n",
      "  warnings.warn(\n"
     ]
    }
   ],
   "source": [
    "# Setup PBSCluster\n",
    "cluster = PBSCluster(\n",
    "    cores=1,                                                   # The number of cores you want\n",
    "    memory='25GB',                                             # Amount of memory\n",
    "    processes=1,                                               # How many processes\n",
    "    queue='casper',                                            # The type of queue to utilize\n",
    "    local_directory='/glade/work/afoster',                     # Use your local directory\n",
    "    resource_spec='select=1:ncpus=1:mem=25GB',                 # Specify resources\n",
    "    log_directory='/glade/derecho/scratch/afoster/dask_logs',  # log directory\n",
    "    account='P08010000',                                       # Input your project ID here\n",
    "    walltime='02:00:00',                                       # Amount of wall time\n",
    "    interface='ext')                                           # Interface to use"
   ]
  },
  {
   "cell_type": "code",
   "execution_count": 3,
   "id": "2da212d5-8667-4f23-a218-f825596d1b64",
   "metadata": {},
   "outputs": [
    {
     "data": {
      "text/html": [
       "<div>\n",
       "    <div style=\"width: 24px; height: 24px; background-color: #e1e1e1; border: 3px solid #9D9D9D; border-radius: 5px; position: absolute;\"> </div>\n",
       "    <div style=\"margin-left: 48px;\">\n",
       "        <h3 style=\"margin-bottom: 0px;\">Client</h3>\n",
       "        <p style=\"color: #9D9D9D; margin-bottom: 0px;\">Client-80914c3a-1af2-11f0-9b05-10ffe07f3d3e</p>\n",
       "        <table style=\"width: 100%; text-align: left;\">\n",
       "\n",
       "        <tr>\n",
       "        \n",
       "            <td style=\"text-align: left;\"><strong>Connection method:</strong> Cluster object</td>\n",
       "            <td style=\"text-align: left;\"><strong>Cluster type:</strong> dask_jobqueue.PBSCluster</td>\n",
       "        \n",
       "        </tr>\n",
       "\n",
       "        \n",
       "            <tr>\n",
       "                <td style=\"text-align: left;\">\n",
       "                    <strong>Dashboard: </strong> <a href=\"https://jupyterhub.hpc.ucar.edu/stable/user/afoster/proxy/40445/status\" target=\"_blank\">https://jupyterhub.hpc.ucar.edu/stable/user/afoster/proxy/40445/status</a>\n",
       "                </td>\n",
       "                <td style=\"text-align: left;\"></td>\n",
       "            </tr>\n",
       "        \n",
       "\n",
       "        </table>\n",
       "\n",
       "        \n",
       "\n",
       "        \n",
       "            <details>\n",
       "            <summary style=\"margin-bottom: 20px;\"><h3 style=\"display: inline;\">Cluster Info</h3></summary>\n",
       "            <div class=\"jp-RenderedHTMLCommon jp-RenderedHTML jp-mod-trusted jp-OutputArea-output\">\n",
       "    <div style=\"width: 24px; height: 24px; background-color: #e1e1e1; border: 3px solid #9D9D9D; border-radius: 5px; position: absolute;\">\n",
       "    </div>\n",
       "    <div style=\"margin-left: 48px;\">\n",
       "        <h3 style=\"margin-bottom: 0px; margin-top: 0px;\">PBSCluster</h3>\n",
       "        <p style=\"color: #9D9D9D; margin-bottom: 0px;\">1f6e4a57</p>\n",
       "        <table style=\"width: 100%; text-align: left;\">\n",
       "            <tr>\n",
       "                <td style=\"text-align: left;\">\n",
       "                    <strong>Dashboard:</strong> <a href=\"https://jupyterhub.hpc.ucar.edu/stable/user/afoster/proxy/40445/status\" target=\"_blank\">https://jupyterhub.hpc.ucar.edu/stable/user/afoster/proxy/40445/status</a>\n",
       "                </td>\n",
       "                <td style=\"text-align: left;\">\n",
       "                    <strong>Workers:</strong> 0\n",
       "                </td>\n",
       "            </tr>\n",
       "            <tr>\n",
       "                <td style=\"text-align: left;\">\n",
       "                    <strong>Total threads:</strong> 0\n",
       "                </td>\n",
       "                <td style=\"text-align: left;\">\n",
       "                    <strong>Total memory:</strong> 0 B\n",
       "                </td>\n",
       "            </tr>\n",
       "            \n",
       "        </table>\n",
       "\n",
       "        <details>\n",
       "            <summary style=\"margin-bottom: 20px;\">\n",
       "                <h3 style=\"display: inline;\">Scheduler Info</h3>\n",
       "            </summary>\n",
       "\n",
       "            <div style=\"\">\n",
       "    <div>\n",
       "        <div style=\"width: 24px; height: 24px; background-color: #FFF7E5; border: 3px solid #FF6132; border-radius: 5px; position: absolute;\"> </div>\n",
       "        <div style=\"margin-left: 48px;\">\n",
       "            <h3 style=\"margin-bottom: 0px;\">Scheduler</h3>\n",
       "            <p style=\"color: #9D9D9D; margin-bottom: 0px;\">Scheduler-ba7f0e05-89c7-4c8b-9c55-136d39631369</p>\n",
       "            <table style=\"width: 100%; text-align: left;\">\n",
       "                <tr>\n",
       "                    <td style=\"text-align: left;\">\n",
       "                        <strong>Comm:</strong> tcp://128.117.208.173:44005\n",
       "                    </td>\n",
       "                    <td style=\"text-align: left;\">\n",
       "                        <strong>Workers:</strong> 0\n",
       "                    </td>\n",
       "                </tr>\n",
       "                <tr>\n",
       "                    <td style=\"text-align: left;\">\n",
       "                        <strong>Dashboard:</strong> <a href=\"https://jupyterhub.hpc.ucar.edu/stable/user/afoster/proxy/40445/status\" target=\"_blank\">https://jupyterhub.hpc.ucar.edu/stable/user/afoster/proxy/40445/status</a>\n",
       "                    </td>\n",
       "                    <td style=\"text-align: left;\">\n",
       "                        <strong>Total threads:</strong> 0\n",
       "                    </td>\n",
       "                </tr>\n",
       "                <tr>\n",
       "                    <td style=\"text-align: left;\">\n",
       "                        <strong>Started:</strong> Just now\n",
       "                    </td>\n",
       "                    <td style=\"text-align: left;\">\n",
       "                        <strong>Total memory:</strong> 0 B\n",
       "                    </td>\n",
       "                </tr>\n",
       "            </table>\n",
       "        </div>\n",
       "    </div>\n",
       "\n",
       "    <details style=\"margin-left: 48px;\">\n",
       "        <summary style=\"margin-bottom: 20px;\">\n",
       "            <h3 style=\"display: inline;\">Workers</h3>\n",
       "        </summary>\n",
       "\n",
       "        \n",
       "\n",
       "    </details>\n",
       "</div>\n",
       "\n",
       "        </details>\n",
       "    </div>\n",
       "</div>\n",
       "            </details>\n",
       "        \n",
       "\n",
       "    </div>\n",
       "</div>"
      ],
      "text/plain": [
       "<Client: 'tcp://128.117.208.173:44005' processes=0 threads=0, memory=0 B>"
      ]
     },
     "execution_count": 3,
     "metadata": {},
     "output_type": "execute_result"
    }
   ],
   "source": [
    "cluster.scale(30)\n",
    "dask.config.set({\n",
    "    'distributed.dashboard.link': 'https://jupyterhub.hpc.ucar.edu/stable/user/{USER}/proxy/{port}/status'\n",
    "})\n",
    "client = Client(cluster)\n",
    "client"
   ]
  },
  {
   "cell_type": "markdown",
   "id": "f4b93087-f589-4624-893b-80576c24209c",
   "metadata": {},
   "source": [
    "## Set Up\n",
    "\n",
    "First specify history variables and variables to process"
   ]
  },
  {
   "cell_type": "code",
   "execution_count": 4,
   "id": "5dbba517-a5f6-4003-b9d4-245053565200",
   "metadata": {},
   "outputs": [],
   "source": [
    "fates_vars = ['FATES_FRACTION', 'FATES_GPP', 'FATES_LAI', 'QVEGE',\n",
    "              'QVEGT', 'EFLX_LH_TOT', 'FSH', 'FSR', 'FSDS', 'FSA',\n",
    "              'FIRE', 'FLDS', 'FCTR', 'FCEV', 'FGEV', 'BTRANMN',\n",
    "              'FGR', 'SOILWATER_10CM', 'TWS', 'QRUNOFF', 'SNOWDP',\n",
    "              'TV', 'TG', 'TSA', 'TBOT']\n",
    "\n",
    "clm_vars = ['FPSN', 'TLAI', 'QVEGE', 'QVEGT', 'EFLX_LH_TOT', 'FSH',\n",
    "            'FSR', 'FSDS', 'FSA', 'FIRE', 'FLDS', 'FCTR', 'FCEV',\n",
    "            'FGEV', 'BTRANMN', 'FGR', 'SOILWATER_10CM', 'TWS',\n",
    "            'QRUNOFF', 'SNOWDP', 'TV', 'TG', 'TSA', 'TBOT']\n",
    "\n",
    "out_vars = ['GPP', 'LAI', 'EFLX_LH_TOT', 'FSH', 'EF', 'SOILWATER_10CM', 'ASA',\n",
    "            'FSR', 'FSA', 'FIRE', 'RLNS', 'RN', 'BTRANMN', 'TV']"
   ]
  },
  {
   "cell_type": "markdown",
   "id": "43f8ac91-cda8-4003-af9b-a81445cf02c9",
   "metadata": {},
   "source": [
    "### Files Needed"
   ]
  },
  {
   "cell_type": "code",
   "execution_count": 7,
   "id": "c57132c5-3a86-4263-9ad3-803c7bee9aef",
   "metadata": {},
   "outputs": [],
   "source": [
    "# sparse grid whittaker biomes\n",
    "whittaker_ds = xr.open_dataset('/glade/work/afoster/FATES_calibration/observations/whittaker/whitkey.nc')\n",
    "\n",
    "# sparsegrid landarea - needed for unit conversion\n",
    "land_area_file = '/glade/work/afoster/FATES_calibration/CLM5PPE/postp/sparsegrid_landarea.nc'\n",
    "land_area = xr.open_dataset(land_area_file).landarea\n",
    "\n",
    "# config file with conversion information in it\n",
    "var_config = '/glade/work/afoster/FATES_calibration/fates_calibration_library/configs/model_conversion.yaml'\n",
    "var_dict = utils.get_config_file(var_config)"
   ]
  },
  {
   "cell_type": "code",
   "execution_count": 25,
   "id": "e374caf8-c91f-4fd0-8c06-51e9cc640f74",
   "metadata": {},
   "outputs": [],
   "source": [
    "def post_process_ensemble(run_dict, vars, biome):\n",
    "    \n",
    "    # this is true\n",
    "    run_dict['ensemble'] = True\n",
    "    \n",
    "    # create output directory if it doesn't exist\n",
    "    os.makedirs(run_dict['postp_dir'], exist_ok=True)\n",
    "    \n",
    "    keys_finished = []\n",
    "    dirs = sorted(os.listdir(run_dict['top_dir']))\n",
    "    \n",
    "    for dir in dirs:\n",
    "        ensemble = dir.split('_')[-1]\n",
    "        out_file = os.path.join(run_dict['postp_dir'], f\"{dir}.nc\")\n",
    "        \n",
    "        # skip if file exists and clobber is False\n",
    "        if os.path.isfile(out_file) and not run_dict.get(\"clobber\", False):\n",
    "            print(f\"File {out_file} for ensemble {ensemble} exists, skipping\")\n",
    "            keys_finished.append(ensemble)\n",
    "            continue\n",
    "    \n",
    "        # create history file for this ensemble\n",
    "        ds_out = analysis.post_process_ds(os.path.join(run_dict['top_dir'], dir, 'lnd', 'hist'),\n",
    "                                          vars, biome, years, run_dict=run_dict)\n",
    "        # write to file\n",
    "        if ds_out is not None:\n",
    "            if len(ds_out.time) == (run_dict['years'][1] - run_dict['years'][0] + 1)*12:\n",
    "                ds_out.to_netcdf(out_file)\n",
    "                keys_finished.append(ensemble)\n",
    "    \n",
    "    return keys_finished"
   ]
  },
  {
   "cell_type": "code",
   "execution_count": 24,
   "id": "5491c464-fc91-4ef1-acbf-e027acaef087",
   "metadata": {},
   "outputs": [],
   "source": [
    "run_dict = {'fates_oaat': {\n",
    "    'top_dir': '/glade/derecho/scratch/afoster/FATES_calibration/fates_oaat/archive',\n",
    "    'postp_dir': '/glade/work/afoster/FATES_calibration/history_files/fates_oaat',\n",
    "    'years': [2000, 2014],\n",
    "    'clobber': False,\n",
    "}}"
   ]
  },
  {
   "cell_type": "code",
   "execution_count": null,
   "id": "69a1a9f0-968a-4fc0-8122-043258db77ad",
   "metadata": {},
   "outputs": [],
   "source": [
    "keys_finished = post_process_ensemble(run_dict['fates_oaat'], fates_vars, whittaker_ds)"
   ]
  },
  {
   "cell_type": "code",
   "execution_count": null,
   "id": "f47ad06b-e6c5-43c9-8ca7-a317f15de2a3",
   "metadata": {},
   "outputs": [],
   "source": []
  }
 ],
 "metadata": {
  "kernelspec": {
   "display_name": "Python [conda env:fates_calibration]",
   "language": "python",
   "name": "conda-env-fates_calibration-py"
  },
  "language_info": {
   "codemirror_mode": {
    "name": "ipython",
    "version": 3
   },
   "file_extension": ".py",
   "mimetype": "text/x-python",
   "name": "python",
   "nbconvert_exporter": "python",
   "pygments_lexer": "ipython3",
   "version": "3.11.10"
  }
 },
 "nbformat": 4,
 "nbformat_minor": 5
}
